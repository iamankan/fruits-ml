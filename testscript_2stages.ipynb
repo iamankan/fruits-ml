{
 "cells": [
  {
   "cell_type": "markdown",
   "id": "4375ee6a",
   "metadata": {},
   "source": [
    "# Quality"
   ]
  },
  {
   "cell_type": "code",
   "execution_count": 1,
   "id": "65df80d4",
   "metadata": {},
   "outputs": [],
   "source": [
    "import tensorflow as tf\n",
    "from keras import backend as K\n",
    "\n",
    "import os\n",
    "from keras.models import Model\n",
    "from tensorflow.keras.optimizers import Adam\n",
    "from keras.applications.vgg16 import VGG16, preprocess_input\n",
    "from keras.preprocessing.image import ImageDataGenerator\n",
    "from keras.callbacks import ModelCheckpoint, EarlyStopping\n",
    "from keras.layers import Dense, Dropout, Flatten\n",
    "from pathlib import Path\n",
    "import numpy as np"
   ]
  },
  {
   "cell_type": "markdown",
   "id": "e6d43384",
   "metadata": {},
   "source": [
    "### Load model"
   ]
  },
  {
   "cell_type": "code",
   "execution_count": 2,
   "id": "722911f0",
   "metadata": {},
   "outputs": [],
   "source": [
    "quality_model_file = f'model_quality'\n",
    "# /tl-vgg16-rms-prop-model_*\n",
    "model_quality_path = Path(quality_model_file)"
   ]
  },
  {
   "cell_type": "code",
   "execution_count": 3,
   "id": "b0c09c06",
   "metadata": {},
   "outputs": [
    {
     "name": "stdout",
     "output_type": "stream",
     "text": [
      "tl-vgg16-rms-prop-model_02.h5\n",
      "tl-vgg16-rms-prop-model_04.h5\n",
      "tl-vgg16-rms-prop-model_15.h5\n",
      "tl-vgg16-rms-prop-model_13.h5\n",
      "tl-vgg16-rms-prop-model_11.h5\n",
      "tl-vgg16-rms-prop-model_05.h5\n",
      "tl-vgg16-rms-prop-model_10.h5\n",
      "tl-vgg16-rms-prop-model_09.h5\n",
      "tl-vgg16-rms-prop-model_07.h5\n",
      "tl-vgg16-rms-prop-model_12.h5\n",
      "tl-vgg16-rms-prop-model_14.h5\n",
      "tl-vgg16-rms-prop-model_17.h5\n",
      "tl-vgg16-rms-prop-model_19.h5\n",
      "tl-vgg16-rms-prop-model_06.h5\n",
      "tl-vgg16-rms-prop-model_20.h5\n",
      "tl-vgg16-rms-prop-model_03.h5\n",
      "tl-vgg16-rms-prop-model_18.h5\n",
      "tl-vgg16-rms-prop-model_08.h5\n",
      "tl-vgg16-rms-prop-model_01.h5\n",
      "tl-vgg16-rms-prop-model_16.h5\n"
     ]
    }
   ],
   "source": [
    "for model_name in model_quality_path.glob('*model_*'):\n",
    "    print(model_name.name)"
   ]
  },
  {
   "cell_type": "code",
   "execution_count": 2,
   "id": "cf7c63a5",
   "metadata": {},
   "outputs": [],
   "source": [
    "def evaluate(model_name, imgen, batch_size=32):\n",
    "    from sklearn.metrics import classification_report, confusion_matrix\n",
    "    \n",
    "    base_model = keras.models.load_model(model_name)\n",
    "#     base_model.summary()\n",
    "    base_model.trainable = False\n",
    "    model = base_model\n",
    "    model.compile(optimizer=keras.optimizers.RMSprop(),\n",
    "              loss=keras.losses.CategoricalCrossentropy(),\n",
    "              metrics=[keras.metrics.CategoricalAccuracy()])\n",
    "    classes = imgen.class_indices\n",
    "    class_list = ['']*len(classes)\n",
    "    for k, v in classes.items():\n",
    "        class_list[v] = k\n",
    "    num_of_test_samples = len(imgen.classes)\n",
    "    batch_size = batch_size\n",
    "    #Confution Matrix and Classification Report\n",
    "    Y_pred = model.predict_generator(imgen, num_of_test_samples)\n",
    "    print(Y_pred)\n",
    "    y_pred = np.argmax(Y_pred, axis=1)\n",
    "#     print(y_pred)\n",
    "#     print(imgen.classes)\n",
    "    print('Confusion Matrix')\n",
    "    print(confusion_matrix(imgen.classes, y_pred))\n",
    "    print('Classification Report')\n",
    "    target_names = class_list\n",
    "    print(classification_report(imgen.classes, y_pred, target_names=target_names))"
   ]
  },
  {
   "cell_type": "markdown",
   "id": "b69fea2f",
   "metadata": {},
   "source": [
    "### Load data"
   ]
  },
  {
   "cell_type": "code",
   "execution_count": 23,
   "id": "dc625adc",
   "metadata": {},
   "outputs": [
    {
     "name": "stdout",
     "output_type": "stream",
     "text": [
      "Found 3691 images belonging to 2 classes.\n"
     ]
    }
   ],
   "source": [
    "BATCH_SIZE = 10\n",
    "test_data_dir = f'fruit_data_quality/Test'\n",
    "test_generator = ImageDataGenerator(preprocessing_function=preprocess_input)\n",
    "testgen = test_generator.flow_from_directory(test_data_dir,\n",
    "                                             target_size=(224, 224),\n",
    "                                             class_mode='categorical',\n",
    "                                             batch_size=BATCH_SIZE,\n",
    "                                             shuffle=False,\n",
    "                                             seed=42)"
   ]
  },
  {
   "cell_type": "markdown",
   "id": "582bf04a",
   "metadata": {},
   "source": [
    "### Evaluate"
   ]
  },
  {
   "cell_type": "code",
   "execution_count": 24,
   "id": "4cbe7673",
   "metadata": {},
   "outputs": [
    {
     "name": "stdout",
     "output_type": "stream",
     "text": [
      "tl-vgg16-rms-prop-model_02.h5\n"
     ]
    },
    {
     "name": "stderr",
     "output_type": "stream",
     "text": [
      "/tmp/ipykernel_52851/2584673372.py:18: UserWarning: `Model.predict_generator` is deprecated and will be removed in a future version. Please use `Model.predict`, which supports generators.\n",
      "  Y_pred = model.predict_generator(imgen, num_of_test_samples)\n"
     ]
    },
    {
     "name": "stdout",
     "output_type": "stream",
     "text": [
      "WARNING:tensorflow:Your input ran out of data; interrupting training. Make sure that your dataset or generator can generate at least `steps_per_epoch * epochs` batches (in this case, 3691 batches). You may need to use the repeat() function when building your dataset.\n",
      "[[9.9999994e-01 0.0000000e+00]\n",
      " [9.9999994e-01 1.4997924e-15]\n",
      " [0.0000000e+00 9.9999994e-01]\n",
      " ...\n",
      " [0.0000000e+00 1.0000000e+00]\n",
      " [0.0000000e+00 1.0000000e+00]\n",
      " [0.0000000e+00 1.0000000e+00]]\n",
      "Confusion Matrix\n",
      "[[ 876  482]\n",
      " [   2 2331]]\n",
      "Classification Report\n",
      "              precision    recall  f1-score   support\n",
      "\n",
      "         Bad       1.00      0.65      0.78      1358\n",
      "        Good       0.83      1.00      0.91      2333\n",
      "\n",
      "    accuracy                           0.87      3691\n",
      "   macro avg       0.91      0.82      0.84      3691\n",
      "weighted avg       0.89      0.87      0.86      3691\n",
      "\n",
      "tl-vgg16-rms-prop-model_04.h5\n"
     ]
    },
    {
     "name": "stderr",
     "output_type": "stream",
     "text": [
      "/tmp/ipykernel_52851/2584673372.py:18: UserWarning: `Model.predict_generator` is deprecated and will be removed in a future version. Please use `Model.predict`, which supports generators.\n",
      "  Y_pred = model.predict_generator(imgen, num_of_test_samples)\n"
     ]
    },
    {
     "name": "stdout",
     "output_type": "stream",
     "text": [
      "WARNING:tensorflow:Your input ran out of data; interrupting training. Make sure that your dataset or generator can generate at least `steps_per_epoch * epochs` batches (in this case, 3691 batches). You may need to use the repeat() function when building your dataset.\n",
      "[[0.99999994 0.        ]\n",
      " [0.99999994 0.        ]\n",
      " [0.         0.99999994]\n",
      " ...\n",
      " [0.         1.        ]\n",
      " [0.         1.        ]\n",
      " [0.         1.        ]]\n",
      "Confusion Matrix\n",
      "[[ 760  598]\n",
      " [   1 2332]]\n",
      "Classification Report\n",
      "              precision    recall  f1-score   support\n",
      "\n",
      "         Bad       1.00      0.56      0.72      1358\n",
      "        Good       0.80      1.00      0.89      2333\n",
      "\n",
      "    accuracy                           0.84      3691\n",
      "   macro avg       0.90      0.78      0.80      3691\n",
      "weighted avg       0.87      0.84      0.82      3691\n",
      "\n",
      "tl-vgg16-rms-prop-model_15.h5\n"
     ]
    },
    {
     "name": "stderr",
     "output_type": "stream",
     "text": [
      "/tmp/ipykernel_52851/2584673372.py:18: UserWarning: `Model.predict_generator` is deprecated and will be removed in a future version. Please use `Model.predict`, which supports generators.\n",
      "  Y_pred = model.predict_generator(imgen, num_of_test_samples)\n"
     ]
    },
    {
     "name": "stdout",
     "output_type": "stream",
     "text": [
      "WARNING:tensorflow:Your input ran out of data; interrupting training. Make sure that your dataset or generator can generate at least `steps_per_epoch * epochs` batches (in this case, 3691 batches). You may need to use the repeat() function when building your dataset.\n",
      "[[0.99999994 0.        ]\n",
      " [0.99999994 0.        ]\n",
      " [0.         0.99999994]\n",
      " ...\n",
      " [0.         1.        ]\n",
      " [0.         1.        ]\n",
      " [0.         1.        ]]\n",
      "Confusion Matrix\n",
      "[[ 894  464]\n",
      " [   1 2332]]\n",
      "Classification Report\n",
      "              precision    recall  f1-score   support\n",
      "\n",
      "         Bad       1.00      0.66      0.79      1358\n",
      "        Good       0.83      1.00      0.91      2333\n",
      "\n",
      "    accuracy                           0.87      3691\n",
      "   macro avg       0.92      0.83      0.85      3691\n",
      "weighted avg       0.89      0.87      0.87      3691\n",
      "\n",
      "tl-vgg16-rms-prop-model_13.h5\n"
     ]
    },
    {
     "name": "stderr",
     "output_type": "stream",
     "text": [
      "/tmp/ipykernel_52851/2584673372.py:18: UserWarning: `Model.predict_generator` is deprecated and will be removed in a future version. Please use `Model.predict`, which supports generators.\n",
      "  Y_pred = model.predict_generator(imgen, num_of_test_samples)\n"
     ]
    },
    {
     "name": "stdout",
     "output_type": "stream",
     "text": [
      "WARNING:tensorflow:Your input ran out of data; interrupting training. Make sure that your dataset or generator can generate at least `steps_per_epoch * epochs` batches (in this case, 3691 batches). You may need to use the repeat() function when building your dataset.\n",
      "[[0.99999994 0.        ]\n",
      " [0.         0.99999994]\n",
      " [0.         0.99999994]\n",
      " ...\n",
      " [0.         1.        ]\n",
      " [0.         1.        ]\n",
      " [0.         1.        ]]\n",
      "Confusion Matrix\n",
      "[[ 788  570]\n",
      " [   0 2333]]\n",
      "Classification Report\n",
      "              precision    recall  f1-score   support\n",
      "\n",
      "         Bad       1.00      0.58      0.73      1358\n",
      "        Good       0.80      1.00      0.89      2333\n",
      "\n",
      "    accuracy                           0.85      3691\n",
      "   macro avg       0.90      0.79      0.81      3691\n",
      "weighted avg       0.88      0.85      0.83      3691\n",
      "\n",
      "tl-vgg16-rms-prop-model_11.h5\n"
     ]
    },
    {
     "name": "stderr",
     "output_type": "stream",
     "text": [
      "/tmp/ipykernel_52851/2584673372.py:18: UserWarning: `Model.predict_generator` is deprecated and will be removed in a future version. Please use `Model.predict`, which supports generators.\n",
      "  Y_pred = model.predict_generator(imgen, num_of_test_samples)\n"
     ]
    },
    {
     "name": "stdout",
     "output_type": "stream",
     "text": [
      "WARNING:tensorflow:Your input ran out of data; interrupting training. Make sure that your dataset or generator can generate at least `steps_per_epoch * epochs` batches (in this case, 3691 batches). You may need to use the repeat() function when building your dataset.\n",
      "[[0.99999994 0.        ]\n",
      " [0.         0.99999994]\n",
      " [0.         0.99999994]\n",
      " ...\n",
      " [0.         1.        ]\n",
      " [0.         1.        ]\n",
      " [0.         1.        ]]\n",
      "Confusion Matrix\n",
      "[[ 717  641]\n",
      " [   1 2332]]\n",
      "Classification Report\n",
      "              precision    recall  f1-score   support\n",
      "\n",
      "         Bad       1.00      0.53      0.69      1358\n",
      "        Good       0.78      1.00      0.88      2333\n",
      "\n",
      "    accuracy                           0.83      3691\n",
      "   macro avg       0.89      0.76      0.78      3691\n",
      "weighted avg       0.86      0.83      0.81      3691\n",
      "\n",
      "tl-vgg16-rms-prop-model_05.h5\n"
     ]
    },
    {
     "name": "stderr",
     "output_type": "stream",
     "text": [
      "/tmp/ipykernel_52851/2584673372.py:18: UserWarning: `Model.predict_generator` is deprecated and will be removed in a future version. Please use `Model.predict`, which supports generators.\n",
      "  Y_pred = model.predict_generator(imgen, num_of_test_samples)\n"
     ]
    },
    {
     "name": "stdout",
     "output_type": "stream",
     "text": [
      "WARNING:tensorflow:Your input ran out of data; interrupting training. Make sure that your dataset or generator can generate at least `steps_per_epoch * epochs` batches (in this case, 3691 batches). You may need to use the repeat() function when building your dataset.\n",
      "[[9.9999994e-01 0.0000000e+00]\n",
      " [9.9999994e-01 1.3694469e-23]\n",
      " [0.0000000e+00 9.9999994e-01]\n",
      " ...\n",
      " [0.0000000e+00 1.0000000e+00]\n",
      " [0.0000000e+00 1.0000000e+00]\n",
      " [0.0000000e+00 1.0000000e+00]]\n",
      "Confusion Matrix\n",
      "[[ 804  554]\n",
      " [   1 2332]]\n",
      "Classification Report\n",
      "              precision    recall  f1-score   support\n",
      "\n",
      "         Bad       1.00      0.59      0.74      1358\n",
      "        Good       0.81      1.00      0.89      2333\n",
      "\n",
      "    accuracy                           0.85      3691\n",
      "   macro avg       0.90      0.80      0.82      3691\n",
      "weighted avg       0.88      0.85      0.84      3691\n",
      "\n",
      "tl-vgg16-rms-prop-model_10.h5\n"
     ]
    },
    {
     "name": "stderr",
     "output_type": "stream",
     "text": [
      "/tmp/ipykernel_52851/2584673372.py:18: UserWarning: `Model.predict_generator` is deprecated and will be removed in a future version. Please use `Model.predict`, which supports generators.\n",
      "  Y_pred = model.predict_generator(imgen, num_of_test_samples)\n"
     ]
    },
    {
     "name": "stdout",
     "output_type": "stream",
     "text": [
      "WARNING:tensorflow:Your input ran out of data; interrupting training. Make sure that your dataset or generator can generate at least `steps_per_epoch * epochs` batches (in this case, 3691 batches). You may need to use the repeat() function when building your dataset.\n",
      "[[0.99999994 0.        ]\n",
      " [0.         0.99999994]\n",
      " [0.         0.99999994]\n",
      " ...\n",
      " [0.         1.        ]\n",
      " [0.         1.        ]\n",
      " [0.         1.        ]]\n",
      "Confusion Matrix\n",
      "[[ 757  601]\n",
      " [   1 2332]]\n",
      "Classification Report\n",
      "              precision    recall  f1-score   support\n",
      "\n",
      "         Bad       1.00      0.56      0.72      1358\n",
      "        Good       0.80      1.00      0.89      2333\n",
      "\n",
      "    accuracy                           0.84      3691\n",
      "   macro avg       0.90      0.78      0.80      3691\n",
      "weighted avg       0.87      0.84      0.82      3691\n",
      "\n",
      "tl-vgg16-rms-prop-model_09.h5\n"
     ]
    },
    {
     "name": "stderr",
     "output_type": "stream",
     "text": [
      "/tmp/ipykernel_52851/2584673372.py:18: UserWarning: `Model.predict_generator` is deprecated and will be removed in a future version. Please use `Model.predict`, which supports generators.\n",
      "  Y_pred = model.predict_generator(imgen, num_of_test_samples)\n"
     ]
    },
    {
     "name": "stdout",
     "output_type": "stream",
     "text": [
      "WARNING:tensorflow:Your input ran out of data; interrupting training. Make sure that your dataset or generator can generate at least `steps_per_epoch * epochs` batches (in this case, 3691 batches). You may need to use the repeat() function when building your dataset.\n",
      "[[9.9999994e-01 0.0000000e+00]\n",
      " [5.8903633e-14 9.9999994e-01]\n",
      " [0.0000000e+00 9.9999994e-01]\n",
      " ...\n",
      " [0.0000000e+00 1.0000000e+00]\n",
      " [0.0000000e+00 1.0000000e+00]\n",
      " [0.0000000e+00 1.0000000e+00]]\n",
      "Confusion Matrix\n",
      "[[ 777  581]\n",
      " [   0 2333]]\n",
      "Classification Report\n",
      "              precision    recall  f1-score   support\n",
      "\n",
      "         Bad       1.00      0.57      0.73      1358\n",
      "        Good       0.80      1.00      0.89      2333\n",
      "\n",
      "    accuracy                           0.84      3691\n",
      "   macro avg       0.90      0.79      0.81      3691\n",
      "weighted avg       0.87      0.84      0.83      3691\n",
      "\n",
      "tl-vgg16-rms-prop-model_07.h5\n"
     ]
    },
    {
     "name": "stderr",
     "output_type": "stream",
     "text": [
      "/tmp/ipykernel_52851/2584673372.py:18: UserWarning: `Model.predict_generator` is deprecated and will be removed in a future version. Please use `Model.predict`, which supports generators.\n",
      "  Y_pred = model.predict_generator(imgen, num_of_test_samples)\n"
     ]
    },
    {
     "name": "stdout",
     "output_type": "stream",
     "text": [
      "WARNING:tensorflow:Your input ran out of data; interrupting training. Make sure that your dataset or generator can generate at least `steps_per_epoch * epochs` batches (in this case, 3691 batches). You may need to use the repeat() function when building your dataset.\n",
      "[[9.9999994e-01 0.0000000e+00]\n",
      " [2.2721164e-25 9.9999994e-01]\n",
      " [0.0000000e+00 9.9999994e-01]\n",
      " ...\n",
      " [0.0000000e+00 1.0000000e+00]\n",
      " [0.0000000e+00 1.0000000e+00]\n",
      " [0.0000000e+00 1.0000000e+00]]\n",
      "Confusion Matrix\n",
      "[[ 798  560]\n",
      " [   0 2333]]\n",
      "Classification Report\n",
      "              precision    recall  f1-score   support\n",
      "\n",
      "         Bad       1.00      0.59      0.74      1358\n",
      "        Good       0.81      1.00      0.89      2333\n",
      "\n",
      "    accuracy                           0.85      3691\n",
      "   macro avg       0.90      0.79      0.82      3691\n",
      "weighted avg       0.88      0.85      0.84      3691\n",
      "\n",
      "tl-vgg16-rms-prop-model_12.h5\n"
     ]
    },
    {
     "name": "stderr",
     "output_type": "stream",
     "text": [
      "/tmp/ipykernel_52851/2584673372.py:18: UserWarning: `Model.predict_generator` is deprecated and will be removed in a future version. Please use `Model.predict`, which supports generators.\n",
      "  Y_pred = model.predict_generator(imgen, num_of_test_samples)\n"
     ]
    },
    {
     "name": "stdout",
     "output_type": "stream",
     "text": [
      "WARNING:tensorflow:Your input ran out of data; interrupting training. Make sure that your dataset or generator can generate at least `steps_per_epoch * epochs` batches (in this case, 3691 batches). You may need to use the repeat() function when building your dataset.\n",
      "[[9.9999994e-01 0.0000000e+00]\n",
      " [1.2115096e-31 9.9999994e-01]\n",
      " [0.0000000e+00 9.9999994e-01]\n",
      " ...\n",
      " [0.0000000e+00 1.0000000e+00]\n",
      " [0.0000000e+00 1.0000000e+00]\n",
      " [0.0000000e+00 1.0000000e+00]]\n",
      "Confusion Matrix\n",
      "[[ 845  513]\n",
      " [   0 2333]]\n",
      "Classification Report\n",
      "              precision    recall  f1-score   support\n",
      "\n",
      "         Bad       1.00      0.62      0.77      1358\n",
      "        Good       0.82      1.00      0.90      2333\n",
      "\n",
      "    accuracy                           0.86      3691\n",
      "   macro avg       0.91      0.81      0.83      3691\n",
      "weighted avg       0.89      0.86      0.85      3691\n",
      "\n",
      "tl-vgg16-rms-prop-model_14.h5\n"
     ]
    },
    {
     "name": "stderr",
     "output_type": "stream",
     "text": [
      "/tmp/ipykernel_52851/2584673372.py:18: UserWarning: `Model.predict_generator` is deprecated and will be removed in a future version. Please use `Model.predict`, which supports generators.\n",
      "  Y_pred = model.predict_generator(imgen, num_of_test_samples)\n"
     ]
    },
    {
     "name": "stdout",
     "output_type": "stream",
     "text": [
      "WARNING:tensorflow:Your input ran out of data; interrupting training. Make sure that your dataset or generator can generate at least `steps_per_epoch * epochs` batches (in this case, 3691 batches). You may need to use the repeat() function when building your dataset.\n",
      "[[0.99999994 0.        ]\n",
      " [0.99999994 0.        ]\n",
      " [0.         0.99999994]\n",
      " ...\n",
      " [0.         1.        ]\n",
      " [0.         1.        ]\n",
      " [0.         1.        ]]\n",
      "Confusion Matrix\n",
      "[[ 941  417]\n",
      " [   0 2333]]\n",
      "Classification Report\n",
      "              precision    recall  f1-score   support\n",
      "\n",
      "         Bad       1.00      0.69      0.82      1358\n",
      "        Good       0.85      1.00      0.92      2333\n",
      "\n",
      "    accuracy                           0.89      3691\n",
      "   macro avg       0.92      0.85      0.87      3691\n",
      "weighted avg       0.90      0.89      0.88      3691\n",
      "\n",
      "tl-vgg16-rms-prop-model_17.h5\n"
     ]
    },
    {
     "name": "stderr",
     "output_type": "stream",
     "text": [
      "/tmp/ipykernel_52851/2584673372.py:18: UserWarning: `Model.predict_generator` is deprecated and will be removed in a future version. Please use `Model.predict`, which supports generators.\n",
      "  Y_pred = model.predict_generator(imgen, num_of_test_samples)\n"
     ]
    },
    {
     "name": "stdout",
     "output_type": "stream",
     "text": [
      "WARNING:tensorflow:Your input ran out of data; interrupting training. Make sure that your dataset or generator can generate at least `steps_per_epoch * epochs` batches (in this case, 3691 batches). You may need to use the repeat() function when building your dataset.\n",
      "[[0.99999994 0.        ]\n",
      " [0.         0.99999994]\n",
      " [0.         0.99999994]\n",
      " ...\n",
      " [0.         1.        ]\n",
      " [0.         1.        ]\n",
      " [0.         1.        ]]\n",
      "Confusion Matrix\n",
      "[[ 719  639]\n",
      " [   0 2333]]\n",
      "Classification Report\n",
      "              precision    recall  f1-score   support\n",
      "\n",
      "         Bad       1.00      0.53      0.69      1358\n",
      "        Good       0.78      1.00      0.88      2333\n",
      "\n",
      "    accuracy                           0.83      3691\n",
      "   macro avg       0.89      0.76      0.79      3691\n",
      "weighted avg       0.86      0.83      0.81      3691\n",
      "\n",
      "tl-vgg16-rms-prop-model_19.h5\n"
     ]
    },
    {
     "name": "stderr",
     "output_type": "stream",
     "text": [
      "/tmp/ipykernel_52851/2584673372.py:18: UserWarning: `Model.predict_generator` is deprecated and will be removed in a future version. Please use `Model.predict`, which supports generators.\n",
      "  Y_pred = model.predict_generator(imgen, num_of_test_samples)\n"
     ]
    },
    {
     "name": "stdout",
     "output_type": "stream",
     "text": [
      "WARNING:tensorflow:Your input ran out of data; interrupting training. Make sure that your dataset or generator can generate at least `steps_per_epoch * epochs` batches (in this case, 3691 batches). You may need to use the repeat() function when building your dataset.\n",
      "[[0.99999994 0.        ]\n",
      " [0.         0.99999994]\n",
      " [0.         0.99999994]\n",
      " ...\n",
      " [0.         1.        ]\n",
      " [0.         1.        ]\n",
      " [0.         1.        ]]\n",
      "Confusion Matrix\n",
      "[[ 718  640]\n",
      " [   0 2333]]\n",
      "Classification Report\n",
      "              precision    recall  f1-score   support\n",
      "\n",
      "         Bad       1.00      0.53      0.69      1358\n",
      "        Good       0.78      1.00      0.88      2333\n",
      "\n",
      "    accuracy                           0.83      3691\n",
      "   macro avg       0.89      0.76      0.79      3691\n",
      "weighted avg       0.86      0.83      0.81      3691\n",
      "\n",
      "tl-vgg16-rms-prop-model_06.h5\n"
     ]
    },
    {
     "name": "stderr",
     "output_type": "stream",
     "text": [
      "/tmp/ipykernel_52851/2584673372.py:18: UserWarning: `Model.predict_generator` is deprecated and will be removed in a future version. Please use `Model.predict`, which supports generators.\n",
      "  Y_pred = model.predict_generator(imgen, num_of_test_samples)\n"
     ]
    },
    {
     "name": "stdout",
     "output_type": "stream",
     "text": [
      "WARNING:tensorflow:Your input ran out of data; interrupting training. Make sure that your dataset or generator can generate at least `steps_per_epoch * epochs` batches (in this case, 3691 batches). You may need to use the repeat() function when building your dataset.\n",
      "[[0.99999994 0.        ]\n",
      " [0.         0.99999994]\n",
      " [0.         0.99999994]\n",
      " ...\n",
      " [0.         1.        ]\n",
      " [0.         1.        ]\n",
      " [0.         1.        ]]\n",
      "Confusion Matrix\n",
      "[[ 512  846]\n",
      " [   0 2333]]\n",
      "Classification Report\n",
      "              precision    recall  f1-score   support\n",
      "\n",
      "         Bad       1.00      0.38      0.55      1358\n",
      "        Good       0.73      1.00      0.85      2333\n",
      "\n",
      "    accuracy                           0.77      3691\n",
      "   macro avg       0.87      0.69      0.70      3691\n",
      "weighted avg       0.83      0.77      0.74      3691\n",
      "\n",
      "tl-vgg16-rms-prop-model_20.h5\n"
     ]
    },
    {
     "name": "stderr",
     "output_type": "stream",
     "text": [
      "/tmp/ipykernel_52851/2584673372.py:18: UserWarning: `Model.predict_generator` is deprecated and will be removed in a future version. Please use `Model.predict`, which supports generators.\n",
      "  Y_pred = model.predict_generator(imgen, num_of_test_samples)\n"
     ]
    },
    {
     "name": "stdout",
     "output_type": "stream",
     "text": [
      "WARNING:tensorflow:Your input ran out of data; interrupting training. Make sure that your dataset or generator can generate at least `steps_per_epoch * epochs` batches (in this case, 3691 batches). You may need to use the repeat() function when building your dataset.\n",
      "[[0.99999994 0.        ]\n",
      " [0.         0.99999994]\n",
      " [0.         0.99999994]\n",
      " ...\n",
      " [0.         1.        ]\n",
      " [0.         1.        ]\n",
      " [0.         1.        ]]\n",
      "Confusion Matrix\n",
      "[[ 718  640]\n",
      " [   0 2333]]\n",
      "Classification Report\n",
      "              precision    recall  f1-score   support\n",
      "\n",
      "         Bad       1.00      0.53      0.69      1358\n",
      "        Good       0.78      1.00      0.88      2333\n",
      "\n",
      "    accuracy                           0.83      3691\n",
      "   macro avg       0.89      0.76      0.79      3691\n",
      "weighted avg       0.86      0.83      0.81      3691\n",
      "\n",
      "tl-vgg16-rms-prop-model_03.h5\n"
     ]
    },
    {
     "name": "stderr",
     "output_type": "stream",
     "text": [
      "/tmp/ipykernel_52851/2584673372.py:18: UserWarning: `Model.predict_generator` is deprecated and will be removed in a future version. Please use `Model.predict`, which supports generators.\n",
      "  Y_pred = model.predict_generator(imgen, num_of_test_samples)\n"
     ]
    },
    {
     "name": "stdout",
     "output_type": "stream",
     "text": [
      "WARNING:tensorflow:Your input ran out of data; interrupting training. Make sure that your dataset or generator can generate at least `steps_per_epoch * epochs` batches (in this case, 3691 batches). You may need to use the repeat() function when building your dataset.\n",
      "[[0.99999994 0.        ]\n",
      " [0.99999994 0.        ]\n",
      " [0.         0.99999994]\n",
      " ...\n",
      " [0.         1.        ]\n",
      " [0.         1.        ]\n",
      " [0.         1.        ]]\n",
      "Confusion Matrix\n",
      "[[ 880  478]\n",
      " [   1 2332]]\n",
      "Classification Report\n",
      "              precision    recall  f1-score   support\n",
      "\n",
      "         Bad       1.00      0.65      0.79      1358\n",
      "        Good       0.83      1.00      0.91      2333\n",
      "\n",
      "    accuracy                           0.87      3691\n",
      "   macro avg       0.91      0.82      0.85      3691\n",
      "weighted avg       0.89      0.87      0.86      3691\n",
      "\n",
      "tl-vgg16-rms-prop-model_18.h5\n"
     ]
    },
    {
     "name": "stderr",
     "output_type": "stream",
     "text": [
      "/tmp/ipykernel_52851/2584673372.py:18: UserWarning: `Model.predict_generator` is deprecated and will be removed in a future version. Please use `Model.predict`, which supports generators.\n",
      "  Y_pred = model.predict_generator(imgen, num_of_test_samples)\n"
     ]
    },
    {
     "name": "stdout",
     "output_type": "stream",
     "text": [
      "WARNING:tensorflow:Your input ran out of data; interrupting training. Make sure that your dataset or generator can generate at least `steps_per_epoch * epochs` batches (in this case, 3691 batches). You may need to use the repeat() function when building your dataset.\n",
      "[[0.99999994 0.        ]\n",
      " [0.         0.99999994]\n",
      " [0.         0.99999994]\n",
      " ...\n",
      " [0.         1.        ]\n",
      " [0.         1.        ]\n",
      " [0.         1.        ]]\n",
      "Confusion Matrix\n",
      "[[ 719  639]\n",
      " [   0 2333]]\n",
      "Classification Report\n",
      "              precision    recall  f1-score   support\n",
      "\n",
      "         Bad       1.00      0.53      0.69      1358\n",
      "        Good       0.78      1.00      0.88      2333\n",
      "\n",
      "    accuracy                           0.83      3691\n",
      "   macro avg       0.89      0.76      0.79      3691\n",
      "weighted avg       0.86      0.83      0.81      3691\n",
      "\n",
      "tl-vgg16-rms-prop-model_08.h5\n"
     ]
    },
    {
     "name": "stderr",
     "output_type": "stream",
     "text": [
      "/tmp/ipykernel_52851/2584673372.py:18: UserWarning: `Model.predict_generator` is deprecated and will be removed in a future version. Please use `Model.predict`, which supports generators.\n",
      "  Y_pred = model.predict_generator(imgen, num_of_test_samples)\n"
     ]
    },
    {
     "name": "stdout",
     "output_type": "stream",
     "text": [
      "WARNING:tensorflow:Your input ran out of data; interrupting training. Make sure that your dataset or generator can generate at least `steps_per_epoch * epochs` batches (in this case, 3691 batches). You may need to use the repeat() function when building your dataset.\n",
      "[[0.99999994 0.        ]\n",
      " [0.         0.99999994]\n",
      " [0.         0.99999994]\n",
      " ...\n",
      " [0.         1.        ]\n",
      " [0.         1.        ]\n",
      " [0.         1.        ]]\n",
      "Confusion Matrix\n",
      "[[ 737  621]\n",
      " [   0 2333]]\n",
      "Classification Report\n",
      "              precision    recall  f1-score   support\n",
      "\n",
      "         Bad       1.00      0.54      0.70      1358\n",
      "        Good       0.79      1.00      0.88      2333\n",
      "\n",
      "    accuracy                           0.83      3691\n",
      "   macro avg       0.89      0.77      0.79      3691\n",
      "weighted avg       0.87      0.83      0.82      3691\n",
      "\n",
      "tl-vgg16-rms-prop-model_01.h5\n"
     ]
    },
    {
     "name": "stderr",
     "output_type": "stream",
     "text": [
      "/tmp/ipykernel_52851/2584673372.py:18: UserWarning: `Model.predict_generator` is deprecated and will be removed in a future version. Please use `Model.predict`, which supports generators.\n",
      "  Y_pred = model.predict_generator(imgen, num_of_test_samples)\n"
     ]
    },
    {
     "name": "stdout",
     "output_type": "stream",
     "text": [
      "WARNING:tensorflow:Your input ran out of data; interrupting training. Make sure that your dataset or generator can generate at least `steps_per_epoch * epochs` batches (in this case, 3691 batches). You may need to use the repeat() function when building your dataset.\n",
      "[[0.99999994 0.        ]\n",
      " [0.99999994 0.        ]\n",
      " [0.         0.99999994]\n",
      " ...\n",
      " [0.         1.        ]\n",
      " [0.         1.        ]\n",
      " [0.         1.        ]]\n",
      "Confusion Matrix\n",
      "[[1025  333]\n",
      " [   1 2332]]\n",
      "Classification Report\n",
      "              precision    recall  f1-score   support\n",
      "\n",
      "         Bad       1.00      0.75      0.86      1358\n",
      "        Good       0.88      1.00      0.93      2333\n",
      "\n",
      "    accuracy                           0.91      3691\n",
      "   macro avg       0.94      0.88      0.90      3691\n",
      "weighted avg       0.92      0.91      0.91      3691\n",
      "\n",
      "tl-vgg16-rms-prop-model_16.h5\n"
     ]
    },
    {
     "name": "stderr",
     "output_type": "stream",
     "text": [
      "/tmp/ipykernel_52851/2584673372.py:18: UserWarning: `Model.predict_generator` is deprecated and will be removed in a future version. Please use `Model.predict`, which supports generators.\n",
      "  Y_pred = model.predict_generator(imgen, num_of_test_samples)\n"
     ]
    },
    {
     "name": "stdout",
     "output_type": "stream",
     "text": [
      "WARNING:tensorflow:Your input ran out of data; interrupting training. Make sure that your dataset or generator can generate at least `steps_per_epoch * epochs` batches (in this case, 3691 batches). You may need to use the repeat() function when building your dataset.\n",
      "[[0.99999994 0.        ]\n",
      " [0.99999994 0.        ]\n",
      " [0.         0.99999994]\n",
      " ...\n",
      " [0.         1.        ]\n",
      " [0.         1.        ]\n",
      " [0.         1.        ]]\n",
      "Confusion Matrix\n",
      "[[ 847  511]\n",
      " [   0 2333]]\n",
      "Classification Report\n",
      "              precision    recall  f1-score   support\n",
      "\n",
      "         Bad       1.00      0.62      0.77      1358\n",
      "        Good       0.82      1.00      0.90      2333\n",
      "\n",
      "    accuracy                           0.86      3691\n",
      "   macro avg       0.91      0.81      0.83      3691\n",
      "weighted avg       0.89      0.86      0.85      3691\n",
      "\n"
     ]
    }
   ],
   "source": [
    "import keras\n",
    "quality_model_file = f'model_quality'\n",
    "model_quality_path = Path(quality_model_file)\n",
    "for model_name in model_quality_path.glob('*model_*'):\n",
    "    print(model_name.name)\n",
    "    evaluate(model_name=model_name, imgen=testgen, batch_size=BATCH_SIZE)"
   ]
  },
  {
   "cell_type": "markdown",
   "id": "8a156d1c",
   "metadata": {},
   "source": [
    "## Bad"
   ]
  },
  {
   "cell_type": "code",
   "execution_count": 3,
   "id": "64a7a11a",
   "metadata": {},
   "outputs": [
    {
     "name": "stdout",
     "output_type": "stream",
     "text": [
      "Found 1357 images belonging to 6 classes.\n",
      "tl-vgg16-rms-prop-model_02.h5\n"
     ]
    },
    {
     "name": "stderr",
     "output_type": "stream",
     "text": [
      "2022-09-24 17:48:11.607896: E tensorflow/stream_executor/cuda/cuda_driver.cc:271] failed call to cuInit: CUDA_ERROR_NO_DEVICE: no CUDA-capable device is detected\n",
      "2022-09-24 17:48:11.607949: I tensorflow/stream_executor/cuda/cuda_diagnostics.cc:156] kernel driver does not appear to be running on this host (ankan): /proc/driver/nvidia/version does not exist\n",
      "2022-09-24 17:48:11.622663: I tensorflow/core/platform/cpu_feature_guard.cc:193] This TensorFlow binary is optimized with oneAPI Deep Neural Network Library (oneDNN) to use the following CPU instructions in performance-critical operations:  AVX2 FMA\n",
      "To enable them in other operations, rebuild TensorFlow with the appropriate compiler flags.\n",
      "/tmp/ipykernel_5889/2584673372.py:18: UserWarning: `Model.predict_generator` is deprecated and will be removed in a future version. Please use `Model.predict`, which supports generators.\n",
      "  Y_pred = model.predict_generator(imgen, num_of_test_samples)\n"
     ]
    },
    {
     "name": "stdout",
     "output_type": "stream",
     "text": [
      "WARNING:tensorflow:Your input ran out of data; interrupting training. Make sure that your dataset or generator can generate at least `steps_per_epoch * epochs` batches (in this case, 1357 batches). You may need to use the repeat() function when building your dataset.\n",
      "[[0.99999994 0.         0.         0.         0.         0.        ]\n",
      " [0.99999994 0.         0.         0.         0.         0.        ]\n",
      " [0.99999994 0.         0.         0.         0.         0.        ]\n",
      " ...\n",
      " [0.         0.         0.         0.         0.         1.        ]\n",
      " [0.         0.         0.         0.         0.         1.        ]\n",
      " [0.         0.         0.         0.         0.         1.        ]]\n",
      "Confusion Matrix\n",
      "[[225   0   1   1   0   1]\n",
      " [  1 214   0   0   0   2]\n",
      " [  0   0 221   1   0   4]\n",
      " [  0   1   3 204   6   3]\n",
      " [ 30   0   0   3 193   6]\n",
      " [  2   0   5   0   1 229]]\n",
      "Classification Report\n",
      "                 precision    recall  f1-score   support\n",
      "\n",
      "      Apple_Bad       0.87      0.99      0.93       228\n",
      "     Banana_Bad       1.00      0.99      0.99       217\n",
      "      Guava_Bad       0.96      0.98      0.97       226\n",
      "       Lime_Bad       0.98      0.94      0.96       217\n",
      "     Orange_Bad       0.96      0.83      0.89       232\n",
      "Pomegranate_Bad       0.93      0.97      0.95       237\n",
      "\n",
      "       accuracy                           0.95      1357\n",
      "      macro avg       0.95      0.95      0.95      1357\n",
      "   weighted avg       0.95      0.95      0.95      1357\n",
      "\n",
      "tl-vgg16-rms-prop-model_04.h5\n"
     ]
    },
    {
     "name": "stderr",
     "output_type": "stream",
     "text": [
      "/tmp/ipykernel_5889/2584673372.py:18: UserWarning: `Model.predict_generator` is deprecated and will be removed in a future version. Please use `Model.predict`, which supports generators.\n",
      "  Y_pred = model.predict_generator(imgen, num_of_test_samples)\n"
     ]
    },
    {
     "name": "stdout",
     "output_type": "stream",
     "text": [
      "WARNING:tensorflow:Your input ran out of data; interrupting training. Make sure that your dataset or generator can generate at least `steps_per_epoch * epochs` batches (in this case, 1357 batches). You may need to use the repeat() function when building your dataset.\n",
      "[[0.99999994 0.         0.         0.         0.         0.        ]\n",
      " [0.99999994 0.         0.         0.         0.         0.        ]\n",
      " [0.99999994 0.         0.         0.         0.         0.        ]\n",
      " ...\n",
      " [0.         0.         0.         0.         0.         1.        ]\n",
      " [0.         0.         0.         0.         0.         1.        ]\n",
      " [0.         0.         0.         0.         0.         1.        ]]\n",
      "Confusion Matrix\n",
      "[[213   0   2   2   4   7]\n",
      " [  0 215   0   0   0   2]\n",
      " [  0   0 205   4   1  16]\n",
      " [  1   1   2 212   1   0]\n",
      " [  6   0   1   6 207  12]\n",
      " [  0   0   2   0   1 234]]\n",
      "Classification Report\n",
      "                 precision    recall  f1-score   support\n",
      "\n",
      "      Apple_Bad       0.97      0.93      0.95       228\n",
      "     Banana_Bad       1.00      0.99      0.99       217\n",
      "      Guava_Bad       0.97      0.91      0.94       226\n",
      "       Lime_Bad       0.95      0.98      0.96       217\n",
      "     Orange_Bad       0.97      0.89      0.93       232\n",
      "Pomegranate_Bad       0.86      0.99      0.92       237\n",
      "\n",
      "       accuracy                           0.95      1357\n",
      "      macro avg       0.95      0.95      0.95      1357\n",
      "   weighted avg       0.95      0.95      0.95      1357\n",
      "\n",
      "tl-vgg16-rms-prop-model_15.h5\n"
     ]
    },
    {
     "name": "stderr",
     "output_type": "stream",
     "text": [
      "/tmp/ipykernel_5889/2584673372.py:18: UserWarning: `Model.predict_generator` is deprecated and will be removed in a future version. Please use `Model.predict`, which supports generators.\n",
      "  Y_pred = model.predict_generator(imgen, num_of_test_samples)\n"
     ]
    },
    {
     "name": "stdout",
     "output_type": "stream",
     "text": [
      "WARNING:tensorflow:Your input ran out of data; interrupting training. Make sure that your dataset or generator can generate at least `steps_per_epoch * epochs` batches (in this case, 1357 batches). You may need to use the repeat() function when building your dataset.\n",
      "[[0.99999994 0.         0.         0.         0.         0.        ]\n",
      " [0.99999994 0.         0.         0.         0.         0.        ]\n",
      " [0.99999994 0.         0.         0.         0.         0.        ]\n",
      " ...\n",
      " [0.         0.         0.         0.         0.         1.        ]\n",
      " [0.         0.         0.         0.         0.         1.        ]\n",
      " [0.         0.         0.         0.         0.         1.        ]]\n",
      "Confusion Matrix\n",
      "[[221   0   1   2   2   2]\n",
      " [  0 215   0   0   0   2]\n",
      " [  1   0 213   6   0   6]\n",
      " [  1   1   2 213   0   0]\n",
      " [ 31   1   1   8 186   5]\n",
      " [  0   0   3   1   2 231]]\n",
      "Classification Report\n",
      "                 precision    recall  f1-score   support\n",
      "\n",
      "      Apple_Bad       0.87      0.97      0.92       228\n",
      "     Banana_Bad       0.99      0.99      0.99       217\n",
      "      Guava_Bad       0.97      0.94      0.96       226\n",
      "       Lime_Bad       0.93      0.98      0.95       217\n",
      "     Orange_Bad       0.98      0.80      0.88       232\n",
      "Pomegranate_Bad       0.94      0.97      0.96       237\n",
      "\n",
      "       accuracy                           0.94      1357\n",
      "      macro avg       0.95      0.94      0.94      1357\n",
      "   weighted avg       0.95      0.94      0.94      1357\n",
      "\n",
      "tl-vgg16-rms-prop-model_13.h5\n"
     ]
    },
    {
     "name": "stderr",
     "output_type": "stream",
     "text": [
      "/tmp/ipykernel_5889/2584673372.py:18: UserWarning: `Model.predict_generator` is deprecated and will be removed in a future version. Please use `Model.predict`, which supports generators.\n",
      "  Y_pred = model.predict_generator(imgen, num_of_test_samples)\n"
     ]
    },
    {
     "name": "stdout",
     "output_type": "stream",
     "text": [
      "WARNING:tensorflow:Your input ran out of data; interrupting training. Make sure that your dataset or generator can generate at least `steps_per_epoch * epochs` batches (in this case, 1357 batches). You may need to use the repeat() function when building your dataset.\n",
      "[[0.99999994 0.         0.         0.         0.         0.        ]\n",
      " [0.99999994 0.         0.         0.         0.         0.        ]\n",
      " [0.99999994 0.         0.         0.         0.         0.        ]\n",
      " ...\n",
      " [0.         0.         0.         0.         0.         1.        ]\n",
      " [0.         0.         0.         0.         0.         1.        ]\n",
      " [0.         0.         0.         0.         0.         1.        ]]\n",
      "Confusion Matrix\n",
      "[[221   0   1   2   2   2]\n",
      " [  0 215   0   0   0   2]\n",
      " [  1   0 213   6   0   6]\n",
      " [  1   1   2 213   0   0]\n",
      " [ 31   1   1   8 186   5]\n",
      " [  0   0   3   1   2 231]]\n",
      "Classification Report\n",
      "                 precision    recall  f1-score   support\n",
      "\n",
      "      Apple_Bad       0.87      0.97      0.92       228\n",
      "     Banana_Bad       0.99      0.99      0.99       217\n",
      "      Guava_Bad       0.97      0.94      0.96       226\n",
      "       Lime_Bad       0.93      0.98      0.95       217\n",
      "     Orange_Bad       0.98      0.80      0.88       232\n",
      "Pomegranate_Bad       0.94      0.97      0.96       237\n",
      "\n",
      "       accuracy                           0.94      1357\n",
      "      macro avg       0.95      0.94      0.94      1357\n",
      "   weighted avg       0.95      0.94      0.94      1357\n",
      "\n",
      "tl-vgg16-rms-prop-model_11.h5\n"
     ]
    },
    {
     "name": "stderr",
     "output_type": "stream",
     "text": [
      "/tmp/ipykernel_5889/2584673372.py:18: UserWarning: `Model.predict_generator` is deprecated and will be removed in a future version. Please use `Model.predict`, which supports generators.\n",
      "  Y_pred = model.predict_generator(imgen, num_of_test_samples)\n"
     ]
    },
    {
     "name": "stdout",
     "output_type": "stream",
     "text": [
      "WARNING:tensorflow:Your input ran out of data; interrupting training. Make sure that your dataset or generator can generate at least `steps_per_epoch * epochs` batches (in this case, 1357 batches). You may need to use the repeat() function when building your dataset.\n",
      "[[0.99999994 0.         0.         0.         0.         0.        ]\n",
      " [0.99999994 0.         0.         0.         0.         0.        ]\n",
      " [0.99999994 0.         0.         0.         0.         0.        ]\n",
      " ...\n",
      " [0.         0.         0.         0.         0.         1.        ]\n",
      " [0.         0.         0.         0.         0.         1.        ]\n",
      " [0.         0.         0.         0.         0.         1.        ]]\n",
      "Confusion Matrix\n",
      "[[221   0   1   2   2   2]\n",
      " [  0 215   0   0   0   2]\n",
      " [  1   0 213   6   0   6]\n",
      " [  1   1   2 213   0   0]\n",
      " [ 31   1   1   8 186   5]\n",
      " [  0   0   3   1   2 231]]\n",
      "Classification Report\n",
      "                 precision    recall  f1-score   support\n",
      "\n",
      "      Apple_Bad       0.87      0.97      0.92       228\n",
      "     Banana_Bad       0.99      0.99      0.99       217\n",
      "      Guava_Bad       0.97      0.94      0.96       226\n",
      "       Lime_Bad       0.93      0.98      0.95       217\n",
      "     Orange_Bad       0.98      0.80      0.88       232\n",
      "Pomegranate_Bad       0.94      0.97      0.96       237\n",
      "\n",
      "       accuracy                           0.94      1357\n",
      "      macro avg       0.95      0.94      0.94      1357\n",
      "   weighted avg       0.95      0.94      0.94      1357\n",
      "\n",
      "tl-vgg16-rms-prop-model_05.h5\n"
     ]
    },
    {
     "name": "stderr",
     "output_type": "stream",
     "text": [
      "/tmp/ipykernel_5889/2584673372.py:18: UserWarning: `Model.predict_generator` is deprecated and will be removed in a future version. Please use `Model.predict`, which supports generators.\n",
      "  Y_pred = model.predict_generator(imgen, num_of_test_samples)\n"
     ]
    },
    {
     "name": "stdout",
     "output_type": "stream",
     "text": [
      "WARNING:tensorflow:Your input ran out of data; interrupting training. Make sure that your dataset or generator can generate at least `steps_per_epoch * epochs` batches (in this case, 1357 batches). You may need to use the repeat() function when building your dataset.\n",
      "[[0.99999994 0.         0.         0.         0.         0.        ]\n",
      " [0.99999994 0.         0.         0.         0.         0.        ]\n",
      " [0.99999994 0.         0.         0.         0.         0.        ]\n",
      " ...\n",
      " [0.         0.         0.         0.         0.         1.        ]\n",
      " [0.         0.         0.         0.         0.         1.        ]\n",
      " [0.         0.         0.         0.         0.         1.        ]]\n",
      "Confusion Matrix\n",
      "[[222   0   0   2   2   2]\n",
      " [  0 215   0   0   0   2]\n",
      " [  1   0 214   5   0   6]\n",
      " [  1   1   2 213   0   0]\n",
      " [ 33   1   1   8 184   5]\n",
      " [  0   0   3   1   2 231]]\n",
      "Classification Report\n",
      "                 precision    recall  f1-score   support\n",
      "\n",
      "      Apple_Bad       0.86      0.97      0.92       228\n",
      "     Banana_Bad       0.99      0.99      0.99       217\n",
      "      Guava_Bad       0.97      0.95      0.96       226\n",
      "       Lime_Bad       0.93      0.98      0.96       217\n",
      "     Orange_Bad       0.98      0.79      0.88       232\n",
      "Pomegranate_Bad       0.94      0.97      0.96       237\n",
      "\n",
      "       accuracy                           0.94      1357\n",
      "      macro avg       0.95      0.94      0.94      1357\n",
      "   weighted avg       0.95      0.94      0.94      1357\n",
      "\n",
      "tl-vgg16-rms-prop-model_10.h5\n"
     ]
    },
    {
     "name": "stderr",
     "output_type": "stream",
     "text": [
      "/tmp/ipykernel_5889/2584673372.py:18: UserWarning: `Model.predict_generator` is deprecated and will be removed in a future version. Please use `Model.predict`, which supports generators.\n",
      "  Y_pred = model.predict_generator(imgen, num_of_test_samples)\n"
     ]
    },
    {
     "name": "stdout",
     "output_type": "stream",
     "text": [
      "WARNING:tensorflow:Your input ran out of data; interrupting training. Make sure that your dataset or generator can generate at least `steps_per_epoch * epochs` batches (in this case, 1357 batches). You may need to use the repeat() function when building your dataset.\n",
      "[[0.99999994 0.         0.         0.         0.         0.        ]\n",
      " [0.99999994 0.         0.         0.         0.         0.        ]\n",
      " [0.99999994 0.         0.         0.         0.         0.        ]\n",
      " ...\n",
      " [0.         0.         0.         0.         0.         1.        ]\n",
      " [0.         0.         0.         0.         0.         1.        ]\n",
      " [0.         0.         0.         0.         0.         1.        ]]\n",
      "Confusion Matrix\n",
      "[[222   0   0   2   2   2]\n",
      " [  0 215   0   0   0   2]\n",
      " [  1   0 213   6   0   6]\n",
      " [  1   1   2 213   0   0]\n",
      " [ 31   1   1   8 186   5]\n",
      " [  0   0   3   1   2 231]]\n",
      "Classification Report\n",
      "                 precision    recall  f1-score   support\n",
      "\n",
      "      Apple_Bad       0.87      0.97      0.92       228\n",
      "     Banana_Bad       0.99      0.99      0.99       217\n",
      "      Guava_Bad       0.97      0.94      0.96       226\n",
      "       Lime_Bad       0.93      0.98      0.95       217\n",
      "     Orange_Bad       0.98      0.80      0.88       232\n",
      "Pomegranate_Bad       0.94      0.97      0.96       237\n",
      "\n",
      "       accuracy                           0.94      1357\n",
      "      macro avg       0.95      0.94      0.94      1357\n",
      "   weighted avg       0.95      0.94      0.94      1357\n",
      "\n",
      "tl-vgg16-rms-prop-model_09.h5\n"
     ]
    },
    {
     "name": "stderr",
     "output_type": "stream",
     "text": [
      "/tmp/ipykernel_5889/2584673372.py:18: UserWarning: `Model.predict_generator` is deprecated and will be removed in a future version. Please use `Model.predict`, which supports generators.\n",
      "  Y_pred = model.predict_generator(imgen, num_of_test_samples)\n"
     ]
    },
    {
     "name": "stdout",
     "output_type": "stream",
     "text": [
      "WARNING:tensorflow:Your input ran out of data; interrupting training. Make sure that your dataset or generator can generate at least `steps_per_epoch * epochs` batches (in this case, 1357 batches). You may need to use the repeat() function when building your dataset.\n",
      "[[0.99999994 0.         0.         0.         0.         0.        ]\n",
      " [0.99999994 0.         0.         0.         0.         0.        ]\n",
      " [0.99999994 0.         0.         0.         0.         0.        ]\n",
      " ...\n",
      " [0.         0.         0.         0.         0.         1.        ]\n",
      " [0.         0.         0.         0.         0.         1.        ]\n",
      " [0.         0.         0.         0.         0.         1.        ]]\n",
      "Confusion Matrix\n",
      "[[222   0   0   2   2   2]\n",
      " [  0 215   0   0   0   2]\n",
      " [  1   0 213   6   0   6]\n",
      " [  1   1   2 213   0   0]\n",
      " [ 31   1   1   8 186   5]\n",
      " [  0   0   3   1   2 231]]\n",
      "Classification Report\n",
      "                 precision    recall  f1-score   support\n",
      "\n",
      "      Apple_Bad       0.87      0.97      0.92       228\n",
      "     Banana_Bad       0.99      0.99      0.99       217\n",
      "      Guava_Bad       0.97      0.94      0.96       226\n",
      "       Lime_Bad       0.93      0.98      0.95       217\n",
      "     Orange_Bad       0.98      0.80      0.88       232\n",
      "Pomegranate_Bad       0.94      0.97      0.96       237\n",
      "\n",
      "       accuracy                           0.94      1357\n",
      "      macro avg       0.95      0.94      0.94      1357\n",
      "   weighted avg       0.95      0.94      0.94      1357\n",
      "\n",
      "tl-vgg16-rms-prop-model_07.h5\n"
     ]
    },
    {
     "name": "stderr",
     "output_type": "stream",
     "text": [
      "/tmp/ipykernel_5889/2584673372.py:18: UserWarning: `Model.predict_generator` is deprecated and will be removed in a future version. Please use `Model.predict`, which supports generators.\n",
      "  Y_pred = model.predict_generator(imgen, num_of_test_samples)\n"
     ]
    },
    {
     "name": "stdout",
     "output_type": "stream",
     "text": [
      "WARNING:tensorflow:Your input ran out of data; interrupting training. Make sure that your dataset or generator can generate at least `steps_per_epoch * epochs` batches (in this case, 1357 batches). You may need to use the repeat() function when building your dataset.\n",
      "[[0.99999994 0.         0.         0.         0.         0.        ]\n",
      " [0.99999994 0.         0.         0.         0.         0.        ]\n",
      " [0.99999994 0.         0.         0.         0.         0.        ]\n",
      " ...\n",
      " [0.         0.         0.         0.         0.         1.        ]\n",
      " [0.         0.         0.         0.         0.         1.        ]\n",
      " [0.         0.         0.         0.         0.         1.        ]]\n",
      "Confusion Matrix\n",
      "[[222   0   0   2   2   2]\n",
      " [  0 215   0   0   0   2]\n",
      " [  1   0 213   6   0   6]\n",
      " [  1   1   2 213   0   0]\n",
      " [ 31   1   1   8 186   5]\n",
      " [  0   0   3   1   2 231]]\n",
      "Classification Report\n",
      "                 precision    recall  f1-score   support\n",
      "\n",
      "      Apple_Bad       0.87      0.97      0.92       228\n",
      "     Banana_Bad       0.99      0.99      0.99       217\n",
      "      Guava_Bad       0.97      0.94      0.96       226\n",
      "       Lime_Bad       0.93      0.98      0.95       217\n",
      "     Orange_Bad       0.98      0.80      0.88       232\n",
      "Pomegranate_Bad       0.94      0.97      0.96       237\n",
      "\n",
      "       accuracy                           0.94      1357\n",
      "      macro avg       0.95      0.94      0.94      1357\n",
      "   weighted avg       0.95      0.94      0.94      1357\n",
      "\n",
      "tl-vgg16-rms-prop-model_12.h5\n"
     ]
    },
    {
     "name": "stderr",
     "output_type": "stream",
     "text": [
      "/tmp/ipykernel_5889/2584673372.py:18: UserWarning: `Model.predict_generator` is deprecated and will be removed in a future version. Please use `Model.predict`, which supports generators.\n",
      "  Y_pred = model.predict_generator(imgen, num_of_test_samples)\n"
     ]
    },
    {
     "name": "stdout",
     "output_type": "stream",
     "text": [
      "WARNING:tensorflow:Your input ran out of data; interrupting training. Make sure that your dataset or generator can generate at least `steps_per_epoch * epochs` batches (in this case, 1357 batches). You may need to use the repeat() function when building your dataset.\n",
      "[[0.99999994 0.         0.         0.         0.         0.        ]\n",
      " [0.99999994 0.         0.         0.         0.         0.        ]\n",
      " [0.99999994 0.         0.         0.         0.         0.        ]\n",
      " ...\n",
      " [0.         0.         0.         0.         0.         1.        ]\n",
      " [0.         0.         0.         0.         0.         1.        ]\n",
      " [0.         0.         0.         0.         0.         1.        ]]\n",
      "Confusion Matrix\n",
      "[[221   0   1   2   2   2]\n",
      " [  0 215   0   0   0   2]\n",
      " [  1   0 213   6   0   6]\n",
      " [  1   1   2 213   0   0]\n",
      " [ 31   1   1   8 186   5]\n",
      " [  0   0   3   1   2 231]]\n",
      "Classification Report\n",
      "                 precision    recall  f1-score   support\n",
      "\n",
      "      Apple_Bad       0.87      0.97      0.92       228\n",
      "     Banana_Bad       0.99      0.99      0.99       217\n",
      "      Guava_Bad       0.97      0.94      0.96       226\n",
      "       Lime_Bad       0.93      0.98      0.95       217\n",
      "     Orange_Bad       0.98      0.80      0.88       232\n",
      "Pomegranate_Bad       0.94      0.97      0.96       237\n",
      "\n",
      "       accuracy                           0.94      1357\n",
      "      macro avg       0.95      0.94      0.94      1357\n",
      "   weighted avg       0.95      0.94      0.94      1357\n",
      "\n",
      "tl-vgg16-rms-prop-model_14.h5\n"
     ]
    },
    {
     "name": "stderr",
     "output_type": "stream",
     "text": [
      "/tmp/ipykernel_5889/2584673372.py:18: UserWarning: `Model.predict_generator` is deprecated and will be removed in a future version. Please use `Model.predict`, which supports generators.\n",
      "  Y_pred = model.predict_generator(imgen, num_of_test_samples)\n"
     ]
    },
    {
     "name": "stdout",
     "output_type": "stream",
     "text": [
      "WARNING:tensorflow:Your input ran out of data; interrupting training. Make sure that your dataset or generator can generate at least `steps_per_epoch * epochs` batches (in this case, 1357 batches). You may need to use the repeat() function when building your dataset.\n",
      "[[0.99999994 0.         0.         0.         0.         0.        ]\n",
      " [0.99999994 0.         0.         0.         0.         0.        ]\n",
      " [0.99999994 0.         0.         0.         0.         0.        ]\n",
      " ...\n",
      " [0.         0.         0.         0.         0.         1.        ]\n",
      " [0.         0.         0.         0.         0.         1.        ]\n",
      " [0.         0.         0.         0.         0.         1.        ]]\n",
      "Confusion Matrix\n",
      "[[221   0   1   2   2   2]\n",
      " [  0 215   0   0   0   2]\n",
      " [  1   0 213   6   0   6]\n",
      " [  1   1   2 213   0   0]\n",
      " [ 31   1   1   8 186   5]\n",
      " [  0   0   3   1   2 231]]\n",
      "Classification Report\n",
      "                 precision    recall  f1-score   support\n",
      "\n",
      "      Apple_Bad       0.87      0.97      0.92       228\n",
      "     Banana_Bad       0.99      0.99      0.99       217\n",
      "      Guava_Bad       0.97      0.94      0.96       226\n",
      "       Lime_Bad       0.93      0.98      0.95       217\n",
      "     Orange_Bad       0.98      0.80      0.88       232\n",
      "Pomegranate_Bad       0.94      0.97      0.96       237\n",
      "\n",
      "       accuracy                           0.94      1357\n",
      "      macro avg       0.95      0.94      0.94      1357\n",
      "   weighted avg       0.95      0.94      0.94      1357\n",
      "\n",
      "tl-vgg16-rms-prop-model_17.h5\n"
     ]
    },
    {
     "name": "stderr",
     "output_type": "stream",
     "text": [
      "/tmp/ipykernel_5889/2584673372.py:18: UserWarning: `Model.predict_generator` is deprecated and will be removed in a future version. Please use `Model.predict`, which supports generators.\n",
      "  Y_pred = model.predict_generator(imgen, num_of_test_samples)\n"
     ]
    },
    {
     "name": "stdout",
     "output_type": "stream",
     "text": [
      "WARNING:tensorflow:Your input ran out of data; interrupting training. Make sure that your dataset or generator can generate at least `steps_per_epoch * epochs` batches (in this case, 1357 batches). You may need to use the repeat() function when building your dataset.\n",
      "[[0.99999994 0.         0.         0.         0.         0.        ]\n",
      " [0.99999994 0.         0.         0.         0.         0.        ]\n",
      " [0.99999994 0.         0.         0.         0.         0.        ]\n",
      " ...\n",
      " [0.         0.         0.         0.         0.         1.        ]\n",
      " [0.         0.         0.         0.         0.         1.        ]\n",
      " [0.         0.         0.         0.         0.         1.        ]]\n",
      "Confusion Matrix\n",
      "[[221   0   1   2   2   2]\n",
      " [  0 215   0   0   0   2]\n",
      " [  1   0 213   6   0   6]\n",
      " [  1   1   2 213   0   0]\n",
      " [ 31   1   1   8 186   5]\n",
      " [  0   0   3   1   2 231]]\n",
      "Classification Report\n",
      "                 precision    recall  f1-score   support\n",
      "\n",
      "      Apple_Bad       0.87      0.97      0.92       228\n",
      "     Banana_Bad       0.99      0.99      0.99       217\n",
      "      Guava_Bad       0.97      0.94      0.96       226\n",
      "       Lime_Bad       0.93      0.98      0.95       217\n",
      "     Orange_Bad       0.98      0.80      0.88       232\n",
      "Pomegranate_Bad       0.94      0.97      0.96       237\n",
      "\n",
      "       accuracy                           0.94      1357\n",
      "      macro avg       0.95      0.94      0.94      1357\n",
      "   weighted avg       0.95      0.94      0.94      1357\n",
      "\n",
      "tl-vgg16-rms-prop-model_19.h5\n"
     ]
    },
    {
     "name": "stderr",
     "output_type": "stream",
     "text": [
      "/tmp/ipykernel_5889/2584673372.py:18: UserWarning: `Model.predict_generator` is deprecated and will be removed in a future version. Please use `Model.predict`, which supports generators.\n",
      "  Y_pred = model.predict_generator(imgen, num_of_test_samples)\n"
     ]
    },
    {
     "name": "stdout",
     "output_type": "stream",
     "text": [
      "WARNING:tensorflow:Your input ran out of data; interrupting training. Make sure that your dataset or generator can generate at least `steps_per_epoch * epochs` batches (in this case, 1357 batches). You may need to use the repeat() function when building your dataset.\n",
      "[[0.99999994 0.         0.         0.         0.         0.        ]\n",
      " [0.99999994 0.         0.         0.         0.         0.        ]\n",
      " [0.99999994 0.         0.         0.         0.         0.        ]\n",
      " ...\n",
      " [0.         0.         0.         0.         0.         1.        ]\n",
      " [0.         0.         0.         0.         0.         1.        ]\n",
      " [0.         0.         0.         0.         0.         1.        ]]\n",
      "Confusion Matrix\n",
      "[[221   0   1   2   2   2]\n",
      " [  0 215   0   0   0   2]\n",
      " [  1   0 213   6   0   6]\n",
      " [  1   1   2 213   0   0]\n",
      " [ 31   1   1   8 186   5]\n",
      " [  0   0   3   1   2 231]]\n",
      "Classification Report\n",
      "                 precision    recall  f1-score   support\n",
      "\n",
      "      Apple_Bad       0.87      0.97      0.92       228\n",
      "     Banana_Bad       0.99      0.99      0.99       217\n",
      "      Guava_Bad       0.97      0.94      0.96       226\n",
      "       Lime_Bad       0.93      0.98      0.95       217\n",
      "     Orange_Bad       0.98      0.80      0.88       232\n",
      "Pomegranate_Bad       0.94      0.97      0.96       237\n",
      "\n",
      "       accuracy                           0.94      1357\n",
      "      macro avg       0.95      0.94      0.94      1357\n",
      "   weighted avg       0.95      0.94      0.94      1357\n",
      "\n",
      "tl-vgg16-rms-prop-model_01-corrupt-weight.h5\n"
     ]
    },
    {
     "ename": "ValueError",
     "evalue": "No model config found in the file at <tensorflow.python.platform.gfile.GFile object at 0x7fc47aec5780>.",
     "output_type": "error",
     "traceback": [
      "\u001b[0;31m---------------------------------------------------------------------------\u001b[0m",
      "\u001b[0;31mValueError\u001b[0m                                Traceback (most recent call last)",
      "Input \u001b[0;32mIn [3]\u001b[0m, in \u001b[0;36m<cell line: 28>\u001b[0;34m()\u001b[0m\n\u001b[1;32m     28\u001b[0m \u001b[38;5;28;01mfor\u001b[39;00m model_name \u001b[38;5;129;01min\u001b[39;00m model_quality_path\u001b[38;5;241m.\u001b[39mglob(\u001b[38;5;124m'\u001b[39m\u001b[38;5;124m*model_*\u001b[39m\u001b[38;5;124m'\u001b[39m):\n\u001b[1;32m     29\u001b[0m     \u001b[38;5;28mprint\u001b[39m(model_name\u001b[38;5;241m.\u001b[39mname)\n\u001b[0;32m---> 30\u001b[0m     \u001b[43mevaluate\u001b[49m\u001b[43m(\u001b[49m\u001b[43mmodel_name\u001b[49m\u001b[38;5;241;43m=\u001b[39;49m\u001b[43mmodel_name\u001b[49m\u001b[43m,\u001b[49m\u001b[43m \u001b[49m\u001b[43mimgen\u001b[49m\u001b[38;5;241;43m=\u001b[39;49m\u001b[43mtestgen\u001b[49m\u001b[43m,\u001b[49m\u001b[43m \u001b[49m\u001b[43mbatch_size\u001b[49m\u001b[38;5;241;43m=\u001b[39;49m\u001b[43mBATCH_SIZE\u001b[49m\u001b[43m)\u001b[49m\n",
      "Input \u001b[0;32mIn [2]\u001b[0m, in \u001b[0;36mevaluate\u001b[0;34m(model_name, imgen, batch_size)\u001b[0m\n\u001b[1;32m      1\u001b[0m \u001b[38;5;28;01mdef\u001b[39;00m \u001b[38;5;21mevaluate\u001b[39m(model_name, imgen, batch_size\u001b[38;5;241m=\u001b[39m\u001b[38;5;241m32\u001b[39m):\n\u001b[1;32m      2\u001b[0m     \u001b[38;5;28;01mfrom\u001b[39;00m \u001b[38;5;21;01msklearn\u001b[39;00m\u001b[38;5;21;01m.\u001b[39;00m\u001b[38;5;21;01mmetrics\u001b[39;00m \u001b[38;5;28;01mimport\u001b[39;00m classification_report, confusion_matrix\n\u001b[0;32m----> 4\u001b[0m     base_model \u001b[38;5;241m=\u001b[39m \u001b[43mkeras\u001b[49m\u001b[38;5;241;43m.\u001b[39;49m\u001b[43mmodels\u001b[49m\u001b[38;5;241;43m.\u001b[39;49m\u001b[43mload_model\u001b[49m\u001b[43m(\u001b[49m\u001b[43mmodel_name\u001b[49m\u001b[43m)\u001b[49m\n\u001b[1;32m      5\u001b[0m \u001b[38;5;66;03m#     base_model.summary()\u001b[39;00m\n\u001b[1;32m      6\u001b[0m     base_model\u001b[38;5;241m.\u001b[39mtrainable \u001b[38;5;241m=\u001b[39m \u001b[38;5;28;01mFalse\u001b[39;00m\n",
      "File \u001b[0;32m~/.local/lib/python3.10/site-packages/keras/utils/traceback_utils.py:67\u001b[0m, in \u001b[0;36mfilter_traceback.<locals>.error_handler\u001b[0;34m(*args, **kwargs)\u001b[0m\n\u001b[1;32m     65\u001b[0m \u001b[38;5;28;01mexcept\u001b[39;00m \u001b[38;5;167;01mException\u001b[39;00m \u001b[38;5;28;01mas\u001b[39;00m e:  \u001b[38;5;66;03m# pylint: disable=broad-except\u001b[39;00m\n\u001b[1;32m     66\u001b[0m   filtered_tb \u001b[38;5;241m=\u001b[39m _process_traceback_frames(e\u001b[38;5;241m.\u001b[39m__traceback__)\n\u001b[0;32m---> 67\u001b[0m   \u001b[38;5;28;01mraise\u001b[39;00m e\u001b[38;5;241m.\u001b[39mwith_traceback(filtered_tb) \u001b[38;5;28;01mfrom\u001b[39;00m \u001b[38;5;28mNone\u001b[39m\n\u001b[1;32m     68\u001b[0m \u001b[38;5;28;01mfinally\u001b[39;00m:\n\u001b[1;32m     69\u001b[0m   \u001b[38;5;28;01mdel\u001b[39;00m filtered_tb\n",
      "File \u001b[0;32m~/.local/lib/python3.10/site-packages/keras/saving/hdf5_format.py:182\u001b[0m, in \u001b[0;36mload_model_from_hdf5\u001b[0;34m(filepath, custom_objects, compile)\u001b[0m\n\u001b[1;32m    180\u001b[0m model_config \u001b[38;5;241m=\u001b[39m f\u001b[38;5;241m.\u001b[39mattrs\u001b[38;5;241m.\u001b[39mget(\u001b[38;5;124m'\u001b[39m\u001b[38;5;124mmodel_config\u001b[39m\u001b[38;5;124m'\u001b[39m)\n\u001b[1;32m    181\u001b[0m \u001b[38;5;28;01mif\u001b[39;00m model_config \u001b[38;5;129;01mis\u001b[39;00m \u001b[38;5;28;01mNone\u001b[39;00m:\n\u001b[0;32m--> 182\u001b[0m   \u001b[38;5;28;01mraise\u001b[39;00m \u001b[38;5;167;01mValueError\u001b[39;00m(\u001b[38;5;124mf\u001b[39m\u001b[38;5;124m'\u001b[39m\u001b[38;5;124mNo model config found in the file at \u001b[39m\u001b[38;5;132;01m{\u001b[39;00mfilepath\u001b[38;5;132;01m}\u001b[39;00m\u001b[38;5;124m.\u001b[39m\u001b[38;5;124m'\u001b[39m)\n\u001b[1;32m    183\u001b[0m \u001b[38;5;28;01mif\u001b[39;00m \u001b[38;5;28mhasattr\u001b[39m(model_config, \u001b[38;5;124m'\u001b[39m\u001b[38;5;124mdecode\u001b[39m\u001b[38;5;124m'\u001b[39m):\n\u001b[1;32m    184\u001b[0m   model_config \u001b[38;5;241m=\u001b[39m model_config\u001b[38;5;241m.\u001b[39mdecode(\u001b[38;5;124m'\u001b[39m\u001b[38;5;124mutf-8\u001b[39m\u001b[38;5;124m'\u001b[39m)\n",
      "\u001b[0;31mValueError\u001b[0m: No model config found in the file at <tensorflow.python.platform.gfile.GFile object at 0x7fc47aec5780>."
     ]
    }
   ],
   "source": [
    "import os\n",
    "from keras.models import Model\n",
    "from tensorflow.keras.optimizers import Adam\n",
    "from keras.applications.vgg16 import VGG16, preprocess_input\n",
    "from keras.preprocessing.image import ImageDataGenerator\n",
    "from keras.callbacks import ModelCheckpoint, EarlyStopping\n",
    "from keras.layers import Dense, Dropout, Flatten\n",
    "from pathlib import Path\n",
    "import numpy as np\n",
    "\n",
    "\n",
    "import keras\n",
    "\n",
    "\n",
    "BATCH_SIZE = 10\n",
    "test_data_dir = f'all_data_quality/bad/test'\n",
    "test_generator = ImageDataGenerator(preprocessing_function=preprocess_input)\n",
    "testgen = test_generator.flow_from_directory(test_data_dir,\n",
    "                                             target_size=(224, 224),\n",
    "                                             class_mode='categorical',\n",
    "                                             batch_size=BATCH_SIZE,\n",
    "                                             shuffle=False,\n",
    "                                             seed=42)\n",
    "\n",
    "\n",
    "quality_model_file = f'model-all-data-quality-bad'\n",
    "model_quality_path = Path(quality_model_file)\n",
    "for model_name in model_quality_path.glob('*model_*'):\n",
    "    print(model_name.name)\n",
    "    evaluate(model_name=model_name, imgen=testgen, batch_size=BATCH_SIZE)"
   ]
  },
  {
   "cell_type": "code",
   "execution_count": 4,
   "id": "685c8d9b",
   "metadata": {},
   "outputs": [
    {
     "name": "stdout",
     "output_type": "stream",
     "text": [
      "Found 2333 images belonging to 6 classes.\n",
      "tl-vgg16-rms-prop-model_02.h5\n"
     ]
    },
    {
     "name": "stderr",
     "output_type": "stream",
     "text": [
      "/tmp/ipykernel_5889/2584673372.py:18: UserWarning: `Model.predict_generator` is deprecated and will be removed in a future version. Please use `Model.predict`, which supports generators.\n",
      "  Y_pred = model.predict_generator(imgen, num_of_test_samples)\n"
     ]
    },
    {
     "name": "stdout",
     "output_type": "stream",
     "text": [
      "WARNING:tensorflow:Your input ran out of data; interrupting training. Make sure that your dataset or generator can generate at least `steps_per_epoch * epochs` batches (in this case, 2333 batches). You may need to use the repeat() function when building your dataset.\n",
      "[[0.99999994 0.         0.         0.         0.         0.        ]\n",
      " [0.99999994 0.         0.         0.         0.         0.        ]\n",
      " [0.99999994 0.         0.         0.         0.         0.        ]\n",
      " ...\n",
      " [0.         0.         0.         0.         0.         1.        ]\n",
      " [0.         0.         0.         0.         0.         1.        ]\n",
      " [0.         0.         0.         0.         0.         1.        ]]\n",
      "Confusion Matrix\n",
      "[[ 227    3    0    0    0    0]\n",
      " [   0  222    1    0    0    0]\n",
      " [   6    0  223    0    1    0]\n",
      " [   4    0    3  212    0    0]\n",
      " [  49    0    4    9  177    4]\n",
      " [  40    0   21    4    2 1121]]\n",
      "Classification Report\n",
      "                  precision    recall  f1-score   support\n",
      "\n",
      "      Apple_Good       0.70      0.99      0.82       230\n",
      "     Banana_Good       0.99      1.00      0.99       223\n",
      "      Guava_Good       0.88      0.97      0.93       230\n",
      "       Lime_Good       0.94      0.97      0.95       219\n",
      "     Orange_Good       0.98      0.73      0.84       243\n",
      "Pomegranate_Good       1.00      0.94      0.97      1188\n",
      "\n",
      "        accuracy                           0.94      2333\n",
      "       macro avg       0.91      0.93      0.92      2333\n",
      "    weighted avg       0.95      0.94      0.94      2333\n",
      "\n",
      "tl-vgg16-rms-prop-model_04.h5\n"
     ]
    },
    {
     "name": "stderr",
     "output_type": "stream",
     "text": [
      "/tmp/ipykernel_5889/2584673372.py:18: UserWarning: `Model.predict_generator` is deprecated and will be removed in a future version. Please use `Model.predict`, which supports generators.\n",
      "  Y_pred = model.predict_generator(imgen, num_of_test_samples)\n"
     ]
    },
    {
     "name": "stdout",
     "output_type": "stream",
     "text": [
      "WARNING:tensorflow:Your input ran out of data; interrupting training. Make sure that your dataset or generator can generate at least `steps_per_epoch * epochs` batches (in this case, 2333 batches). You may need to use the repeat() function when building your dataset.\n",
      "[[0.99999994 0.         0.         0.         0.         0.        ]\n",
      " [0.99999994 0.         0.         0.         0.         0.        ]\n",
      " [0.99999994 0.         0.         0.         0.         0.        ]\n",
      " ...\n",
      " [0.         0.         0.         0.         1.         0.        ]\n",
      " [0.         0.         0.         0.         0.         1.        ]\n",
      " [0.         0.         0.         0.         0.         1.        ]]\n",
      "Confusion Matrix\n",
      "[[ 224    2    1    0    2    1]\n",
      " [   0  223    0    0    0    0]\n",
      " [   5    0  221    1    3    0]\n",
      " [   5    0    1  213    0    0]\n",
      " [   7    0    0    2  234    0]\n",
      " [  15    0    5    1    3 1164]]\n",
      "Classification Report\n",
      "                  precision    recall  f1-score   support\n",
      "\n",
      "      Apple_Good       0.88      0.97      0.92       230\n",
      "     Banana_Good       0.99      1.00      1.00       223\n",
      "      Guava_Good       0.97      0.96      0.97       230\n",
      "       Lime_Good       0.98      0.97      0.98       219\n",
      "     Orange_Good       0.97      0.96      0.96       243\n",
      "Pomegranate_Good       1.00      0.98      0.99      1188\n",
      "\n",
      "        accuracy                           0.98      2333\n",
      "       macro avg       0.96      0.98      0.97      2333\n",
      "    weighted avg       0.98      0.98      0.98      2333\n",
      "\n",
      "tl-vgg16-rms-prop-model_15.h5\n"
     ]
    },
    {
     "name": "stderr",
     "output_type": "stream",
     "text": [
      "/tmp/ipykernel_5889/2584673372.py:18: UserWarning: `Model.predict_generator` is deprecated and will be removed in a future version. Please use `Model.predict`, which supports generators.\n",
      "  Y_pred = model.predict_generator(imgen, num_of_test_samples)\n"
     ]
    },
    {
     "name": "stdout",
     "output_type": "stream",
     "text": [
      "WARNING:tensorflow:Your input ran out of data; interrupting training. Make sure that your dataset or generator can generate at least `steps_per_epoch * epochs` batches (in this case, 2333 batches). You may need to use the repeat() function when building your dataset.\n",
      "[[0.99999994 0.         0.         0.         0.         0.        ]\n",
      " [0.99999994 0.         0.         0.         0.         0.        ]\n",
      " [0.99999994 0.         0.         0.         0.         0.        ]\n",
      " ...\n",
      " [0.         0.         0.         0.         0.         1.        ]\n",
      " [0.         0.         0.         0.         0.         1.        ]\n",
      " [0.         0.         0.         0.         0.         1.        ]]\n",
      "Confusion Matrix\n",
      "[[ 213    2    8    0    5    2]\n",
      " [   0  222    1    0    0    0]\n",
      " [   3    0  226    0    1    0]\n",
      " [   6    2    3  208    0    0]\n",
      " [  15    0   16    1  209    2]\n",
      " [   5    0    8    0    1 1174]]\n",
      "Classification Report\n",
      "                  precision    recall  f1-score   support\n",
      "\n",
      "      Apple_Good       0.88      0.93      0.90       230\n",
      "     Banana_Good       0.98      1.00      0.99       223\n",
      "      Guava_Good       0.86      0.98      0.92       230\n",
      "       Lime_Good       1.00      0.95      0.97       219\n",
      "     Orange_Good       0.97      0.86      0.91       243\n",
      "Pomegranate_Good       1.00      0.99      0.99      1188\n",
      "\n",
      "        accuracy                           0.97      2333\n",
      "       macro avg       0.95      0.95      0.95      2333\n",
      "    weighted avg       0.97      0.97      0.97      2333\n",
      "\n",
      "tl-vgg16-rms-prop-model_13.h5\n"
     ]
    },
    {
     "name": "stderr",
     "output_type": "stream",
     "text": [
      "/tmp/ipykernel_5889/2584673372.py:18: UserWarning: `Model.predict_generator` is deprecated and will be removed in a future version. Please use `Model.predict`, which supports generators.\n",
      "  Y_pred = model.predict_generator(imgen, num_of_test_samples)\n"
     ]
    },
    {
     "name": "stdout",
     "output_type": "stream",
     "text": [
      "WARNING:tensorflow:Your input ran out of data; interrupting training. Make sure that your dataset or generator can generate at least `steps_per_epoch * epochs` batches (in this case, 2333 batches). You may need to use the repeat() function when building your dataset.\n",
      "[[0.99999994 0.         0.         0.         0.         0.        ]\n",
      " [0.99999994 0.         0.         0.         0.         0.        ]\n",
      " [0.99999994 0.         0.         0.         0.         0.        ]\n",
      " ...\n",
      " [0.         0.         0.         0.         0.         1.        ]\n",
      " [0.         0.         0.         0.         0.         1.        ]\n",
      " [0.         0.         0.         0.         0.         1.        ]]\n",
      "Confusion Matrix\n",
      "[[ 213    2    8    0    5    2]\n",
      " [   0  222    1    0    0    0]\n",
      " [   3    0  226    0    1    0]\n",
      " [   6    2    3  208    0    0]\n",
      " [  15    0   16    1  209    2]\n",
      " [   5    0    8    0    1 1174]]\n",
      "Classification Report\n",
      "                  precision    recall  f1-score   support\n",
      "\n",
      "      Apple_Good       0.88      0.93      0.90       230\n",
      "     Banana_Good       0.98      1.00      0.99       223\n",
      "      Guava_Good       0.86      0.98      0.92       230\n",
      "       Lime_Good       1.00      0.95      0.97       219\n",
      "     Orange_Good       0.97      0.86      0.91       243\n",
      "Pomegranate_Good       1.00      0.99      0.99      1188\n",
      "\n",
      "        accuracy                           0.97      2333\n",
      "       macro avg       0.95      0.95      0.95      2333\n",
      "    weighted avg       0.97      0.97      0.97      2333\n",
      "\n",
      "tl-vgg16-rms-prop-model_11.h5\n"
     ]
    },
    {
     "name": "stderr",
     "output_type": "stream",
     "text": [
      "/tmp/ipykernel_5889/2584673372.py:18: UserWarning: `Model.predict_generator` is deprecated and will be removed in a future version. Please use `Model.predict`, which supports generators.\n",
      "  Y_pred = model.predict_generator(imgen, num_of_test_samples)\n"
     ]
    },
    {
     "name": "stdout",
     "output_type": "stream",
     "text": [
      "WARNING:tensorflow:Your input ran out of data; interrupting training. Make sure that your dataset or generator can generate at least `steps_per_epoch * epochs` batches (in this case, 2333 batches). You may need to use the repeat() function when building your dataset.\n",
      "[[0.99999994 0.         0.         0.         0.         0.        ]\n",
      " [0.99999994 0.         0.         0.         0.         0.        ]\n",
      " [0.99999994 0.         0.         0.         0.         0.        ]\n",
      " ...\n",
      " [0.         0.         0.         0.         0.         1.        ]\n",
      " [0.         0.         0.         0.         0.         1.        ]\n",
      " [0.         0.         0.         0.         0.         1.        ]]\n",
      "Confusion Matrix\n",
      "[[ 213    2    8    0    5    2]\n",
      " [   0  222    1    0    0    0]\n",
      " [   3    0  226    0    1    0]\n",
      " [   6    2    3  208    0    0]\n",
      " [  15    0   16    1  209    2]\n",
      " [   5    0    8    0    1 1174]]\n",
      "Classification Report\n",
      "                  precision    recall  f1-score   support\n",
      "\n",
      "      Apple_Good       0.88      0.93      0.90       230\n",
      "     Banana_Good       0.98      1.00      0.99       223\n",
      "      Guava_Good       0.86      0.98      0.92       230\n",
      "       Lime_Good       1.00      0.95      0.97       219\n",
      "     Orange_Good       0.97      0.86      0.91       243\n",
      "Pomegranate_Good       1.00      0.99      0.99      1188\n",
      "\n",
      "        accuracy                           0.97      2333\n",
      "       macro avg       0.95      0.95      0.95      2333\n",
      "    weighted avg       0.97      0.97      0.97      2333\n",
      "\n",
      "tl-vgg16-rms-prop-model_05.h5\n"
     ]
    },
    {
     "name": "stderr",
     "output_type": "stream",
     "text": [
      "/tmp/ipykernel_5889/2584673372.py:18: UserWarning: `Model.predict_generator` is deprecated and will be removed in a future version. Please use `Model.predict`, which supports generators.\n",
      "  Y_pred = model.predict_generator(imgen, num_of_test_samples)\n"
     ]
    },
    {
     "name": "stdout",
     "output_type": "stream",
     "text": [
      "WARNING:tensorflow:Your input ran out of data; interrupting training. Make sure that your dataset or generator can generate at least `steps_per_epoch * epochs` batches (in this case, 2333 batches). You may need to use the repeat() function when building your dataset.\n",
      "[[0.99999994 0.         0.         0.         0.         0.        ]\n",
      " [0.99999994 0.         0.         0.         0.         0.        ]\n",
      " [0.99999994 0.         0.         0.         0.         0.        ]\n",
      " ...\n",
      " [0.         0.         0.         0.         0.         1.        ]\n",
      " [0.         0.         0.         0.         0.         1.        ]\n",
      " [0.         0.         0.         0.         0.         1.        ]]\n",
      "Confusion Matrix\n",
      "[[ 216    3    3    0    8    0]\n",
      " [   0  223    0    0    0    0]\n",
      " [   3    0  223    1    3    0]\n",
      " [   2    0    3  213    1    0]\n",
      " [   5    0    3    0  233    2]\n",
      " [  10    0    0    0    0 1178]]\n",
      "Classification Report\n",
      "                  precision    recall  f1-score   support\n",
      "\n",
      "      Apple_Good       0.92      0.94      0.93       230\n",
      "     Banana_Good       0.99      1.00      0.99       223\n",
      "      Guava_Good       0.96      0.97      0.97       230\n",
      "       Lime_Good       1.00      0.97      0.98       219\n",
      "     Orange_Good       0.95      0.96      0.95       243\n",
      "Pomegranate_Good       1.00      0.99      0.99      1188\n",
      "\n",
      "        accuracy                           0.98      2333\n",
      "       macro avg       0.97      0.97      0.97      2333\n",
      "    weighted avg       0.98      0.98      0.98      2333\n",
      "\n",
      "tl-vgg16-rms-prop-model_10.h5\n"
     ]
    },
    {
     "name": "stderr",
     "output_type": "stream",
     "text": [
      "/tmp/ipykernel_5889/2584673372.py:18: UserWarning: `Model.predict_generator` is deprecated and will be removed in a future version. Please use `Model.predict`, which supports generators.\n",
      "  Y_pred = model.predict_generator(imgen, num_of_test_samples)\n"
     ]
    },
    {
     "name": "stdout",
     "output_type": "stream",
     "text": [
      "WARNING:tensorflow:Your input ran out of data; interrupting training. Make sure that your dataset or generator can generate at least `steps_per_epoch * epochs` batches (in this case, 2333 batches). You may need to use the repeat() function when building your dataset.\n",
      "[[0.99999994 0.         0.         0.         0.         0.        ]\n",
      " [0.99999994 0.         0.         0.         0.         0.        ]\n",
      " [0.99999994 0.         0.         0.         0.         0.        ]\n",
      " ...\n",
      " [0.         0.         0.         0.         0.         1.        ]\n",
      " [0.         0.         0.         0.         0.         1.        ]\n",
      " [0.         0.         0.         0.         0.         1.        ]]\n",
      "Confusion Matrix\n",
      "[[ 213    2    8    0    5    2]\n",
      " [   0  222    1    0    0    0]\n",
      " [   3    0  226    0    1    0]\n",
      " [   6    2    3  208    0    0]\n",
      " [  15    0   16    1  209    2]\n",
      " [   5    0    8    0    1 1174]]\n",
      "Classification Report\n",
      "                  precision    recall  f1-score   support\n",
      "\n",
      "      Apple_Good       0.88      0.93      0.90       230\n",
      "     Banana_Good       0.98      1.00      0.99       223\n",
      "      Guava_Good       0.86      0.98      0.92       230\n",
      "       Lime_Good       1.00      0.95      0.97       219\n",
      "     Orange_Good       0.97      0.86      0.91       243\n",
      "Pomegranate_Good       1.00      0.99      0.99      1188\n",
      "\n",
      "        accuracy                           0.97      2333\n",
      "       macro avg       0.95      0.95      0.95      2333\n",
      "    weighted avg       0.97      0.97      0.97      2333\n",
      "\n",
      "tl-vgg16-rms-prop-model_09.h5\n"
     ]
    },
    {
     "name": "stderr",
     "output_type": "stream",
     "text": [
      "/tmp/ipykernel_5889/2584673372.py:18: UserWarning: `Model.predict_generator` is deprecated and will be removed in a future version. Please use `Model.predict`, which supports generators.\n",
      "  Y_pred = model.predict_generator(imgen, num_of_test_samples)\n"
     ]
    },
    {
     "name": "stdout",
     "output_type": "stream",
     "text": [
      "WARNING:tensorflow:Your input ran out of data; interrupting training. Make sure that your dataset or generator can generate at least `steps_per_epoch * epochs` batches (in this case, 2333 batches). You may need to use the repeat() function when building your dataset.\n",
      "[[0.99999994 0.         0.         0.         0.         0.        ]\n",
      " [0.         0.         0.99999994 0.         0.         0.        ]\n",
      " [0.99999994 0.         0.         0.         0.         0.        ]\n",
      " ...\n",
      " [0.         0.         0.         0.         0.         1.        ]\n",
      " [0.         0.         0.         0.         0.         1.        ]\n",
      " [0.         0.         0.         0.         0.         1.        ]]\n",
      "Confusion Matrix\n",
      "[[ 211    2   13    0    4    0]\n",
      " [   0  223    0    0    0    0]\n",
      " [   3    0  226    0    1    0]\n",
      " [   5    2    2  210    0    0]\n",
      " [  10    0   14    1  216    2]\n",
      " [   5    0    8    0    1 1174]]\n",
      "Classification Report\n",
      "                  precision    recall  f1-score   support\n",
      "\n",
      "      Apple_Good       0.90      0.92      0.91       230\n",
      "     Banana_Good       0.98      1.00      0.99       223\n",
      "      Guava_Good       0.86      0.98      0.92       230\n",
      "       Lime_Good       1.00      0.96      0.98       219\n",
      "     Orange_Good       0.97      0.89      0.93       243\n",
      "Pomegranate_Good       1.00      0.99      0.99      1188\n",
      "\n",
      "        accuracy                           0.97      2333\n",
      "       macro avg       0.95      0.96      0.95      2333\n",
      "    weighted avg       0.97      0.97      0.97      2333\n",
      "\n",
      "tl-vgg16-rms-prop-model_07.h5\n"
     ]
    },
    {
     "name": "stderr",
     "output_type": "stream",
     "text": [
      "/tmp/ipykernel_5889/2584673372.py:18: UserWarning: `Model.predict_generator` is deprecated and will be removed in a future version. Please use `Model.predict`, which supports generators.\n",
      "  Y_pred = model.predict_generator(imgen, num_of_test_samples)\n"
     ]
    },
    {
     "name": "stdout",
     "output_type": "stream",
     "text": [
      "WARNING:tensorflow:Your input ran out of data; interrupting training. Make sure that your dataset or generator can generate at least `steps_per_epoch * epochs` batches (in this case, 2333 batches). You may need to use the repeat() function when building your dataset.\n",
      "[[0.99999994 0.         0.         0.         0.         0.        ]\n",
      " [0.99999994 0.         0.         0.         0.         0.        ]\n",
      " [0.99999994 0.         0.         0.         0.         0.        ]\n",
      " ...\n",
      " [0.         0.         0.         0.         0.         1.        ]\n",
      " [0.         0.         0.         0.         0.         1.        ]\n",
      " [0.         0.         0.         0.         0.         1.        ]]\n",
      "Confusion Matrix\n",
      "[[ 224    2    3    0    1    0]\n",
      " [   1  221    1    0    0    0]\n",
      " [   5    0  224    0    1    0]\n",
      " [  13    0    1  205    0    0]\n",
      " [  15    0    5    0  223    0]\n",
      " [  20    0   21    0   11 1136]]\n",
      "Classification Report\n",
      "                  precision    recall  f1-score   support\n",
      "\n",
      "      Apple_Good       0.81      0.97      0.88       230\n",
      "     Banana_Good       0.99      0.99      0.99       223\n",
      "      Guava_Good       0.88      0.97      0.92       230\n",
      "       Lime_Good       1.00      0.94      0.97       219\n",
      "     Orange_Good       0.94      0.92      0.93       243\n",
      "Pomegranate_Good       1.00      0.96      0.98      1188\n",
      "\n",
      "        accuracy                           0.96      2333\n",
      "       macro avg       0.94      0.96      0.95      2333\n",
      "    weighted avg       0.96      0.96      0.96      2333\n",
      "\n",
      "tl-vgg16-rms-prop-model_12.h5\n"
     ]
    },
    {
     "name": "stderr",
     "output_type": "stream",
     "text": [
      "/tmp/ipykernel_5889/2584673372.py:18: UserWarning: `Model.predict_generator` is deprecated and will be removed in a future version. Please use `Model.predict`, which supports generators.\n",
      "  Y_pred = model.predict_generator(imgen, num_of_test_samples)\n"
     ]
    },
    {
     "name": "stdout",
     "output_type": "stream",
     "text": [
      "WARNING:tensorflow:Your input ran out of data; interrupting training. Make sure that your dataset or generator can generate at least `steps_per_epoch * epochs` batches (in this case, 2333 batches). You may need to use the repeat() function when building your dataset.\n",
      "[[0.99999994 0.         0.         0.         0.         0.        ]\n",
      " [0.99999994 0.         0.         0.         0.         0.        ]\n",
      " [0.99999994 0.         0.         0.         0.         0.        ]\n",
      " ...\n",
      " [0.         0.         0.         0.         0.         1.        ]\n",
      " [0.         0.         0.         0.         0.         1.        ]\n",
      " [0.         0.         0.         0.         0.         1.        ]]\n",
      "Confusion Matrix\n",
      "[[ 213    2    8    0    5    2]\n",
      " [   0  222    1    0    0    0]\n",
      " [   3    0  226    0    1    0]\n",
      " [   6    2    3  208    0    0]\n",
      " [  15    0   16    1  209    2]\n",
      " [   5    0    8    0    1 1174]]\n",
      "Classification Report\n",
      "                  precision    recall  f1-score   support\n",
      "\n",
      "      Apple_Good       0.88      0.93      0.90       230\n",
      "     Banana_Good       0.98      1.00      0.99       223\n",
      "      Guava_Good       0.86      0.98      0.92       230\n",
      "       Lime_Good       1.00      0.95      0.97       219\n",
      "     Orange_Good       0.97      0.86      0.91       243\n",
      "Pomegranate_Good       1.00      0.99      0.99      1188\n",
      "\n",
      "        accuracy                           0.97      2333\n",
      "       macro avg       0.95      0.95      0.95      2333\n",
      "    weighted avg       0.97      0.97      0.97      2333\n",
      "\n",
      "tl-vgg16-rms-prop-model_14.h5\n"
     ]
    },
    {
     "name": "stderr",
     "output_type": "stream",
     "text": [
      "/tmp/ipykernel_5889/2584673372.py:18: UserWarning: `Model.predict_generator` is deprecated and will be removed in a future version. Please use `Model.predict`, which supports generators.\n",
      "  Y_pred = model.predict_generator(imgen, num_of_test_samples)\n"
     ]
    },
    {
     "name": "stdout",
     "output_type": "stream",
     "text": [
      "WARNING:tensorflow:Your input ran out of data; interrupting training. Make sure that your dataset or generator can generate at least `steps_per_epoch * epochs` batches (in this case, 2333 batches). You may need to use the repeat() function when building your dataset.\n",
      "[[0.99999994 0.         0.         0.         0.         0.        ]\n",
      " [0.99999994 0.         0.         0.         0.         0.        ]\n",
      " [0.99999994 0.         0.         0.         0.         0.        ]\n",
      " ...\n",
      " [0.         0.         0.         0.         0.         1.        ]\n",
      " [0.         0.         0.         0.         0.         1.        ]\n",
      " [0.         0.         0.         0.         0.         1.        ]]\n",
      "Confusion Matrix\n",
      "[[ 213    2    8    0    5    2]\n",
      " [   0  222    1    0    0    0]\n",
      " [   3    0  226    0    1    0]\n",
      " [   6    2    3  208    0    0]\n",
      " [  15    0   16    1  209    2]\n",
      " [   5    0    8    0    1 1174]]\n",
      "Classification Report\n",
      "                  precision    recall  f1-score   support\n",
      "\n",
      "      Apple_Good       0.88      0.93      0.90       230\n",
      "     Banana_Good       0.98      1.00      0.99       223\n",
      "      Guava_Good       0.86      0.98      0.92       230\n",
      "       Lime_Good       1.00      0.95      0.97       219\n",
      "     Orange_Good       0.97      0.86      0.91       243\n",
      "Pomegranate_Good       1.00      0.99      0.99      1188\n",
      "\n",
      "        accuracy                           0.97      2333\n",
      "       macro avg       0.95      0.95      0.95      2333\n",
      "    weighted avg       0.97      0.97      0.97      2333\n",
      "\n",
      "tl-vgg16-rms-prop-model_17.h5\n"
     ]
    },
    {
     "name": "stderr",
     "output_type": "stream",
     "text": [
      "/tmp/ipykernel_5889/2584673372.py:18: UserWarning: `Model.predict_generator` is deprecated and will be removed in a future version. Please use `Model.predict`, which supports generators.\n",
      "  Y_pred = model.predict_generator(imgen, num_of_test_samples)\n"
     ]
    },
    {
     "name": "stdout",
     "output_type": "stream",
     "text": [
      "WARNING:tensorflow:Your input ran out of data; interrupting training. Make sure that your dataset or generator can generate at least `steps_per_epoch * epochs` batches (in this case, 2333 batches). You may need to use the repeat() function when building your dataset.\n",
      "[[0.99999994 0.         0.         0.         0.         0.        ]\n",
      " [0.99999994 0.         0.         0.         0.         0.        ]\n",
      " [0.99999994 0.         0.         0.         0.         0.        ]\n",
      " ...\n",
      " [0.         0.         0.         0.         0.         1.        ]\n",
      " [0.         0.         0.         0.         0.         1.        ]\n",
      " [0.         0.         0.         0.         0.         1.        ]]\n",
      "Confusion Matrix\n",
      "[[ 213    2    8    0    5    2]\n",
      " [   0  222    1    0    0    0]\n",
      " [   3    0  226    0    1    0]\n",
      " [   6    2    3  208    0    0]\n",
      " [  15    0   16    1  209    2]\n",
      " [   5    0    8    0    1 1174]]\n",
      "Classification Report\n",
      "                  precision    recall  f1-score   support\n",
      "\n",
      "      Apple_Good       0.88      0.93      0.90       230\n",
      "     Banana_Good       0.98      1.00      0.99       223\n",
      "      Guava_Good       0.86      0.98      0.92       230\n",
      "       Lime_Good       1.00      0.95      0.97       219\n",
      "     Orange_Good       0.97      0.86      0.91       243\n",
      "Pomegranate_Good       1.00      0.99      0.99      1188\n",
      "\n",
      "        accuracy                           0.97      2333\n",
      "       macro avg       0.95      0.95      0.95      2333\n",
      "    weighted avg       0.97      0.97      0.97      2333\n",
      "\n",
      "tl-vgg16-rms-prop-model_19.h5\n"
     ]
    },
    {
     "name": "stderr",
     "output_type": "stream",
     "text": [
      "/tmp/ipykernel_5889/2584673372.py:18: UserWarning: `Model.predict_generator` is deprecated and will be removed in a future version. Please use `Model.predict`, which supports generators.\n",
      "  Y_pred = model.predict_generator(imgen, num_of_test_samples)\n"
     ]
    },
    {
     "name": "stdout",
     "output_type": "stream",
     "text": [
      "WARNING:tensorflow:Your input ran out of data; interrupting training. Make sure that your dataset or generator can generate at least `steps_per_epoch * epochs` batches (in this case, 2333 batches). You may need to use the repeat() function when building your dataset.\n",
      "[[0.99999994 0.         0.         0.         0.         0.        ]\n",
      " [0.99999994 0.         0.         0.         0.         0.        ]\n",
      " [0.99999994 0.         0.         0.         0.         0.        ]\n",
      " ...\n",
      " [0.         0.         0.         0.         0.         1.        ]\n",
      " [0.         0.         0.         0.         0.         1.        ]\n",
      " [0.         0.         0.         0.         0.         1.        ]]\n",
      "Confusion Matrix\n",
      "[[ 213    2    8    0    5    2]\n",
      " [   0  222    1    0    0    0]\n",
      " [   3    0  226    0    1    0]\n",
      " [   6    2    3  208    0    0]\n",
      " [  15    0   16    1  209    2]\n",
      " [   5    0    8    0    1 1174]]\n",
      "Classification Report\n",
      "                  precision    recall  f1-score   support\n",
      "\n",
      "      Apple_Good       0.88      0.93      0.90       230\n",
      "     Banana_Good       0.98      1.00      0.99       223\n",
      "      Guava_Good       0.86      0.98      0.92       230\n",
      "       Lime_Good       1.00      0.95      0.97       219\n",
      "     Orange_Good       0.97      0.86      0.91       243\n",
      "Pomegranate_Good       1.00      0.99      0.99      1188\n",
      "\n",
      "        accuracy                           0.97      2333\n",
      "       macro avg       0.95      0.95      0.95      2333\n",
      "    weighted avg       0.97      0.97      0.97      2333\n",
      "\n",
      "tl-vgg16-rms-prop-model_06.h5\n"
     ]
    },
    {
     "name": "stderr",
     "output_type": "stream",
     "text": [
      "/tmp/ipykernel_5889/2584673372.py:18: UserWarning: `Model.predict_generator` is deprecated and will be removed in a future version. Please use `Model.predict`, which supports generators.\n",
      "  Y_pred = model.predict_generator(imgen, num_of_test_samples)\n"
     ]
    },
    {
     "name": "stdout",
     "output_type": "stream",
     "text": [
      "WARNING:tensorflow:Your input ran out of data; interrupting training. Make sure that your dataset or generator can generate at least `steps_per_epoch * epochs` batches (in this case, 2333 batches). You may need to use the repeat() function when building your dataset.\n",
      "[[0.99999994 0.         0.         0.         0.         0.        ]\n",
      " [0.99999994 0.         0.         0.         0.         0.        ]\n",
      " [0.99999994 0.         0.         0.         0.         0.        ]\n",
      " ...\n",
      " [0.         0.         0.         0.         0.         1.        ]\n",
      " [0.         0.         0.         0.         0.         1.        ]\n",
      " [0.         0.         0.         0.         0.         1.        ]]\n",
      "Confusion Matrix\n",
      "[[ 220    2    2    0    6    0]\n",
      " [   0  222    1    0    0    0]\n",
      " [   3    0  224    0    3    0]\n",
      " [   6    0    2  198   13    0]\n",
      " [   6    0    3    0  233    1]\n",
      " [   5    0    2    0    2 1179]]\n",
      "Classification Report\n",
      "                  precision    recall  f1-score   support\n",
      "\n",
      "      Apple_Good       0.92      0.96      0.94       230\n",
      "     Banana_Good       0.99      1.00      0.99       223\n",
      "      Guava_Good       0.96      0.97      0.97       230\n",
      "       Lime_Good       1.00      0.90      0.95       219\n",
      "     Orange_Good       0.91      0.96      0.93       243\n",
      "Pomegranate_Good       1.00      0.99      1.00      1188\n",
      "\n",
      "        accuracy                           0.98      2333\n",
      "       macro avg       0.96      0.96      0.96      2333\n",
      "    weighted avg       0.98      0.98      0.98      2333\n",
      "\n",
      "tl-vgg16-rms-prop-model_20.h5\n"
     ]
    },
    {
     "name": "stderr",
     "output_type": "stream",
     "text": [
      "/tmp/ipykernel_5889/2584673372.py:18: UserWarning: `Model.predict_generator` is deprecated and will be removed in a future version. Please use `Model.predict`, which supports generators.\n",
      "  Y_pred = model.predict_generator(imgen, num_of_test_samples)\n"
     ]
    },
    {
     "name": "stdout",
     "output_type": "stream",
     "text": [
      "WARNING:tensorflow:Your input ran out of data; interrupting training. Make sure that your dataset or generator can generate at least `steps_per_epoch * epochs` batches (in this case, 2333 batches). You may need to use the repeat() function when building your dataset.\n",
      "[[0.99999994 0.         0.         0.         0.         0.        ]\n",
      " [0.99999994 0.         0.         0.         0.         0.        ]\n",
      " [0.99999994 0.         0.         0.         0.         0.        ]\n",
      " ...\n",
      " [0.         0.         0.         0.         0.         1.        ]\n",
      " [0.         0.         0.         0.         0.         1.        ]\n",
      " [0.         0.         0.         0.         0.         1.        ]]\n",
      "Confusion Matrix\n",
      "[[ 213    2    8    0    5    2]\n",
      " [   0  222    1    0    0    0]\n",
      " [   3    0  226    0    1    0]\n",
      " [   6    2    3  208    0    0]\n",
      " [  15    0   16    1  209    2]\n",
      " [   5    0    8    0    1 1174]]\n",
      "Classification Report\n",
      "                  precision    recall  f1-score   support\n",
      "\n",
      "      Apple_Good       0.88      0.93      0.90       230\n",
      "     Banana_Good       0.98      1.00      0.99       223\n",
      "      Guava_Good       0.86      0.98      0.92       230\n",
      "       Lime_Good       1.00      0.95      0.97       219\n",
      "     Orange_Good       0.97      0.86      0.91       243\n",
      "Pomegranate_Good       1.00      0.99      0.99      1188\n",
      "\n",
      "        accuracy                           0.97      2333\n",
      "       macro avg       0.95      0.95      0.95      2333\n",
      "    weighted avg       0.97      0.97      0.97      2333\n",
      "\n",
      "tl-vgg16-rms-prop-model_03.h5\n"
     ]
    },
    {
     "name": "stderr",
     "output_type": "stream",
     "text": [
      "/tmp/ipykernel_5889/2584673372.py:18: UserWarning: `Model.predict_generator` is deprecated and will be removed in a future version. Please use `Model.predict`, which supports generators.\n",
      "  Y_pred = model.predict_generator(imgen, num_of_test_samples)\n"
     ]
    },
    {
     "name": "stdout",
     "output_type": "stream",
     "text": [
      "WARNING:tensorflow:Your input ran out of data; interrupting training. Make sure that your dataset or generator can generate at least `steps_per_epoch * epochs` batches (in this case, 2333 batches). You may need to use the repeat() function when building your dataset.\n",
      "[[0.99999994 0.         0.         0.         0.         0.        ]\n",
      " [0.         0.         0.99999994 0.         0.         0.        ]\n",
      " [0.         0.         0.99999994 0.         0.         0.        ]\n",
      " ...\n",
      " [0.         0.         0.         0.         0.         1.        ]\n",
      " [0.         0.         0.         0.         0.         1.        ]\n",
      " [0.         0.         0.         0.         0.         1.        ]]\n",
      "Confusion Matrix\n",
      "[[ 192    3   33    0    0    2]\n",
      " [   0  222    1    0    0    0]\n",
      " [   1    0  229    0    0    0]\n",
      " [   1    0    4  214    0    0]\n",
      " [   9    0   50    2  181    1]\n",
      " [   8    0    8    0    0 1172]]\n",
      "Classification Report\n",
      "                  precision    recall  f1-score   support\n",
      "\n",
      "      Apple_Good       0.91      0.83      0.87       230\n",
      "     Banana_Good       0.99      1.00      0.99       223\n",
      "      Guava_Good       0.70      1.00      0.83       230\n",
      "       Lime_Good       0.99      0.98      0.98       219\n",
      "     Orange_Good       1.00      0.74      0.85       243\n",
      "Pomegranate_Good       1.00      0.99      0.99      1188\n",
      "\n",
      "        accuracy                           0.95      2333\n",
      "       macro avg       0.93      0.92      0.92      2333\n",
      "    weighted avg       0.96      0.95      0.95      2333\n",
      "\n",
      "tl-vgg16-rms-prop-model_18.h5\n"
     ]
    },
    {
     "name": "stderr",
     "output_type": "stream",
     "text": [
      "/tmp/ipykernel_5889/2584673372.py:18: UserWarning: `Model.predict_generator` is deprecated and will be removed in a future version. Please use `Model.predict`, which supports generators.\n",
      "  Y_pred = model.predict_generator(imgen, num_of_test_samples)\n"
     ]
    },
    {
     "name": "stdout",
     "output_type": "stream",
     "text": [
      "WARNING:tensorflow:Your input ran out of data; interrupting training. Make sure that your dataset or generator can generate at least `steps_per_epoch * epochs` batches (in this case, 2333 batches). You may need to use the repeat() function when building your dataset.\n",
      "[[0.99999994 0.         0.         0.         0.         0.        ]\n",
      " [0.99999994 0.         0.         0.         0.         0.        ]\n",
      " [0.99999994 0.         0.         0.         0.         0.        ]\n",
      " ...\n",
      " [0.         0.         0.         0.         0.         1.        ]\n",
      " [0.         0.         0.         0.         0.         1.        ]\n",
      " [0.         0.         0.         0.         0.         1.        ]]\n",
      "Confusion Matrix\n",
      "[[ 213    2    8    0    5    2]\n",
      " [   0  222    1    0    0    0]\n",
      " [   3    0  226    0    1    0]\n",
      " [   6    2    3  208    0    0]\n",
      " [  15    0   16    1  209    2]\n",
      " [   5    0    8    0    1 1174]]\n",
      "Classification Report\n",
      "                  precision    recall  f1-score   support\n",
      "\n",
      "      Apple_Good       0.88      0.93      0.90       230\n",
      "     Banana_Good       0.98      1.00      0.99       223\n",
      "      Guava_Good       0.86      0.98      0.92       230\n",
      "       Lime_Good       1.00      0.95      0.97       219\n",
      "     Orange_Good       0.97      0.86      0.91       243\n",
      "Pomegranate_Good       1.00      0.99      0.99      1188\n",
      "\n",
      "        accuracy                           0.97      2333\n",
      "       macro avg       0.95      0.95      0.95      2333\n",
      "    weighted avg       0.97      0.97      0.97      2333\n",
      "\n",
      "tl-vgg16-rms-prop-model_08.h5\n"
     ]
    },
    {
     "name": "stderr",
     "output_type": "stream",
     "text": [
      "/tmp/ipykernel_5889/2584673372.py:18: UserWarning: `Model.predict_generator` is deprecated and will be removed in a future version. Please use `Model.predict`, which supports generators.\n",
      "  Y_pred = model.predict_generator(imgen, num_of_test_samples)\n"
     ]
    },
    {
     "name": "stdout",
     "output_type": "stream",
     "text": [
      "WARNING:tensorflow:Your input ran out of data; interrupting training. Make sure that your dataset or generator can generate at least `steps_per_epoch * epochs` batches (in this case, 2333 batches). You may need to use the repeat() function when building your dataset.\n",
      "[[0.99999994 0.         0.         0.         0.         0.        ]\n",
      " [0.99999994 0.         0.         0.         0.         0.        ]\n",
      " [0.99999994 0.         0.         0.         0.         0.        ]\n",
      " ...\n",
      " [0.         0.         0.         0.         0.         1.        ]\n",
      " [0.         0.         0.         0.         0.         1.        ]\n",
      " [0.         0.         0.         0.         0.         1.        ]]\n",
      "Confusion Matrix\n",
      "[[ 215    2    2    0    8    3]\n",
      " [   0  223    0    0    0    0]\n",
      " [   1    0  226    0    3    0]\n",
      " [   1    2    1  210    5    0]\n",
      " [   5    2    1    0  234    1]\n",
      " [   5    0    0    0    2 1181]]\n",
      "Classification Report\n",
      "                  precision    recall  f1-score   support\n",
      "\n",
      "      Apple_Good       0.95      0.93      0.94       230\n",
      "     Banana_Good       0.97      1.00      0.99       223\n",
      "      Guava_Good       0.98      0.98      0.98       230\n",
      "       Lime_Good       1.00      0.96      0.98       219\n",
      "     Orange_Good       0.93      0.96      0.95       243\n",
      "Pomegranate_Good       1.00      0.99      1.00      1188\n",
      "\n",
      "        accuracy                           0.98      2333\n",
      "       macro avg       0.97      0.97      0.97      2333\n",
      "    weighted avg       0.98      0.98      0.98      2333\n",
      "\n",
      "tl-vgg16-rms-prop-model_01.h5\n"
     ]
    },
    {
     "name": "stderr",
     "output_type": "stream",
     "text": [
      "/tmp/ipykernel_5889/2584673372.py:18: UserWarning: `Model.predict_generator` is deprecated and will be removed in a future version. Please use `Model.predict`, which supports generators.\n",
      "  Y_pred = model.predict_generator(imgen, num_of_test_samples)\n"
     ]
    },
    {
     "name": "stdout",
     "output_type": "stream",
     "text": [
      "WARNING:tensorflow:Your input ran out of data; interrupting training. Make sure that your dataset or generator can generate at least `steps_per_epoch * epochs` batches (in this case, 2333 batches). You may need to use the repeat() function when building your dataset.\n",
      "[[9.9999994e-01 0.0000000e+00 0.0000000e+00 0.0000000e+00 0.0000000e+00\n",
      "  0.0000000e+00]\n",
      " [8.5765484e-32 0.0000000e+00 9.9999994e-01 0.0000000e+00 0.0000000e+00\n",
      "  0.0000000e+00]\n",
      " [9.9999994e-01 0.0000000e+00 0.0000000e+00 0.0000000e+00 0.0000000e+00\n",
      "  0.0000000e+00]\n",
      " ...\n",
      " [0.0000000e+00 0.0000000e+00 0.0000000e+00 0.0000000e+00 0.0000000e+00\n",
      "  1.0000000e+00]\n",
      " [0.0000000e+00 0.0000000e+00 0.0000000e+00 0.0000000e+00 0.0000000e+00\n",
      "  1.0000000e+00]\n",
      " [0.0000000e+00 0.0000000e+00 0.0000000e+00 0.0000000e+00 0.0000000e+00\n",
      "  1.0000000e+00]]\n",
      "Confusion Matrix\n",
      "[[ 171    3   20    1   33    2]\n",
      " [   0  222    1    0    0    0]\n",
      " [   1    0  219    2    8    0]\n",
      " [   0    0    1  190   28    0]\n",
      " [   0    0    3    2  238    0]\n",
      " [   3    0    5    0   23 1157]]\n",
      "Classification Report\n",
      "                  precision    recall  f1-score   support\n",
      "\n",
      "      Apple_Good       0.98      0.74      0.84       230\n",
      "     Banana_Good       0.99      1.00      0.99       223\n",
      "      Guava_Good       0.88      0.95      0.91       230\n",
      "       Lime_Good       0.97      0.87      0.92       219\n",
      "     Orange_Good       0.72      0.98      0.83       243\n",
      "Pomegranate_Good       1.00      0.97      0.99      1188\n",
      "\n",
      "        accuracy                           0.94      2333\n",
      "       macro avg       0.92      0.92      0.91      2333\n",
      "    weighted avg       0.95      0.94      0.94      2333\n",
      "\n",
      "tl-vgg16-rms-prop-model_16.h5\n"
     ]
    },
    {
     "name": "stderr",
     "output_type": "stream",
     "text": [
      "/tmp/ipykernel_5889/2584673372.py:18: UserWarning: `Model.predict_generator` is deprecated and will be removed in a future version. Please use `Model.predict`, which supports generators.\n",
      "  Y_pred = model.predict_generator(imgen, num_of_test_samples)\n"
     ]
    },
    {
     "name": "stdout",
     "output_type": "stream",
     "text": [
      "WARNING:tensorflow:Your input ran out of data; interrupting training. Make sure that your dataset or generator can generate at least `steps_per_epoch * epochs` batches (in this case, 2333 batches). You may need to use the repeat() function when building your dataset.\n",
      "[[0.99999994 0.         0.         0.         0.         0.        ]\n",
      " [0.99999994 0.         0.         0.         0.         0.        ]\n",
      " [0.99999994 0.         0.         0.         0.         0.        ]\n",
      " ...\n",
      " [0.         0.         0.         0.         0.         1.        ]\n",
      " [0.         0.         0.         0.         0.         1.        ]\n",
      " [0.         0.         0.         0.         0.         1.        ]]\n",
      "Confusion Matrix\n",
      "[[ 213    2    8    0    5    2]\n",
      " [   0  222    1    0    0    0]\n",
      " [   3    0  226    0    1    0]\n",
      " [   6    2    3  208    0    0]\n",
      " [  15    0   16    1  209    2]\n",
      " [   5    0    8    0    1 1174]]\n",
      "Classification Report\n",
      "                  precision    recall  f1-score   support\n",
      "\n",
      "      Apple_Good       0.88      0.93      0.90       230\n",
      "     Banana_Good       0.98      1.00      0.99       223\n",
      "      Guava_Good       0.86      0.98      0.92       230\n",
      "       Lime_Good       1.00      0.95      0.97       219\n",
      "     Orange_Good       0.97      0.86      0.91       243\n",
      "Pomegranate_Good       1.00      0.99      0.99      1188\n",
      "\n",
      "        accuracy                           0.97      2333\n",
      "       macro avg       0.95      0.95      0.95      2333\n",
      "    weighted avg       0.97      0.97      0.97      2333\n",
      "\n"
     ]
    }
   ],
   "source": [
    "import os\n",
    "from keras.models import Model\n",
    "from tensorflow.keras.optimizers import Adam\n",
    "from keras.applications.vgg16 import VGG16, preprocess_input\n",
    "from keras.preprocessing.image import ImageDataGenerator\n",
    "from keras.callbacks import ModelCheckpoint, EarlyStopping\n",
    "from keras.layers import Dense, Dropout, Flatten\n",
    "from pathlib import Path\n",
    "import numpy as np\n",
    "\n",
    "\n",
    "import keras\n",
    "\n",
    "\n",
    "BATCH_SIZE = 10\n",
    "test_data_dir = f'all_data_quality/good/test'\n",
    "test_generator = ImageDataGenerator(preprocessing_function=preprocess_input)\n",
    "testgen = test_generator.flow_from_directory(test_data_dir,\n",
    "                                             target_size=(224, 224),\n",
    "                                             class_mode='categorical',\n",
    "                                             batch_size=BATCH_SIZE,\n",
    "                                             shuffle=False,\n",
    "                                             seed=42)\n",
    "\n",
    "\n",
    "quality_model_file = f'model-all-data-quality-good'\n",
    "model_quality_path = Path(quality_model_file)\n",
    "for model_name in model_quality_path.glob('*model_*'):\n",
    "    print(model_name.name)\n",
    "    evaluate(model_name=model_name, imgen=testgen, batch_size=BATCH_SIZE)"
   ]
  },
  {
   "cell_type": "code",
   "execution_count": null,
   "id": "fb14e042",
   "metadata": {},
   "outputs": [],
   "source": []
  }
 ],
 "metadata": {
  "kernelspec": {
   "display_name": "Python 3 (ipykernel)",
   "language": "python",
   "name": "python3"
  },
  "language_info": {
   "codemirror_mode": {
    "name": "ipython",
    "version": 3
   },
   "file_extension": ".py",
   "mimetype": "text/x-python",
   "name": "python",
   "nbconvert_exporter": "python",
   "pygments_lexer": "ipython3",
   "version": "3.10.4"
  }
 },
 "nbformat": 4,
 "nbformat_minor": 5
}
