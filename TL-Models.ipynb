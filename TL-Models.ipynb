{
 "cells": [
  {
   "cell_type": "code",
   "execution_count": 1,
   "id": "e656a15c",
   "metadata": {},
   "outputs": [
    {
     "name": "stderr",
     "output_type": "stream",
     "text": [
      "2022-06-15 08:24:57.294068: W tensorflow/stream_executor/platform/default/dso_loader.cc:64] Could not load dynamic library 'libcudart.so.11.0'; dlerror: libcudart.so.11.0: cannot open shared object file: No such file or directory\n",
      "2022-06-15 08:24:57.294091: I tensorflow/stream_executor/cuda/cudart_stub.cc:29] Ignore above cudart dlerror if you do not have a GPU set up on your machine.\n"
     ]
    }
   ],
   "source": [
    "import numpy as np\n",
    "import tensorflow as tf\n",
    "from tensorflow import keras"
   ]
  },
  {
   "cell_type": "code",
   "execution_count": 2,
   "id": "34dbc023",
   "metadata": {},
   "outputs": [
    {
     "name": "stderr",
     "output_type": "stream",
     "text": [
      "2022-06-15 08:18:16.612491: E tensorflow/stream_executor/cuda/cuda_driver.cc:271] failed call to cuInit: CUDA_ERROR_NO_DEVICE: no CUDA-capable device is detected\n",
      "2022-06-15 08:18:16.612516: I tensorflow/stream_executor/cuda/cuda_diagnostics.cc:156] kernel driver does not appear to be running on this host (ankan): /proc/driver/nvidia/version does not exist\n",
      "2022-06-15 08:18:16.612957: I tensorflow/core/platform/cpu_feature_guard.cc:193] This TensorFlow binary is optimized with oneAPI Deep Neural Network Library (oneDNN) to use the following CPU instructions in performance-critical operations:  AVX2 FMA\n",
      "To enable them in other operations, rebuild TensorFlow with the appropriate compiler flags.\n"
     ]
    }
   ],
   "source": [
    "w, h = (224, 224)\n",
    "base_model = keras.applications.VGG16(\n",
    "    weights='imagenet',  # Load weights pre-trained on ImageNet.\n",
    "    input_shape=(w, h, 3),\n",
    "    include_top=False)  # Do not include the ImageNet classifier at the top."
   ]
  },
  {
   "cell_type": "code",
   "execution_count": 3,
   "id": "c568257d",
   "metadata": {},
   "outputs": [],
   "source": [
    "#Freeze the base model\n",
    "base_model.trainable = False"
   ]
  },
  {
   "cell_type": "code",
   "execution_count": 4,
   "id": "b1dba3aa",
   "metadata": {},
   "outputs": [],
   "source": [
    "\n",
    "inputs = keras.Input(shape=(w, h, 3))\n",
    "# We make sure that the base_model is running in inference mode here,\n",
    "# by passing `training=False`. This is important for fine-tuning, as you will\n",
    "# learn in a few paragraphs.\n",
    "x = base_model(inputs)\n",
    "x = keras.layers.Flatten()(x)\n",
    "x = keras.layers.Dense(1024, activation='relu')(x)\n",
    "outputs = keras.layers.Dense(6, activation='softmax')(x)\n",
    "model = keras.Model(inputs, outputs)"
   ]
  },
  {
   "cell_type": "code",
   "execution_count": 34,
   "id": "4d25573d",
   "metadata": {},
   "outputs": [],
   "source": [
    "from keras.preprocessing.image import ImageDataGenerator"
   ]
  },
  {
   "cell_type": "code",
   "execution_count": 35,
   "id": "0be0e23e",
   "metadata": {},
   "outputs": [],
   "source": [
    "BATCH_SIZE = 32\n",
    "\n",
    "train_generator = ImageDataGenerator()\n",
    "\n",
    "val_generator = ImageDataGenerator()\n",
    "\n",
    "test_generator = ImageDataGenerator()"
   ]
  },
  {
   "cell_type": "code",
   "execution_count": 36,
   "id": "7b84edd5",
   "metadata": {},
   "outputs": [],
   "source": [
    "train_data_dir = '../fruit_data/train'\n",
    "test_data_dir = '../fruit_data/test'\n",
    "val_data_dir = '../fruit_data/validation'"
   ]
  },
  {
   "cell_type": "code",
   "execution_count": 37,
   "id": "7d7f7328",
   "metadata": {},
   "outputs": [
    {
     "name": "stdout",
     "output_type": "stream",
     "text": [
      "Found 11629 images belonging to 6 classes.\n",
      "Found 1289 images belonging to 6 classes.\n",
      "Found 5534 images belonging to 6 classes.\n"
     ]
    }
   ],
   "source": [
    "traingen = train_generator.flow_from_directory(train_data_dir,\n",
    "                                               target_size=(w, h),\n",
    "                                               class_mode='categorical',\n",
    "#                                                classes=class_subset,\n",
    "#                                                subset='training',\n",
    "                                               batch_size=BATCH_SIZE, \n",
    "                                               shuffle=True,\n",
    "                                               seed=42)\n",
    "\n",
    "validgen = val_generator.flow_from_directory(val_data_dir,\n",
    "                                               target_size=(w, h),\n",
    "                                               class_mode='categorical',\n",
    "#                                                classes=class_subset,\n",
    "#                                                subset='validation',\n",
    "                                               batch_size=BATCH_SIZE,\n",
    "                                               shuffle=True,\n",
    "                                               seed=42)\n",
    "\n",
    "testgen = test_generator.flow_from_directory(test_data_dir,\n",
    "                                             target_size=(w, h),\n",
    "                                             class_mode='categorical',\n",
    "#                                              classes=class_subset,\n",
    "                                             batch_size=1,\n",
    "                                             shuffle=False,\n",
    "                                             seed=42)"
   ]
  },
  {
   "cell_type": "code",
   "execution_count": null,
   "id": "20d986a0",
   "metadata": {},
   "outputs": [
    {
     "name": "stdout",
     "output_type": "stream",
     "text": [
      "Epoch 1/20\n",
      "364/364 [==============================] - 3231s 9s/step - loss: 8.4035 - categorical_accuracy: 0.1197 - val_loss: 10.1978 - val_categorical_accuracy: 0.0900\n",
      "Epoch 2/20\n",
      "364/364 [==============================] - 3233s 9s/step - loss: 10.3450 - categorical_accuracy: 0.1055 - val_loss: 10.4957 - val_categorical_accuracy: 0.0939\n",
      "Epoch 3/20\n",
      "209/364 [================>.............] - ETA: 20:38 - loss: 8.0062 - categorical_accuracy: 0.0946"
     ]
    }
   ],
   "source": [
    "model.compile(optimizer=keras.optimizers.Adam(),\n",
    "              loss=keras.losses.CategoricalCrossentropy(),\n",
    "              metrics=[keras.metrics.CategoricalAccuracy()])\n",
    "model.fit(traingen, epochs=20, validation_data= validgen)"
   ]
  },
  {
   "cell_type": "code",
   "execution_count": null,
   "id": "124a6e29",
   "metadata": {},
   "outputs": [],
   "source": []
  }
 ],
 "metadata": {
  "kernelspec": {
   "display_name": "Python 3 (ipykernel)",
   "language": "python",
   "name": "python3"
  },
  "language_info": {
   "codemirror_mode": {
    "name": "ipython",
    "version": 3
   },
   "file_extension": ".py",
   "mimetype": "text/x-python",
   "name": "python",
   "nbconvert_exporter": "python",
   "pygments_lexer": "ipython3",
   "version": "3.10.4"
  }
 },
 "nbformat": 4,
 "nbformat_minor": 5
}
