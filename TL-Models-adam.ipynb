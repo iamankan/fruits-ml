{
 "cells": [
  {
   "cell_type": "code",
   "execution_count": 1,
   "id": "e656a15c",
   "metadata": {},
   "outputs": [
    {
     "name": "stderr",
     "output_type": "stream",
     "text": [
      "2022-06-17 01:45:23.165597: W tensorflow/stream_executor/platform/default/dso_loader.cc:64] Could not load dynamic library 'libcudart.so.11.0'; dlerror: libcudart.so.11.0: cannot open shared object file: No such file or directory\n",
      "2022-06-17 01:45:23.165681: I tensorflow/stream_executor/cuda/cudart_stub.cc:29] Ignore above cudart dlerror if you do not have a GPU set up on your machine.\n"
     ]
    }
   ],
   "source": [
    "import numpy as np\n",
    "import tensorflow as tf\n",
    "from tensorflow import keras"
   ]
  },
  {
   "cell_type": "code",
   "execution_count": 2,
   "id": "34dbc023",
   "metadata": {},
   "outputs": [
    {
     "name": "stderr",
     "output_type": "stream",
     "text": [
      "2022-06-17 01:45:41.081648: E tensorflow/stream_executor/cuda/cuda_driver.cc:271] failed call to cuInit: CUDA_ERROR_NO_DEVICE: no CUDA-capable device is detected\n",
      "2022-06-17 01:45:41.081673: I tensorflow/stream_executor/cuda/cuda_diagnostics.cc:156] kernel driver does not appear to be running on this host (ankan): /proc/driver/nvidia/version does not exist\n",
      "2022-06-17 01:45:41.099246: I tensorflow/core/platform/cpu_feature_guard.cc:193] This TensorFlow binary is optimized with oneAPI Deep Neural Network Library (oneDNN) to use the following CPU instructions in performance-critical operations:  AVX2 FMA\n",
      "To enable them in other operations, rebuild TensorFlow with the appropriate compiler flags.\n"
     ]
    }
   ],
   "source": [
    "w, h = (224, 224)\n",
    "base_model = keras.applications.VGG16(\n",
    "    weights='imagenet',  # Load weights pre-trained on ImageNet.\n",
    "    input_shape=(w, h, 3),\n",
    "    include_top=False)  # Do not include the ImageNet classifier at the top."
   ]
  },
  {
   "cell_type": "code",
   "execution_count": 3,
   "id": "c568257d",
   "metadata": {},
   "outputs": [],
   "source": [
    "#Freeze the base model\n",
    "base_model.trainable = False"
   ]
  },
  {
   "cell_type": "code",
   "execution_count": 4,
   "id": "b1dba3aa",
   "metadata": {},
   "outputs": [],
   "source": [
    "\n",
    "inputs = keras.Input(shape=(w, h, 3))\n",
    "# We make sure that the base_model is running in inference mode here,\n",
    "# by passing `training=False`. This is important for fine-tuning, as you will\n",
    "# learn in a few paragraphs.\n",
    "x = base_model(inputs)\n",
    "x = keras.layers.Flatten()(x)\n",
    "x = keras.layers.Dense(1024, activation='relu')(x)\n",
    "outputs = keras.layers.Dense(6, activation='softmax')(x)\n",
    "model = keras.Model(inputs, outputs)"
   ]
  },
  {
   "cell_type": "code",
   "execution_count": 5,
   "id": "4d25573d",
   "metadata": {},
   "outputs": [],
   "source": [
    "from keras.preprocessing.image import ImageDataGenerator"
   ]
  },
  {
   "cell_type": "code",
   "execution_count": 17,
   "id": "0be0e23e",
   "metadata": {},
   "outputs": [],
   "source": [
    "BATCH_SIZE = 10\n",
    "\n",
    "train_generator = ImageDataGenerator()\n",
    "\n",
    "val_generator = ImageDataGenerator()\n",
    "\n",
    "test_generator = ImageDataGenerator()"
   ]
  },
  {
   "cell_type": "code",
   "execution_count": 18,
   "id": "7b84edd5",
   "metadata": {},
   "outputs": [],
   "source": [
    "train_data_dir = 'fruit_data/train'\n",
    "test_data_dir = 'fruit_data/test'\n",
    "val_data_dir = 'fruit_data/validation'"
   ]
  },
  {
   "cell_type": "code",
   "execution_count": 19,
   "id": "7d7f7328",
   "metadata": {},
   "outputs": [
    {
     "name": "stdout",
     "output_type": "stream",
     "text": [
      "Found 11629 images belonging to 6 classes.\n",
      "Found 1289 images belonging to 6 classes.\n",
      "Found 5534 images belonging to 6 classes.\n"
     ]
    }
   ],
   "source": [
    "traingen = train_generator.flow_from_directory(train_data_dir,\n",
    "                                               target_size=(w, h),\n",
    "                                               class_mode='categorical',\n",
    "#                                                classes=class_subset,\n",
    "#                                                subset='training',\n",
    "                                               batch_size=BATCH_SIZE, \n",
    "                                               shuffle=True,\n",
    "                                               seed=42)\n",
    "\n",
    "validgen = val_generator.flow_from_directory(val_data_dir,\n",
    "                                               target_size=(w, h),\n",
    "                                               class_mode='categorical',\n",
    "#                                                classes=class_subset,\n",
    "#                                                subset='validation',\n",
    "                                               batch_size=BATCH_SIZE,\n",
    "                                               shuffle=True,\n",
    "                                               seed=42)\n",
    "\n",
    "testgen = test_generator.flow_from_directory(test_data_dir,\n",
    "                                             target_size=(w, h),\n",
    "                                             class_mode='categorical',\n",
    "#                                              classes=class_subset,\n",
    "                                             batch_size=1,\n",
    "                                             shuffle=False,\n",
    "                                             seed=42)"
   ]
  },
  {
   "cell_type": "code",
   "execution_count": 22,
   "id": "20d986a0",
   "metadata": {},
   "outputs": [
    {
     "name": "stdout",
     "output_type": "stream",
     "text": [
      "Epoch 1/20\n",
      "1163/1163 [==============================] - 3319s 3s/step - loss: 1.4899 - categorical_accuracy: 0.9643 - val_loss: 1.7064 - val_categorical_accuracy: 0.9643\n",
      "Epoch 2/20\n",
      "1163/1163 [==============================] - 3328s 3s/step - loss: 0.3741 - categorical_accuracy: 0.9880 - val_loss: 1.2415 - val_categorical_accuracy: 0.9791\n",
      "Epoch 3/20\n",
      "1163/1163 [==============================] - 3294s 3s/step - loss: 0.4086 - categorical_accuracy: 0.9899 - val_loss: 1.1855 - val_categorical_accuracy: 0.9760\n",
      "Epoch 4/20\n",
      "1163/1163 [==============================] - 3298s 3s/step - loss: 0.4582 - categorical_accuracy: 0.9901 - val_loss: 3.8561 - val_categorical_accuracy: 0.9597\n",
      "Epoch 5/20\n",
      "1163/1163 [==============================] - 3298s 3s/step - loss: 0.7260 - categorical_accuracy: 0.9886 - val_loss: 1.4567 - val_categorical_accuracy: 0.9868\n",
      "Epoch 6/20\n",
      "1163/1163 [==============================] - 3300s 3s/step - loss: 0.4389 - categorical_accuracy: 0.9924 - val_loss: 2.8722 - val_categorical_accuracy: 0.9829\n",
      "Epoch 7/20\n",
      "1163/1163 [==============================] - 3306s 3s/step - loss: 0.5076 - categorical_accuracy: 0.9940 - val_loss: 2.3111 - val_categorical_accuracy: 0.9837\n",
      "Epoch 8/20\n",
      "1163/1163 [==============================] - 3289s 3s/step - loss: 0.2703 - categorical_accuracy: 0.9963 - val_loss: 3.1868 - val_categorical_accuracy: 0.9814\n",
      "Epoch 9/20\n",
      "1163/1163 [==============================] - 3278s 3s/step - loss: 0.4892 - categorical_accuracy: 0.9952 - val_loss: 2.7861 - val_categorical_accuracy: 0.9829\n",
      "Epoch 10/20\n",
      "1163/1163 [==============================] - 3276s 3s/step - loss: 0.2323 - categorical_accuracy: 0.9978 - val_loss: 2.9777 - val_categorical_accuracy: 0.9814\n",
      "Epoch 11/20\n",
      "1163/1163 [==============================] - 3272s 3s/step - loss: 0.2389 - categorical_accuracy: 0.9977 - val_loss: 3.0306 - val_categorical_accuracy: 0.9806\n",
      "Epoch 12/20\n",
      "1163/1163 [==============================] - 3265s 3s/step - loss: 0.4362 - categorical_accuracy: 0.9964 - val_loss: 2.6372 - val_categorical_accuracy: 0.9829\n",
      "Epoch 13/20\n",
      "1163/1163 [==============================] - 3273s 3s/step - loss: 0.3300 - categorical_accuracy: 0.9964 - val_loss: 2.7512 - val_categorical_accuracy: 0.9868\n",
      "Epoch 14/20\n",
      "1163/1163 [==============================] - 3267s 3s/step - loss: 0.2296 - categorical_accuracy: 0.9966 - val_loss: 3.3622 - val_categorical_accuracy: 0.9845\n",
      "Epoch 15/20\n",
      "1163/1163 [==============================] - 3265s 3s/step - loss: 0.1560 - categorical_accuracy: 0.9983 - val_loss: 2.5036 - val_categorical_accuracy: 0.9868\n",
      "Epoch 16/20\n",
      "1163/1163 [==============================] - 3273s 3s/step - loss: 0.1037 - categorical_accuracy: 0.9987 - val_loss: 2.2486 - val_categorical_accuracy: 0.9899\n",
      "Epoch 17/20\n",
      "1163/1163 [==============================] - 3283s 3s/step - loss: 0.1210 - categorical_accuracy: 0.9983 - val_loss: 3.2459 - val_categorical_accuracy: 0.9876\n",
      "Epoch 18/20\n",
      "1163/1163 [==============================] - 3286s 3s/step - loss: 0.3612 - categorical_accuracy: 0.9978 - val_loss: 4.0886 - val_categorical_accuracy: 0.9853\n",
      "Epoch 19/20\n",
      "1163/1163 [==============================] - 3282s 3s/step - loss: 0.1013 - categorical_accuracy: 0.9989 - val_loss: 4.1153 - val_categorical_accuracy: 0.9853\n",
      "Epoch 20/20\n",
      "1163/1163 [==============================] - 3285s 3s/step - loss: 0.2191 - categorical_accuracy: 0.9975 - val_loss: 4.4183 - val_categorical_accuracy: 0.9845\n"
     ]
    }
   ],
   "source": [
    "save_model = tf.keras.callbacks.ModelCheckpoint(\n",
    "    filepath='model{epoch:08d}.h5',\n",
    "    monitor='val_loss',\n",
    "    mode='min',\n",
    "    save_best_only=True)\n",
    "\n",
    "save_weight = tf.keras.callbacks.ModelCheckpoint(\n",
    "    filepath='weight{epoch:08d}.h5',\n",
    "    save_weights_only=True,\n",
    "    monitor='val_loss',\n",
    "    mode='min',\n",
    "    save_best_only=True)\n",
    "\n",
    "model.compile(optimizer=keras.optimizers.Adam(),\n",
    "              loss=keras.losses.CategoricalCrossentropy(),\n",
    "              metrics=[keras.metrics.CategoricalAccuracy()])\n",
    "history = model.fit(traingen, epochs=20, validation_data= validgen,\n",
    "             callbacks=[save_model, save_weight])"
   ]
  },
  {
   "cell_type": "code",
   "execution_count": 23,
   "id": "124a6e29",
   "metadata": {},
   "outputs": [
    {
     "name": "stdout",
     "output_type": "stream",
     "text": [
      "dict_keys(['loss', 'categorical_accuracy', 'val_loss', 'val_categorical_accuracy'])\n"
     ]
    }
   ],
   "source": [
    "\n",
    "# list all data in history\n",
    "print(history.history.keys())"
   ]
  },
  {
   "cell_type": "code",
   "execution_count": 25,
   "id": "f59f454c",
   "metadata": {},
   "outputs": [],
   "source": [
    "import matplotlib.pyplot as plt"
   ]
  },
  {
   "cell_type": "code",
   "execution_count": 26,
   "id": "954bee60",
   "metadata": {},
   "outputs": [
    {
     "data": {
      "image/png": "[encoded data removed]",
      "text/plain": [
       "<Figure size 432x288 with 1 Axes>"
      ]
     },
     "metadata": {
      "needs_background": "light"
     },
     "output_type": "display_data"
    },
    {
     "data": {
      "image/png": "[encoded data removed]",
      "text/plain": [
       "<Figure size 432x288 with 1 Axes>"
      ]
     },
     "metadata": {
      "needs_background": "light"
     },
     "output_type": "display_data"
    }
   ],
   "source": [
    "# summarize history for accuracy\n",
    "plt.plot(history.history['categorical_accuracy'])\n",
    "plt.plot(history.history['val_categorical_accuracy'])\n",
    "plt.title('model accuracy')\n",
    "plt.ylabel('categorical_accuracy')\n",
    "plt.xlabel('epoch')\n",
    "plt.legend(['train', 'test'], loc='upper left')\n",
    "plt.show()\n",
    "# summarize history for loss\n",
    "plt.plot(history.history['loss'])\n",
    "plt.plot(history.history['val_loss'])\n",
    "plt.title('model loss')\n",
    "plt.ylabel('loss')\n",
    "plt.xlabel('epoch')\n",
    "plt.legend(['train', 'test'], loc='upper left')\n",
    "plt.show()"
   ]
  },
  {
   "cell_type": "code",
   "execution_count": null,
   "id": "8191fd80",
   "metadata": {},
   "outputs": [],
   "source": [
    " "
   ]
  }
 ],
 "metadata": {
  "kernelspec": {
   "display_name": "Python 3 (ipykernel)",
   "language": "python",
   "name": "python3"
  },
  "language_info": {
   "codemirror_mode": {
    "name": "ipython",
    "version": 3
   },
   "file_extension": ".py",
   "mimetype": "text/x-python",
   "name": "python",
   "nbconvert_exporter": "python",
   "pygments_lexer": "ipython3",
   "version": "3.10.4"
  }
 },
 "nbformat": 4,
 "nbformat_minor": 5
}
