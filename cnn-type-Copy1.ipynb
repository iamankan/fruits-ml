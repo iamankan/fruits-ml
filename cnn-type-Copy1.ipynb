{
 "cells": [
  {
   "cell_type": "code",
   "execution_count": 1,
   "id": "70566a6a",
   "metadata": {},
   "outputs": [],
   "source": [
    "import numpy as np\n",
    "import tensorflow as tf\n",
    "from tensorflow import keras\n",
    "from keras.preprocessing.image import ImageDataGenerator"
   ]
  },
  {
   "cell_type": "code",
   "execution_count": 2,
   "id": "be455166",
   "metadata": {},
   "outputs": [],
   "source": [
    "BATCH_SIZE = 10\n",
    "\n",
    "train_generator = ImageDataGenerator()\n",
    "\n",
    "val_generator = ImageDataGenerator()\n",
    "\n",
    "test_generator = ImageDataGenerator()"
   ]
  },
  {
   "cell_type": "code",
   "execution_count": 3,
   "id": "e05bd616",
   "metadata": {},
   "outputs": [],
   "source": [
    "parent_dir = 'fruit_data_type_processed'\n",
    "train_data_dir = f'{parent_dir}/Train'\n",
    "test_data_dir = f'{parent_dir}/Test'\n",
    "val_data_dir = f'{parent_dir}/Validation'\n",
    "w,h = (224, 224)"
   ]
  },
  {
   "cell_type": "code",
   "execution_count": 4,
   "id": "01892cb9",
   "metadata": {},
   "outputs": [
    {
     "name": "stdout",
     "output_type": "stream",
     "text": [
      "Found 13285 images belonging to 2 classes.\n",
      "Found 1476 images belonging to 2 classes.\n",
      "Found 3691 images belonging to 2 classes.\n"
     ]
    }
   ],
   "source": [
    "traingen = train_generator.flow_from_directory(train_data_dir,\n",
    "                                               target_size=(w, h),\n",
    "                                               class_mode='binary',\n",
    "#                                                classes=class_subset,\n",
    "#                                                subset='training',\n",
    "                                               batch_size=BATCH_SIZE, \n",
    "                                               shuffle=True,\n",
    "                                               seed=42)\n",
    "\n",
    "validgen = val_generator.flow_from_directory(val_data_dir,\n",
    "                                               target_size=(w, h),\n",
    "                                               class_mode='binary',\n",
    "#                                                classes=class_subset,\n",
    "#                                                subset='validation',\n",
    "                                               batch_size=BATCH_SIZE,\n",
    "                                               shuffle=True,\n",
    "                                               seed=42)\n",
    "\n",
    "testgen = test_generator.flow_from_directory(test_data_dir,\n",
    "                                             target_size=(w, h),\n",
    "                                             class_mode='binary',\n",
    "#                                              classes=class_subset,\n",
    "                                             batch_size=1,\n",
    "                                             shuffle=False,\n",
    "                                             seed=42)"
   ]
  },
  {
   "cell_type": "code",
   "execution_count": 8,
   "id": "8be03baf",
   "metadata": {},
   "outputs": [
    {
     "name": "stdout",
     "output_type": "stream",
     "text": [
      "Model: \"sequential_1\"\n",
      "_________________________________________________________________\n",
      " Layer (type)                Output Shape              Param #   \n",
      "=================================================================\n",
      " conv2d_4 (Conv2D)           (None, 222, 222, 32)      896       \n",
      "                                                                 \n",
      " max_pooling2d_4 (MaxPooling  (None, 111, 111, 32)     0         \n",
      " 2D)                                                             \n",
      "                                                                 \n",
      " conv2d_5 (Conv2D)           (None, 109, 109, 64)      18496     \n",
      "                                                                 \n",
      " max_pooling2d_5 (MaxPooling  (None, 54, 54, 64)       0         \n",
      " 2D)                                                             \n",
      "                                                                 \n",
      " flatten_1 (Flatten)         (None, 186624)            0         \n",
      "                                                                 \n",
      " dense_2 (Dense)             (None, 1024)              191104000 \n",
      "                                                                 \n",
      " dense_3 (Dense)             (None, 1)                 1025      \n",
      "                                                                 \n",
      "=================================================================\n",
      "Total params: 191,124,417\n",
      "Trainable params: 191,124,417\n",
      "Non-trainable params: 0\n",
      "_________________________________________________________________\n"
     ]
    }
   ],
   "source": [
    "model = keras.Sequential()\n",
    "\n",
    "# Convolutional layer and maxpool layer 1\n",
    "model.add(keras.layers.Conv2D(32,(3,3),activation='relu',input_shape=(w,h,3)))\n",
    "model.add(keras.layers.MaxPool2D(2,2))\n",
    "\n",
    "# Convolutional layer and maxpool layer 2\n",
    "model.add(keras.layers.Conv2D(64,(3,3),activation='relu'))\n",
    "model.add(keras.layers.MaxPool2D(2,2))\n",
    "\n",
    "# # Convolutional layer and maxpool layer 3\n",
    "# model.add(keras.layers.Conv2D(128,(3,3),activation='relu'))\n",
    "# model.add(keras.layers.MaxPool2D(2,2))\n",
    "\n",
    "# # Convolutional layer and maxpool layer 4\n",
    "# model.add(keras.layers.Conv2D(128,(3,3),activation='relu'))\n",
    "# model.add(keras.layers.MaxPool2D(2,2))\n",
    "\n",
    "# This layer flattens the resulting image array to 1D array\n",
    "model.add(keras.layers.Flatten())\n",
    "\n",
    "# Hidden layer with 512 neurons and Rectified Linear Unit activation function \n",
    "model.add(keras.layers.Dense(1024,activation='relu'))\n",
    "\n",
    "# Output layer with single neuron which gives 0 for Cat or 1 for Dog \n",
    "#Here we use sigmoid activation function which makes our model output to lie between 0 and 1\n",
    "model.add(keras.layers.Dense(1,activation='sigmoid'))\n",
    "\n",
    "model.summary()"
   ]
  },
  {
   "cell_type": "code",
   "execution_count": 9,
   "id": "d05364d6",
   "metadata": {},
   "outputs": [],
   "source": [
    "model.compile(optimizer='adam',loss='binary_crossentropy',metrics=['accuracy'])"
   ]
  },
  {
   "cell_type": "code",
   "execution_count": 10,
   "id": "d06cb6c7",
   "metadata": {},
   "outputs": [
    {
     "name": "stdout",
     "output_type": "stream",
     "text": [
      "Epoch 1/100\n"
     ]
    },
    {
     "name": "stderr",
     "output_type": "stream",
     "text": [
      "/tmp/ipykernel_12893/1016774306.py:15: UserWarning: `Model.fit_generator` is deprecated and will be removed in a future version. Please use `Model.fit`, which supports generators.\n",
      "  history = model.fit_generator(traingen,\n"
     ]
    },
    {
     "name": "stdout",
     "output_type": "stream",
     "text": [
      "250/250 [==============================] - ETA: 0s - loss: 225.1758 - accuracy: 0.6976"
     ]
    },
    {
     "name": "stderr",
     "output_type": "stream",
     "text": [
      "2022-07-30 16:27:46.919860: W tensorflow/core/framework/cpu_allocator_impl.cc:82] Allocation of 764411904 exceeds 10% of free system memory.\n",
      "2022-07-30 16:27:48.664695: W tensorflow/core/framework/cpu_allocator_impl.cc:82] Allocation of 764411904 exceeds 10% of free system memory.\n",
      "2022-07-30 16:27:50.065762: W tensorflow/core/framework/cpu_allocator_impl.cc:82] Allocation of 764411904 exceeds 10% of free system memory.\n",
      "2022-07-30 16:28:10.569619: W tensorflow/core/framework/cpu_allocator_impl.cc:82] Allocation of 764411904 exceeds 10% of free system memory.\n"
     ]
    },
    {
     "name": "stdout",
     "output_type": "stream",
     "text": [
      "250/250 [==============================] - 141s 563ms/step - loss: 225.1758 - accuracy: 0.6976 - val_loss: 0.5768 - val_accuracy: 0.7541\n",
      "Epoch 2/100\n",
      "250/250 [==============================] - ETA: 0s - loss: 0.4939 - accuracy: 0.7880"
     ]
    },
    {
     "name": "stderr",
     "output_type": "stream",
     "text": [
      "2022-07-30 16:30:33.484782: W tensorflow/core/framework/cpu_allocator_impl.cc:82] Allocation of 764411904 exceeds 10% of free system memory.\n"
     ]
    },
    {
     "name": "stdout",
     "output_type": "stream",
     "text": [
      "250/250 [==============================] - 165s 660ms/step - loss: 0.4939 - accuracy: 0.7880 - val_loss: 0.5501 - val_accuracy: 0.7683\n",
      "Epoch 3/100\n",
      "250/250 [==============================] - 139s 554ms/step - loss: 1.2729 - accuracy: 0.8044 - val_loss: 0.5941 - val_accuracy: 0.7981\n",
      "Epoch 4/100\n",
      "250/250 [==============================] - 151s 602ms/step - loss: 0.4545 - accuracy: 0.8312 - val_loss: 0.5388 - val_accuracy: 0.7954\n",
      "Epoch 5/100\n",
      "250/250 [==============================] - 149s 598ms/step - loss: 0.4093 - accuracy: 0.8500 - val_loss: 0.5048 - val_accuracy: 0.8164\n",
      "Epoch 6/100\n",
      "250/250 [==============================] - 159s 636ms/step - loss: 0.3191 - accuracy: 0.8896 - val_loss: 0.4901 - val_accuracy: 0.8388\n",
      "Epoch 7/100\n",
      "250/250 [==============================] - 135s 536ms/step - loss: 0.3226 - accuracy: 0.8984 - val_loss: 0.5631 - val_accuracy: 0.8245\n",
      "Epoch 8/100\n",
      "250/250 [==============================] - 161s 645ms/step - loss: 0.2503 - accuracy: 0.9140 - val_loss: 0.4782 - val_accuracy: 0.8401\n",
      "Epoch 9/100\n",
      "250/250 [==============================] - 132s 527ms/step - loss: 0.2500 - accuracy: 0.9114 - val_loss: 0.6268 - val_accuracy: 0.8184\n",
      "Epoch 10/100\n",
      "250/250 [==============================] - 140s 560ms/step - loss: 0.2912 - accuracy: 0.9068 - val_loss: 0.4848 - val_accuracy: 0.8367\n",
      "Epoch 11/100\n",
      "250/250 [==============================] - 149s 596ms/step - loss: 0.1904 - accuracy: 0.9360 - val_loss: 0.5756 - val_accuracy: 0.8598\n",
      "Epoch 12/100\n",
      "250/250 [==============================] - 151s 605ms/step - loss: 1.1480 - accuracy: 0.9052 - val_loss: 0.7745 - val_accuracy: 0.7798\n",
      "Epoch 13/100\n",
      "250/250 [==============================] - 154s 616ms/step - loss: 0.4664 - accuracy: 0.8284 - val_loss: 0.5471 - val_accuracy: 0.7974\n",
      "Epoch 14/100\n",
      "250/250 [==============================] - 154s 615ms/step - loss: 0.3418 - accuracy: 0.8802 - val_loss: 0.5091 - val_accuracy: 0.8178\n",
      "Epoch 15/100\n",
      "250/250 [==============================] - 159s 638ms/step - loss: 0.2703 - accuracy: 0.9024 - val_loss: 0.5520 - val_accuracy: 0.8150\n",
      "Epoch 16/100\n",
      "250/250 [==============================] - 160s 643ms/step - loss: 0.2725 - accuracy: 0.8970 - val_loss: 0.6482 - val_accuracy: 0.8266\n",
      "Epoch 17/100\n",
      "250/250 [==============================] - 161s 645ms/step - loss: 0.2541 - accuracy: 0.9074 - val_loss: 0.5400 - val_accuracy: 0.8421\n",
      "Epoch 18/100\n",
      "250/250 [==============================] - 160s 641ms/step - loss: 0.2165 - accuracy: 0.9160 - val_loss: 0.5178 - val_accuracy: 0.8557\n",
      "Epoch 19/100\n",
      "250/250 [==============================] - 166s 665ms/step - loss: 0.1794 - accuracy: 0.9384 - val_loss: 0.7162 - val_accuracy: 0.8509\n",
      "Epoch 20/100\n",
      "250/250 [==============================] - 161s 645ms/step - loss: 0.2220 - accuracy: 0.9256 - val_loss: 0.5830 - val_accuracy: 0.8611\n",
      "Epoch 21/100\n",
      "250/250 [==============================] - 176s 704ms/step - loss: 0.1854 - accuracy: 0.9380 - val_loss: 0.6078 - val_accuracy: 0.8591\n",
      "Epoch 22/100\n",
      "250/250 [==============================] - 163s 651ms/step - loss: 0.2210 - accuracy: 0.9240 - val_loss: 0.5420 - val_accuracy: 0.8726\n",
      "Epoch 23/100\n",
      "250/250 [==============================] - 173s 695ms/step - loss: 0.1420 - accuracy: 0.9536 - val_loss: 0.7323 - val_accuracy: 0.8692\n",
      "Epoch 24/100\n",
      "250/250 [==============================] - 168s 673ms/step - loss: 0.1711 - accuracy: 0.9448 - val_loss: 0.6104 - val_accuracy: 0.8421\n",
      "Epoch 25/100\n",
      "250/250 [==============================] - 166s 665ms/step - loss: 0.1554 - accuracy: 0.9392 - val_loss: 0.6337 - val_accuracy: 0.8618\n",
      "Epoch 26/100\n",
      "250/250 [==============================] - 173s 694ms/step - loss: 0.2236 - accuracy: 0.9328 - val_loss: 0.6695 - val_accuracy: 0.8516\n",
      "Epoch 27/100\n",
      "250/250 [==============================] - 168s 673ms/step - loss: 0.2071 - accuracy: 0.9371 - val_loss: 0.7967 - val_accuracy: 0.8272\n",
      "Epoch 28/100\n",
      "250/250 [==============================] - 173s 691ms/step - loss: 0.4907 - accuracy: 0.9004 - val_loss: 0.6476 - val_accuracy: 0.7846\n",
      "Epoch 29/100\n",
      "250/250 [==============================] - 172s 688ms/step - loss: 0.2487 - accuracy: 0.9128 - val_loss: 0.7879 - val_accuracy: 0.8327\n",
      "Epoch 30/100\n",
      "250/250 [==============================] - 176s 705ms/step - loss: 0.2482 - accuracy: 0.9328 - val_loss: 0.9047 - val_accuracy: 0.7995\n",
      "Epoch 31/100\n",
      "250/250 [==============================] - 168s 672ms/step - loss: 0.3944 - accuracy: 0.8556 - val_loss: 0.6215 - val_accuracy: 0.8001\n",
      "Epoch 32/100\n",
      "250/250 [==============================] - 185s 742ms/step - loss: 0.3474 - accuracy: 0.8664 - val_loss: 0.7611 - val_accuracy: 0.8096\n",
      "Epoch 33/100\n",
      "250/250 [==============================] - 170s 683ms/step - loss: 0.2935 - accuracy: 0.9012 - val_loss: 0.5759 - val_accuracy: 0.8103\n",
      "Epoch 34/100\n",
      "250/250 [==============================] - 172s 690ms/step - loss: 0.2838 - accuracy: 0.8964 - val_loss: 0.6327 - val_accuracy: 0.8110\n",
      "Epoch 35/100\n",
      "250/250 [==============================] - 183s 731ms/step - loss: 0.2188 - accuracy: 0.9256 - val_loss: 0.5945 - val_accuracy: 0.8198\n",
      "Epoch 36/100\n",
      "250/250 [==============================] - 176s 704ms/step - loss: 0.2228 - accuracy: 0.9228 - val_loss: 0.7223 - val_accuracy: 0.8327\n",
      "Epoch 37/100\n",
      "250/250 [==============================] - 169s 679ms/step - loss: 0.2208 - accuracy: 0.9214 - val_loss: 1.3588 - val_accuracy: 0.8252\n",
      "Epoch 38/100\n",
      "250/250 [==============================] - 183s 732ms/step - loss: 0.2287 - accuracy: 0.9192 - val_loss: 0.7260 - val_accuracy: 0.8306\n",
      "Epoch 39/100\n",
      "250/250 [==============================] - 180s 719ms/step - loss: 0.2152 - accuracy: 0.9312 - val_loss: 0.5448 - val_accuracy: 0.8442\n",
      "Epoch 40/100\n",
      "250/250 [==============================] - 182s 728ms/step - loss: 0.2235 - accuracy: 0.9140 - val_loss: 0.6836 - val_accuracy: 0.8462\n",
      "Epoch 41/100\n",
      "250/250 [==============================] - 172s 690ms/step - loss: 0.2940 - accuracy: 0.9248 - val_loss: 0.8602 - val_accuracy: 0.7954\n",
      "Epoch 42/100\n",
      "250/250 [==============================] - 181s 726ms/step - loss: 0.1930 - accuracy: 0.9368 - val_loss: 0.8415 - val_accuracy: 0.8313\n",
      "Epoch 43/100\n",
      "250/250 [==============================] - 176s 706ms/step - loss: 0.1896 - accuracy: 0.9324 - val_loss: 0.8217 - val_accuracy: 0.8340\n",
      "Epoch 44/100\n",
      "250/250 [==============================] - 173s 693ms/step - loss: 0.1469 - accuracy: 0.9492 - val_loss: 0.8538 - val_accuracy: 0.8455\n",
      "Epoch 45/100\n",
      "250/250 [==============================] - 188s 751ms/step - loss: 0.2145 - accuracy: 0.9415 - val_loss: 0.9256 - val_accuracy: 0.8388\n",
      "Epoch 46/100\n",
      "250/250 [==============================] - 176s 705ms/step - loss: 0.1671 - accuracy: 0.9524 - val_loss: 1.0936 - val_accuracy: 0.8428\n",
      "Epoch 47/100\n",
      "250/250 [==============================] - 177s 707ms/step - loss: 0.1498 - accuracy: 0.9540 - val_loss: 0.8855 - val_accuracy: 0.8774\n",
      "Epoch 48/100\n",
      "250/250 [==============================] - 177s 709ms/step - loss: 0.1147 - accuracy: 0.9640 - val_loss: 0.8830 - val_accuracy: 0.8577\n",
      "Epoch 49/100\n",
      "250/250 [==============================] - 179s 716ms/step - loss: 0.3060 - accuracy: 0.9275 - val_loss: 0.8587 - val_accuracy: 0.7168\n",
      "Epoch 50/100\n",
      "250/250 [==============================] - 179s 716ms/step - loss: 0.2491 - accuracy: 0.9264 - val_loss: 0.7417 - val_accuracy: 0.8543\n",
      "Epoch 51/100\n",
      "250/250 [==============================] - 177s 708ms/step - loss: 0.1417 - accuracy: 0.9576 - val_loss: 0.7204 - val_accuracy: 0.8496\n",
      "Epoch 52/100\n",
      "250/250 [==============================] - 182s 730ms/step - loss: 0.0889 - accuracy: 0.9696 - val_loss: 1.0082 - val_accuracy: 0.8672\n",
      "Epoch 53/100\n",
      "250/250 [==============================] - 174s 696ms/step - loss: 0.0812 - accuracy: 0.9715 - val_loss: 0.8238 - val_accuracy: 0.8774\n",
      "Epoch 54/100\n",
      "250/250 [==============================] - 185s 743ms/step - loss: 0.1297 - accuracy: 0.9708 - val_loss: 1.2704 - val_accuracy: 0.8482\n",
      "Epoch 55/100\n",
      "250/250 [==============================] - 176s 706ms/step - loss: 0.1072 - accuracy: 0.9636 - val_loss: 0.8663 - val_accuracy: 0.8740\n",
      "Epoch 56/100\n",
      "250/250 [==============================] - 194s 777ms/step - loss: 0.1207 - accuracy: 0.9664 - val_loss: 1.2369 - val_accuracy: 0.8801\n",
      "Epoch 57/100\n"
     ]
    },
    {
     "name": "stdout",
     "output_type": "stream",
     "text": [
      "250/250 [==============================] - 182s 730ms/step - loss: 0.0607 - accuracy: 0.9784 - val_loss: 1.2158 - val_accuracy: 0.8557\n",
      "Epoch 58/100\n",
      "250/250 [==============================] - 186s 744ms/step - loss: 0.0924 - accuracy: 0.9724 - val_loss: 0.8967 - val_accuracy: 0.8774\n",
      "Epoch 59/100\n",
      "250/250 [==============================] - 190s 763ms/step - loss: 0.0653 - accuracy: 0.9780 - val_loss: 0.9682 - val_accuracy: 0.8652\n",
      "Epoch 60/100\n",
      "250/250 [==============================] - 192s 771ms/step - loss: 0.1828 - accuracy: 0.9576 - val_loss: 1.0787 - val_accuracy: 0.8591\n",
      "Epoch 61/100\n",
      "250/250 [==============================] - 196s 787ms/step - loss: 0.5132 - accuracy: 0.8581 - val_loss: 1.1695 - val_accuracy: 0.7805\n",
      "Epoch 62/100\n",
      "250/250 [==============================] - 193s 775ms/step - loss: 1.1258 - accuracy: 0.9056 - val_loss: 1.7675 - val_accuracy: 0.8428\n",
      "Epoch 63/100\n",
      "250/250 [==============================] - 201s 806ms/step - loss: 0.3265 - accuracy: 0.9508 - val_loss: 1.3089 - val_accuracy: 0.8489\n",
      "Epoch 64/100\n",
      "250/250 [==============================] - 202s 806ms/step - loss: 0.1419 - accuracy: 0.9620 - val_loss: 1.3285 - val_accuracy: 0.8489\n",
      "Epoch 65/100\n",
      "250/250 [==============================] - 195s 780ms/step - loss: 0.8349 - accuracy: 0.8874 - val_loss: 1.4194 - val_accuracy: 0.8272\n",
      "Epoch 66/100\n",
      "250/250 [==============================] - 200s 802ms/step - loss: 0.2398 - accuracy: 0.9364 - val_loss: 1.1124 - val_accuracy: 0.8570\n",
      "Epoch 67/100\n",
      "250/250 [==============================] - 196s 784ms/step - loss: 0.1770 - accuracy: 0.9548 - val_loss: 1.8806 - val_accuracy: 0.8530\n",
      "Epoch 68/100\n",
      "250/250 [==============================] - 217s 868ms/step - loss: 0.1179 - accuracy: 0.9720 - val_loss: 2.1771 - val_accuracy: 0.8713\n",
      "Epoch 69/100\n",
      "250/250 [==============================] - 205s 821ms/step - loss: 0.0833 - accuracy: 0.9784 - val_loss: 3.1590 - val_accuracy: 0.8665\n",
      "Epoch 70/100\n",
      "250/250 [==============================] - 195s 781ms/step - loss: 0.0962 - accuracy: 0.9764 - val_loss: 1.8087 - val_accuracy: 0.8631\n",
      "Epoch 71/100\n",
      "250/250 [==============================] - 202s 811ms/step - loss: 0.0570 - accuracy: 0.9820 - val_loss: 2.1376 - val_accuracy: 0.8780\n",
      "Epoch 72/100\n",
      "250/250 [==============================] - 207s 826ms/step - loss: 0.0774 - accuracy: 0.9816 - val_loss: 1.6972 - val_accuracy: 0.8638\n",
      "Epoch 73/100\n",
      "250/250 [==============================] - 206s 824ms/step - loss: 0.1282 - accuracy: 0.9696 - val_loss: 1.9667 - val_accuracy: 0.8611\n",
      "Epoch 74/100\n",
      "250/250 [==============================] - 199s 797ms/step - loss: 0.0824 - accuracy: 0.9808 - val_loss: 2.1310 - val_accuracy: 0.8537\n",
      "Epoch 75/100\n",
      "250/250 [==============================] - 210s 841ms/step - loss: 0.0699 - accuracy: 0.9820 - val_loss: 1.8095 - val_accuracy: 0.8652\n",
      "Epoch 76/100\n",
      "250/250 [==============================] - 210s 843ms/step - loss: 0.1603 - accuracy: 0.9620 - val_loss: 1.7066 - val_accuracy: 0.8645\n",
      "Epoch 77/100\n",
      "250/250 [==============================] - 210s 839ms/step - loss: 0.2167 - accuracy: 0.9607 - val_loss: 1.6108 - val_accuracy: 0.8415\n",
      "Epoch 78/100\n",
      "250/250 [==============================] - 207s 831ms/step - loss: 0.0948 - accuracy: 0.9731 - val_loss: 1.6244 - val_accuracy: 0.8862\n",
      "Epoch 79/100\n",
      "250/250 [==============================] - 207s 828ms/step - loss: 0.0676 - accuracy: 0.9772 - val_loss: 2.8995 - val_accuracy: 0.8509\n",
      "Epoch 80/100\n",
      "250/250 [==============================] - 208s 833ms/step - loss: 0.0481 - accuracy: 0.9868 - val_loss: 1.5000 - val_accuracy: 0.8841\n",
      "Epoch 81/100\n",
      "250/250 [==============================] - 207s 831ms/step - loss: 0.0775 - accuracy: 0.9836 - val_loss: 1.4316 - val_accuracy: 0.8794\n",
      "Epoch 82/100\n",
      "250/250 [==============================] - 208s 833ms/step - loss: 0.0583 - accuracy: 0.9856 - val_loss: 1.9687 - val_accuracy: 0.8638\n",
      "Epoch 83/100\n",
      "250/250 [==============================] - 207s 831ms/step - loss: 0.0491 - accuracy: 0.9836 - val_loss: 1.5448 - val_accuracy: 0.8794\n",
      "Epoch 84/100\n",
      "250/250 [==============================] - 208s 833ms/step - loss: 0.0480 - accuracy: 0.9840 - val_loss: 1.7641 - val_accuracy: 0.8747\n",
      "Epoch 85/100\n",
      "250/250 [==============================] - 211s 844ms/step - loss: 0.0296 - accuracy: 0.9904 - val_loss: 2.7274 - val_accuracy: 0.8665\n",
      "Epoch 86/100\n",
      "250/250 [==============================] - 208s 832ms/step - loss: 0.1083 - accuracy: 0.9812 - val_loss: 1.6315 - val_accuracy: 0.8625\n",
      "Epoch 87/100\n",
      "250/250 [==============================] - 206s 826ms/step - loss: 0.0577 - accuracy: 0.9824 - val_loss: 2.7378 - val_accuracy: 0.8767\n",
      "Epoch 88/100\n",
      "250/250 [==============================] - 209s 836ms/step - loss: 0.0256 - accuracy: 0.9956 - val_loss: 1.8114 - val_accuracy: 0.8855\n",
      "Epoch 89/100\n",
      "250/250 [==============================] - 208s 831ms/step - loss: 0.1368 - accuracy: 0.9840 - val_loss: 2.0612 - val_accuracy: 0.8720\n",
      "Epoch 90/100\n",
      "250/250 [==============================] - 211s 847ms/step - loss: 0.1646 - accuracy: 0.9796 - val_loss: 1.8416 - val_accuracy: 0.8618\n",
      "Epoch 91/100\n",
      "250/250 [==============================] - 213s 854ms/step - loss: 0.1535 - accuracy: 0.9796 - val_loss: 2.2165 - val_accuracy: 0.8747\n",
      "Epoch 92/100\n",
      "250/250 [==============================] - 209s 836ms/step - loss: 0.1683 - accuracy: 0.9772 - val_loss: 2.6655 - val_accuracy: 0.8577\n",
      "Epoch 93/100\n",
      "250/250 [==============================] - 209s 836ms/step - loss: 0.0978 - accuracy: 0.9780 - val_loss: 3.0540 - val_accuracy: 0.8591\n",
      "Epoch 94/100\n",
      "250/250 [==============================] - 209s 836ms/step - loss: 0.0589 - accuracy: 0.9868 - val_loss: 2.8151 - val_accuracy: 0.8652\n",
      "Epoch 95/100\n",
      "250/250 [==============================] - 214s 858ms/step - loss: 0.4442 - accuracy: 0.9516 - val_loss: 2.6604 - val_accuracy: 0.8699\n",
      "Epoch 96/100\n",
      "250/250 [==============================] - 209s 836ms/step - loss: 0.0547 - accuracy: 0.9868 - val_loss: 2.9809 - val_accuracy: 0.8638\n",
      "Epoch 97/100\n",
      "250/250 [==============================] - 210s 841ms/step - loss: 0.0782 - accuracy: 0.9848 - val_loss: 3.3418 - val_accuracy: 0.8645\n",
      "Epoch 98/100\n",
      "250/250 [==============================] - 208s 833ms/step - loss: 0.2541 - accuracy: 0.9580 - val_loss: 2.1167 - val_accuracy: 0.8360\n",
      "Epoch 99/100\n",
      "250/250 [==============================] - 209s 836ms/step - loss: 0.0861 - accuracy: 0.9792 - val_loss: 2.7281 - val_accuracy: 0.8625\n",
      "Epoch 100/100\n",
      "250/250 [==============================] - 211s 848ms/step - loss: 0.1244 - accuracy: 0.9840 - val_loss: 3.3148 - val_accuracy: 0.8774\n"
     ]
    }
   ],
   "source": [
    "model_dir = 'Fruit-Type-Models'\n",
    "save_model = tf.keras.callbacks.ModelCheckpoint(\n",
    "    filepath=model_dir+'/cnn_model_{epoch:08d}.h5',\n",
    "    monitor='val_loss',\n",
    "    mode='min',\n",
    "    save_best_only=True)\n",
    "\n",
    "save_weight = tf.keras.callbacks.ModelCheckpoint(\n",
    "    filepath=model_dir+'/cnn_weight_{epoch:08d}.h5',\n",
    "    save_weights_only=True,\n",
    "    monitor='val_loss',\n",
    "    mode='min',\n",
    "    save_best_only=True)\n",
    "\n",
    "history = model.fit_generator(traingen,\n",
    "         steps_per_epoch = 250,\n",
    "         epochs = 100,\n",
    "         validation_data = validgen,\n",
    "                   callbacks=[save_model, save_weight])\n",
    "\n"
   ]
  },
  {
   "cell_type": "code",
   "execution_count": 11,
   "id": "20b7017e",
   "metadata": {},
   "outputs": [
    {
     "name": "stdout",
     "output_type": "stream",
     "text": [
      "dict_keys(['loss', 'accuracy', 'val_loss', 'val_accuracy'])\n"
     ]
    },
    {
     "data": {
      "image/png": "[encoded data removed]",
      "text/plain": [
       "<Figure size 432x288 with 1 Axes>"
      ]
     },
     "metadata": {
      "needs_background": "light"
     },
     "output_type": "display_data"
    },
    {
     "data": {
      "image/png": "[encoded data removed]",
      "text/plain": [
       "<Figure size 432x288 with 1 Axes>"
      ]
     },
     "metadata": {
      "needs_background": "light"
     },
     "output_type": "display_data"
    }
   ],
   "source": [
    "# list all data in history\n",
    "print(history.history.keys())\n",
    "import matplotlib.pyplot as plt\n",
    "# summarize history for accuracy\n",
    "plt.plot(history.history['accuracy'])\n",
    "plt.plot(history.history['val_accuracy'])\n",
    "plt.title('model accuracy')\n",
    "plt.ylabel('categorical_accuracy')\n",
    "plt.xlabel('epoch')\n",
    "plt.legend(['train', 'test'], loc='upper left')\n",
    "plt.show()\n",
    "# summarize history for loss\n",
    "plt.plot(history.history['loss'])\n",
    "plt.plot(history.history['val_loss'])\n",
    "plt.title('model loss')\n",
    "plt.ylabel('loss')\n",
    "plt.xlabel('epoch')\n",
    "plt.legend(['train', 'test'], loc='upper left')\n",
    "plt.show()"
   ]
  },
  {
   "cell_type": "code",
   "execution_count": null,
   "id": "1cd31150",
   "metadata": {},
   "outputs": [],
   "source": []
  }
 ],
 "metadata": {
  "kernelspec": {
   "display_name": "Python 3 (ipykernel)",
   "language": "python",
   "name": "python3"
  },
  "language_info": {
   "codemirror_mode": {
    "name": "ipython",
    "version": 3
   },
   "file_extension": ".py",
   "mimetype": "text/x-python",
   "name": "python",
   "nbconvert_exporter": "python",
   "pygments_lexer": "ipython3",
   "version": "3.10.4"
  }
 },
 "nbformat": 4,
 "nbformat_minor": 5
}
