{
 "cells": [
  {
   "cell_type": "code",
   "execution_count": 18,
   "id": "34dd3622",
   "metadata": {},
   "outputs": [],
   "source": [
    "import numpy as np\n",
    "import tensorflow as tf\n",
    "from tensorflow import keras"
   ]
  },
  {
   "cell_type": "code",
   "execution_count": 2,
   "id": "6612d806",
   "metadata": {},
   "outputs": [
    {
     "name": "stderr",
     "output_type": "stream",
     "text": [
      "2022-09-15 23:23:27.290552: E tensorflow/stream_executor/cuda/cuda_driver.cc:271] failed call to cuInit: CUDA_ERROR_NO_DEVICE: no CUDA-capable device is detected\n",
      "2022-09-15 23:23:27.290634: I tensorflow/stream_executor/cuda/cuda_diagnostics.cc:156] kernel driver does not appear to be running on this host (ankan): /proc/driver/nvidia/version does not exist\n",
      "2022-09-15 23:23:27.311793: I tensorflow/core/platform/cpu_feature_guard.cc:193] This TensorFlow binary is optimized with oneAPI Deep Neural Network Library (oneDNN) to use the following CPU instructions in performance-critical operations:  AVX2 FMA\n",
      "To enable them in other operations, rebuild TensorFlow with the appropriate compiler flags.\n"
     ]
    }
   ],
   "source": [
    "w, h = (224, 224)\n",
    "base_model = keras.applications.VGG16(\n",
    "    weights='imagenet',  # Load weights pre-trained on ImageNet.\n",
    "    input_shape=(w, h, 3),\n",
    "    include_top=False)  # Do not include the ImageNet classifier at the top."
   ]
  },
  {
   "cell_type": "code",
   "execution_count": 3,
   "id": "e16dd362",
   "metadata": {},
   "outputs": [],
   "source": [
    "#Freeze the base model\n",
    "base_model.trainable = False"
   ]
  },
  {
   "cell_type": "code",
   "execution_count": 4,
   "id": "68af634f",
   "metadata": {},
   "outputs": [],
   "source": [
    "inputs = keras.Input(shape=(w, h, 3))\n",
    "# We make sure that the base_model is running in inference mode here,\n",
    "# by passing `training=False`. This is important for fine-tuning, as you will\n",
    "# learn in a few paragraphs.\n",
    "x = base_model(inputs)\n",
    "x = keras.layers.Flatten()(x)\n",
    "x = keras.layers.Dense(1024, activation='relu')(x)\n",
    "outputs = keras.layers.Dense(6, activation='softmax')(x)\n",
    "model = keras.Model(inputs, outputs)"
   ]
  },
  {
   "cell_type": "code",
   "execution_count": 5,
   "id": "6beb46bb",
   "metadata": {},
   "outputs": [],
   "source": [
    "from keras.preprocessing.image import ImageDataGenerator"
   ]
  },
  {
   "cell_type": "code",
   "execution_count": 6,
   "id": "d9313662",
   "metadata": {},
   "outputs": [],
   "source": [
    "BATCH_SIZE = 10\n",
    "\n",
    "train_generator = ImageDataGenerator()\n",
    "\n",
    "val_generator = ImageDataGenerator()\n",
    "\n",
    "test_generator = ImageDataGenerator()"
   ]
  },
  {
   "cell_type": "code",
   "execution_count": 9,
   "id": "fbbce38c",
   "metadata": {},
   "outputs": [],
   "source": [
    "parent_folder = 'all_data_quality/bad'\n",
    "train_data_dir = f'{parent_folder}/train'\n",
    "test_data_dir = f'{parent_folder}/test'\n",
    "val_data_dir = f'{parent_folder}/val'"
   ]
  },
  {
   "cell_type": "code",
   "execution_count": 12,
   "id": "eaa7d9bd",
   "metadata": {},
   "outputs": [
    {
     "name": "stdout",
     "output_type": "stream",
     "text": [
      "Found 4888 images belonging to 6 classes.\n",
      "Found 543 images belonging to 6 classes.\n",
      "Found 1357 images belonging to 6 classes.\n"
     ]
    }
   ],
   "source": [
    "traingen = train_generator.flow_from_directory(train_data_dir,\n",
    "                                               target_size=(w, h),\n",
    "                                               class_mode='categorical',\n",
    "#                                                classes=class_subset,\n",
    "#                                                subset='training',\n",
    "                                               batch_size=BATCH_SIZE, \n",
    "                                               shuffle=True,\n",
    "                                               seed=42)\n",
    "\n",
    "validgen = val_generator.flow_from_directory(val_data_dir,\n",
    "                                               target_size=(w, h),\n",
    "                                               class_mode='categorical',\n",
    "#                                                classes=class_subset,\n",
    "#                                                subset='validation',\n",
    "                                               batch_size=BATCH_SIZE,\n",
    "                                               shuffle=True,\n",
    "                                               seed=42)\n",
    "\n",
    "testgen = test_generator.flow_from_directory(test_data_dir,\n",
    "                                             target_size=(w, h),\n",
    "                                             class_mode='categorical',\n",
    "#                                              classes=class_subset,\n",
    "                                             batch_size=1,\n",
    "                                             shuffle=False,\n",
    "                                             seed=42)"
   ]
  },
  {
   "cell_type": "code",
   "execution_count": 15,
   "id": "d7001542",
   "metadata": {},
   "outputs": [
    {
     "name": "stdout",
     "output_type": "stream",
     "text": [
      "Epoch 1/20\n",
      "489/489 [==============================] - 1516s 3s/step - loss: 2.0948 - categorical_accuracy: 0.9885 - val_loss: 12.4587 - val_categorical_accuracy: 0.9448\n",
      "Epoch 2/20\n",
      "489/489 [==============================] - 1535s 3s/step - loss: 2.0103 - categorical_accuracy: 0.9869 - val_loss: 3.5857 - val_categorical_accuracy: 0.9853\n",
      "Epoch 3/20\n",
      "489/489 [==============================] - 1573s 3s/step - loss: 0.9708 - categorical_accuracy: 0.9945 - val_loss: 22.7788 - val_categorical_accuracy: 0.9503\n",
      "Epoch 4/20\n",
      "489/489 [==============================] - 1556s 3s/step - loss: 0.4092 - categorical_accuracy: 0.9973 - val_loss: 3.2364 - val_categorical_accuracy: 0.9908\n",
      "Epoch 5/20\n",
      "489/489 [==============================] - 1533s 3s/step - loss: 0.2090 - categorical_accuracy: 0.9990 - val_loss: 1.9355 - val_categorical_accuracy: 0.9908\n",
      "Epoch 6/20\n",
      "489/489 [==============================] - 1530s 3s/step - loss: 0.0098 - categorical_accuracy: 0.9996 - val_loss: 2.0399 - val_categorical_accuracy: 0.9908\n",
      "Epoch 7/20\n",
      "489/489 [==============================] - 1529s 3s/step - loss: 6.2812e-04 - categorical_accuracy: 0.9998 - val_loss: 2.0401 - val_categorical_accuracy: 0.9908\n",
      "Epoch 8/20\n",
      "489/489 [==============================] - 1527s 3s/step - loss: 6.1389e-04 - categorical_accuracy: 0.9998 - val_loss: 2.0403 - val_categorical_accuracy: 0.9908\n",
      "Epoch 9/20\n",
      "489/489 [==============================] - 1524s 3s/step - loss: 6.0082e-04 - categorical_accuracy: 0.9998 - val_loss: 2.0406 - val_categorical_accuracy: 0.9908\n",
      "Epoch 10/20\n",
      "489/489 [==============================] - 1530s 3s/step - loss: 5.8767e-04 - categorical_accuracy: 0.9998 - val_loss: 2.0408 - val_categorical_accuracy: 0.9908\n",
      "Epoch 11/20\n",
      "489/489 [==============================] - 1531s 3s/step - loss: 5.7513e-04 - categorical_accuracy: 0.9998 - val_loss: 2.0410 - val_categorical_accuracy: 0.9908\n",
      "Epoch 12/20\n",
      "489/489 [==============================] - 1530s 3s/step - loss: 5.6261e-04 - categorical_accuracy: 0.9998 - val_loss: 2.0413 - val_categorical_accuracy: 0.9908\n",
      "Epoch 13/20\n",
      "489/489 [==============================] - 1525s 3s/step - loss: 5.5136e-04 - categorical_accuracy: 0.9998 - val_loss: 2.0415 - val_categorical_accuracy: 0.9908\n",
      "Epoch 14/20\n",
      "489/489 [==============================] - 1523s 3s/step - loss: 5.4009e-04 - categorical_accuracy: 0.9998 - val_loss: 2.0417 - val_categorical_accuracy: 0.9908\n",
      "Epoch 15/20\n",
      "489/489 [==============================] - 1518s 3s/step - loss: 5.2852e-04 - categorical_accuracy: 0.9998 - val_loss: 2.0419 - val_categorical_accuracy: 0.9908\n",
      "Epoch 16/20\n",
      "489/489 [==============================] - 1515s 3s/step - loss: 5.1809e-04 - categorical_accuracy: 0.9998 - val_loss: 2.0422 - val_categorical_accuracy: 0.9908\n",
      "Epoch 17/20\n",
      "489/489 [==============================] - 1517s 3s/step - loss: 5.0785e-04 - categorical_accuracy: 0.9998 - val_loss: 2.0424 - val_categorical_accuracy: 0.9908\n",
      "Epoch 18/20\n",
      "489/489 [==============================] - 1516s 3s/step - loss: 4.9863e-04 - categorical_accuracy: 0.9998 - val_loss: 2.0426 - val_categorical_accuracy: 0.9908\n",
      "Epoch 19/20\n",
      "489/489 [==============================] - 1521s 3s/step - loss: 4.8928e-04 - categorical_accuracy: 0.9998 - val_loss: 2.0428 - val_categorical_accuracy: 0.9908\n",
      "Epoch 20/20\n",
      "489/489 [==============================] - 1524s 3s/step - loss: 4.8037e-04 - categorical_accuracy: 0.9998 - val_loss: 2.0431 - val_categorical_accuracy: 0.9908\n"
     ]
    }
   ],
   "source": [
    "save_model = tf.keras.callbacks.ModelCheckpoint(\n",
    "    filepath='model-all-data-quality-bad/tl-vgg16-rms-prop-model_{epoch:02d}.h5')\n",
    "\n",
    "save_weight = tf.keras.callbacks.ModelCheckpoint(\n",
    "    filepath='model-all-data-quality-bad/tl-vgg16-rms-prop-weight_{epoch:02d}.h5',\n",
    "    save_weights_only=True)\n",
    "\n",
    "lr_schedule = keras.optimizers.schedules.ExponentialDecay(\n",
    "    initial_learning_rate=1e-2,\n",
    "    decay_steps=10000,\n",
    "    decay_rate=0.9)\n",
    "\n",
    "# rmsprop = tf.keras.optimizers.RMSprop(learning_rate=lr_schedule)\n",
    "\n",
    "model.compile(optimizer=keras.optimizers.RMSprop(learning_rate=lr_schedule),\n",
    "              loss=keras.losses.CategoricalCrossentropy(),\n",
    "              metrics=[keras.metrics.CategoricalAccuracy()])\n",
    "history = model.fit(traingen, epochs=20, validation_data= validgen,\n",
    "             callbacks=[save_model, save_weight])"
   ]
  },
  {
   "cell_type": "code",
   "execution_count": 16,
   "id": "90690dcc",
   "metadata": {},
   "outputs": [
    {
     "name": "stdout",
     "output_type": "stream",
     "text": [
      "dict_keys(['loss', 'categorical_accuracy', 'val_loss', 'val_categorical_accuracy'])\n"
     ]
    }
   ],
   "source": [
    "\n",
    "# list all data in history\n",
    "print(history.history.keys())"
   ]
  },
  {
   "cell_type": "code",
   "execution_count": 17,
   "id": "b932693a",
   "metadata": {},
   "outputs": [
    {
     "data": {
      "image/png": "[encoded data removed]",
      "text/plain": [
       "<Figure size 432x288 with 1 Axes>"
      ]
     },
     "metadata": {
      "needs_background": "light"
     },
     "output_type": "display_data"
    },
    {
     "data": {
      "image/png": "[encoded data removed]",
      "text/plain": [
       "<Figure size 432x288 with 1 Axes>"
      ]
     },
     "metadata": {
      "needs_background": "light"
     },
     "output_type": "display_data"
    }
   ],
   "source": [
    "import matplotlib.pyplot as plt\n",
    "\n",
    "# summarize history for accuracy\n",
    "plt.plot(history.history['categorical_accuracy'])\n",
    "plt.plot(history.history['val_categorical_accuracy'])\n",
    "plt.title('model accuracy')\n",
    "plt.ylabel('categorical_accuracy')\n",
    "plt.xlabel('epoch')\n",
    "plt.legend(['train', 'test'], loc='upper left')\n",
    "plt.show()\n",
    "# summarize history for loss\n",
    "plt.plot(history.history['loss'])\n",
    "plt.plot(history.history['val_loss'])\n",
    "plt.title('model loss')\n",
    "plt.ylabel('loss')\n",
    "plt.xlabel('epoch')\n",
    "plt.legend(['train', 'test'], loc='upper left')\n",
    "plt.show()"
   ]
  },
  {
   "cell_type": "code",
   "execution_count": null,
   "id": "e96dfbc6",
   "metadata": {},
   "outputs": [],
   "source": []
  },
  {
   "cell_type": "code",
   "execution_count": null,
   "id": "4b10d11e",
   "metadata": {},
   "outputs": [],
   "source": []
  },
  {
   "cell_type": "code",
   "execution_count": null,
   "id": "5b7b9b75",
   "metadata": {},
   "outputs": [],
   "source": []
  },
  {
   "cell_type": "code",
   "execution_count": null,
   "id": "de9202f1",
   "metadata": {},
   "outputs": [],
   "source": []
  },
  {
   "cell_type": "code",
   "execution_count": null,
   "id": "dbc3b4f7",
   "metadata": {},
   "outputs": [],
   "source": []
  },
  {
   "cell_type": "code",
   "execution_count": null,
   "id": "bc40cf33",
   "metadata": {},
   "outputs": [],
   "source": []
  },
  {
   "cell_type": "code",
   "execution_count": null,
   "id": "9003be83",
   "metadata": {},
   "outputs": [],
   "source": []
  },
  {
   "cell_type": "code",
   "execution_count": null,
   "id": "fde49d3b",
   "metadata": {},
   "outputs": [],
   "source": []
  },
  {
   "cell_type": "code",
   "execution_count": null,
   "id": "17d70617",
   "metadata": {},
   "outputs": [],
   "source": []
  },
  {
   "cell_type": "code",
   "execution_count": null,
   "id": "c1cc96d4",
   "metadata": {},
   "outputs": [],
   "source": []
  },
  {
   "cell_type": "code",
   "execution_count": null,
   "id": "09b0bdba",
   "metadata": {},
   "outputs": [],
   "source": []
  }
 ],
 "metadata": {
  "kernelspec": {
   "display_name": "Python 3 (ipykernel)",
   "language": "python",
   "name": "python3"
  },
  "language_info": {
   "codemirror_mode": {
    "name": "ipython",
    "version": 3
   },
   "file_extension": ".py",
   "mimetype": "text/x-python",
   "name": "python",
   "nbconvert_exporter": "python",
   "pygments_lexer": "ipython3",
   "version": "3.10.4"
  }
 },
 "nbformat": 4,
 "nbformat_minor": 5
}
