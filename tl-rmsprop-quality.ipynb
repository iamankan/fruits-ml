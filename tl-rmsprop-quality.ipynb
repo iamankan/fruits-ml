{
 "cells": [
  {
   "cell_type": "code",
   "execution_count": 1,
   "id": "34dd3622",
   "metadata": {},
   "outputs": [],
   "source": [
    "import numpy as np\n",
    "import tensorflow as tf\n",
    "from tensorflow import keras"
   ]
  },
  {
   "cell_type": "code",
   "execution_count": 2,
   "id": "6612d806",
   "metadata": {},
   "outputs": [
    {
     "name": "stderr",
     "output_type": "stream",
     "text": [
      "2022-09-17 14:22:06.018323: E tensorflow/stream_executor/cuda/cuda_driver.cc:271] failed call to cuInit: CUDA_ERROR_NO_DEVICE: no CUDA-capable device is detected\n",
      "2022-09-17 14:22:06.018388: I tensorflow/stream_executor/cuda/cuda_diagnostics.cc:156] kernel driver does not appear to be running on this host (ankan): /proc/driver/nvidia/version does not exist\n",
      "2022-09-17 14:22:06.025535: I tensorflow/core/platform/cpu_feature_guard.cc:193] This TensorFlow binary is optimized with oneAPI Deep Neural Network Library (oneDNN) to use the following CPU instructions in performance-critical operations:  AVX2 FMA\n",
      "To enable them in other operations, rebuild TensorFlow with the appropriate compiler flags.\n"
     ]
    }
   ],
   "source": [
    "w, h = (224, 224)\n",
    "base_model = keras.applications.VGG16(\n",
    "    weights='imagenet',  # Load weights pre-trained on ImageNet.\n",
    "    input_shape=(w, h, 3),\n",
    "    include_top=False)  # Do not include the ImageNet classifier at the top."
   ]
  },
  {
   "cell_type": "code",
   "execution_count": 3,
   "id": "e16dd362",
   "metadata": {},
   "outputs": [],
   "source": [
    "#Freeze the base model\n",
    "base_model.trainable = False"
   ]
  },
  {
   "cell_type": "code",
   "execution_count": 4,
   "id": "68af634f",
   "metadata": {},
   "outputs": [
    {
     "name": "stderr",
     "output_type": "stream",
     "text": [
      "2022-09-17 14:22:08.903962: W tensorflow/core/framework/cpu_allocator_impl.cc:82] Allocation of 102760448 exceeds 10% of free system memory.\n",
      "2022-09-17 14:22:09.036971: W tensorflow/core/framework/cpu_allocator_impl.cc:82] Allocation of 102760448 exceeds 10% of free system memory.\n",
      "2022-09-17 14:22:09.397618: W tensorflow/core/framework/cpu_allocator_impl.cc:82] Allocation of 102760448 exceeds 10% of free system memory.\n"
     ]
    }
   ],
   "source": [
    "inputs = keras.Input(shape=(w, h, 3))\n",
    "# We make sure that the base_model is running in inference mode here,\n",
    "# by passing `training=False`. This is important for fine-tuning, as you will\n",
    "# learn in a few paragraphs.\n",
    "x = base_model(inputs)\n",
    "x = keras.layers.Flatten()(x)\n",
    "x = keras.layers.Dense(1024, activation='relu')(x)\n",
    "outputs = keras.layers.Dense(2, activation='softmax')(x)\n",
    "model = keras.Model(inputs, outputs)"
   ]
  },
  {
   "cell_type": "code",
   "execution_count": 5,
   "id": "6beb46bb",
   "metadata": {},
   "outputs": [],
   "source": [
    "from keras.preprocessing.image import ImageDataGenerator"
   ]
  },
  {
   "cell_type": "code",
   "execution_count": 6,
   "id": "d9313662",
   "metadata": {},
   "outputs": [],
   "source": [
    "BATCH_SIZE = 10\n",
    "\n",
    "train_generator = ImageDataGenerator()\n",
    "\n",
    "val_generator = ImageDataGenerator()\n",
    "\n",
    "test_generator = ImageDataGenerator()"
   ]
  },
  {
   "cell_type": "code",
   "execution_count": 7,
   "id": "fbbce38c",
   "metadata": {},
   "outputs": [],
   "source": [
    "parent_folder = 'fruit_data_quality'\n",
    "train_data_dir = f'{parent_folder}/Train'\n",
    "test_data_dir = f'{parent_folder}/Test'\n",
    "val_data_dir = f'{parent_folder}/Validation'"
   ]
  },
  {
   "cell_type": "code",
   "execution_count": 8,
   "id": "eaa7d9bd",
   "metadata": {},
   "outputs": [
    {
     "name": "stdout",
     "output_type": "stream",
     "text": [
      "Found 13285 images belonging to 2 classes.\n",
      "Found 1476 images belonging to 2 classes.\n",
      "Found 3691 images belonging to 2 classes.\n"
     ]
    }
   ],
   "source": [
    "traingen = train_generator.flow_from_directory(train_data_dir,\n",
    "                                               target_size=(w, h),\n",
    "                                               class_mode='categorical',\n",
    "#                                                classes=class_subset,\n",
    "#                                                subset='training',\n",
    "                                               batch_size=BATCH_SIZE, \n",
    "                                               shuffle=True,\n",
    "                                               seed=42)\n",
    "\n",
    "validgen = val_generator.flow_from_directory(val_data_dir,\n",
    "                                               target_size=(w, h),\n",
    "                                               class_mode='categorical',\n",
    "#                                                classes=class_subset,\n",
    "#                                                subset='validation',\n",
    "                                               batch_size=BATCH_SIZE,\n",
    "                                               shuffle=True,\n",
    "                                               seed=42)\n",
    "\n",
    "testgen = test_generator.flow_from_directory(test_data_dir,\n",
    "                                             target_size=(w, h),\n",
    "                                             class_mode='categorical',\n",
    "#                                              classes=class_subset,\n",
    "                                             batch_size=1,\n",
    "                                             shuffle=False,\n",
    "                                             seed=42)"
   ]
  },
  {
   "cell_type": "code",
   "execution_count": 9,
   "id": "d7001542",
   "metadata": {},
   "outputs": [
    {
     "name": "stdout",
     "output_type": "stream",
     "text": [
      "Epoch 1/20\n"
     ]
    },
    {
     "name": "stderr",
     "output_type": "stream",
     "text": [
      "2022-09-17 14:23:34.822535: W tensorflow/core/framework/cpu_allocator_impl.cc:82] Allocation of 102760448 exceeds 10% of free system memory.\n",
      "2022-09-17 14:23:35.930705: W tensorflow/core/framework/cpu_allocator_impl.cc:82] Allocation of 102760448 exceeds 10% of free system memory.\n"
     ]
    },
    {
     "name": "stdout",
     "output_type": "stream",
     "text": [
      "1329/1329 [==============================] - 4419s 3s/step - loss: 33.9522 - categorical_accuracy: 0.9545 - val_loss: 0.3674 - val_categorical_accuracy: 0.9905\n",
      "Epoch 2/20\n",
      "1329/1329 [==============================] - 4341s 3s/step - loss: 1.4718 - categorical_accuracy: 0.9821 - val_loss: 0.8965 - val_categorical_accuracy: 0.9878\n",
      "Epoch 3/20\n",
      "1329/1329 [==============================] - 4347s 3s/step - loss: 0.9168 - categorical_accuracy: 0.9888 - val_loss: 0.8044 - val_categorical_accuracy: 0.9912\n",
      "Epoch 4/20\n",
      "1329/1329 [==============================] - 4233s 3s/step - loss: 0.7050 - categorical_accuracy: 0.9924 - val_loss: 1.3318 - val_categorical_accuracy: 0.9892\n",
      "Epoch 5/20\n",
      "1329/1329 [==============================] - 4168s 3s/step - loss: 0.7337 - categorical_accuracy: 0.9953 - val_loss: 0.7432 - val_categorical_accuracy: 0.9966\n",
      "Epoch 6/20\n",
      "1329/1329 [==============================] - 4173s 3s/step - loss: 0.4451 - categorical_accuracy: 0.9955 - val_loss: 3.4388 - val_categorical_accuracy: 0.9797\n",
      "Epoch 7/20\n",
      "1329/1329 [==============================] - 4152s 3s/step - loss: 0.2119 - categorical_accuracy: 0.9968 - val_loss: 0.1534 - val_categorical_accuracy: 0.9959\n",
      "Epoch 8/20\n",
      "1329/1329 [==============================] - 4142s 3s/step - loss: 0.1537 - categorical_accuracy: 0.9981 - val_loss: 0.7628 - val_categorical_accuracy: 0.9953\n",
      "Epoch 9/20\n",
      "1329/1329 [==============================] - 4120s 3s/step - loss: 0.0118 - categorical_accuracy: 0.9989 - val_loss: 0.2168 - val_categorical_accuracy: 0.9973\n",
      "Epoch 10/20\n",
      "1329/1329 [==============================] - 4099s 3s/step - loss: 0.0033 - categorical_accuracy: 0.9991 - val_loss: 0.2731 - val_categorical_accuracy: 0.9946\n",
      "Epoch 11/20\n",
      "1329/1329 [==============================] - 4098s 3s/step - loss: 0.0159 - categorical_accuracy: 0.9990 - val_loss: 0.2140 - val_categorical_accuracy: 0.9966\n",
      "Epoch 12/20\n",
      "1329/1329 [==============================] - 4093s 3s/step - loss: 0.0822 - categorical_accuracy: 0.9986 - val_loss: 0.1720 - val_categorical_accuracy: 0.9973\n",
      "Epoch 13/20\n",
      "1329/1329 [==============================] - 4090s 3s/step - loss: 0.0368 - categorical_accuracy: 0.9990 - val_loss: 0.2361 - val_categorical_accuracy: 0.9973\n",
      "Epoch 14/20\n",
      "1329/1329 [==============================] - 4095s 3s/step - loss: 0.0343 - categorical_accuracy: 0.9989 - val_loss: 0.4098 - val_categorical_accuracy: 0.9946\n",
      "Epoch 15/20\n",
      "1329/1329 [==============================] - 4095s 3s/step - loss: 0.0346 - categorical_accuracy: 0.9993 - val_loss: 0.4460 - val_categorical_accuracy: 0.9980\n",
      "Epoch 16/20\n",
      "1329/1329 [==============================] - 4092s 3s/step - loss: 0.0719 - categorical_accuracy: 0.9991 - val_loss: 1.1581 - val_categorical_accuracy: 0.9939\n",
      "Epoch 17/20\n",
      "1329/1329 [==============================] - 4089s 3s/step - loss: 0.0297 - categorical_accuracy: 0.9992 - val_loss: 0.3224 - val_categorical_accuracy: 0.9959\n",
      "Epoch 18/20\n",
      "1329/1329 [==============================] - 4090s 3s/step - loss: 0.0063 - categorical_accuracy: 0.9995 - val_loss: 0.3036 - val_categorical_accuracy: 0.9966\n",
      "Epoch 19/20\n",
      "1329/1329 [==============================] - 4185s 3s/step - loss: 5.9020e-04 - categorical_accuracy: 0.9997 - val_loss: 0.3035 - val_categorical_accuracy: 0.9966\n",
      "Epoch 20/20\n",
      "1329/1329 [==============================] - 4197s 3s/step - loss: 5.9766e-04 - categorical_accuracy: 0.9997 - val_loss: 0.3033 - val_categorical_accuracy: 0.9966\n"
     ]
    }
   ],
   "source": [
    "save_model = tf.keras.callbacks.ModelCheckpoint(\n",
    "    filepath='model_quality/tl-vgg16-rms-prop-model_{epoch:02d}.h5')\n",
    "\n",
    "save_weight = tf.keras.callbacks.ModelCheckpoint(\n",
    "    filepath='model_quality/tl-vgg16-rms-prop-weight_{epoch:02d}.h5',\n",
    "    save_weights_only=True)\n",
    "\n",
    "lr_schedule = keras.optimizers.schedules.ExponentialDecay(\n",
    "    initial_learning_rate=1e-2,\n",
    "    decay_steps=10000,\n",
    "    decay_rate=0.9)\n",
    "\n",
    "# rmsprop = tf.keras.optimizers.RMSprop(learning_rate=lr_schedule)\n",
    "\n",
    "model.compile(optimizer=keras.optimizers.RMSprop(learning_rate=lr_schedule),\n",
    "              loss=keras.losses.CategoricalCrossentropy(),\n",
    "              metrics=[keras.metrics.CategoricalAccuracy()])\n",
    "history = model.fit(traingen, epochs=20, validation_data= validgen,\n",
    "             callbacks=[save_model, save_weight])"
   ]
  },
  {
   "cell_type": "code",
   "execution_count": 10,
   "id": "90690dcc",
   "metadata": {},
   "outputs": [
    {
     "name": "stdout",
     "output_type": "stream",
     "text": [
      "dict_keys(['loss', 'categorical_accuracy', 'val_loss', 'val_categorical_accuracy'])\n"
     ]
    }
   ],
   "source": [
    "\n",
    "# list all data in history\n",
    "print(history.history.keys())"
   ]
  },
  {
   "cell_type": "code",
   "execution_count": 11,
   "id": "b932693a",
   "metadata": {},
   "outputs": [
    {
     "data": {
      "image/png": "[encoded data removed]",
      "text/plain": [
       "<Figure size 432x288 with 1 Axes>"
      ]
     },
     "metadata": {
      "needs_background": "light"
     },
     "output_type": "display_data"
    },
    {
     "data": {
      "image/png": "[encoded data removed]",
      "text/plain": [
       "<Figure size 432x288 with 1 Axes>"
      ]
     },
     "metadata": {
      "needs_background": "light"
     },
     "output_type": "display_data"
    }
   ],
   "source": [
    "import matplotlib.pyplot as plt\n",
    "\n",
    "# summarize history for accuracy\n",
    "plt.plot(history.history['categorical_accuracy'])\n",
    "plt.plot(history.history['val_categorical_accuracy'])\n",
    "plt.title('model accuracy')\n",
    "plt.ylabel('categorical_accuracy')\n",
    "plt.xlabel('epoch')\n",
    "plt.legend(['train', 'test'], loc='upper left')\n",
    "plt.show()\n",
    "# summarize history for loss\n",
    "plt.plot(history.history['loss'])\n",
    "plt.plot(history.history['val_loss'])\n",
    "plt.title('model loss')\n",
    "plt.ylabel('loss')\n",
    "plt.xlabel('epoch')\n",
    "plt.legend(['train', 'test'], loc='upper left')\n",
    "plt.show()"
   ]
  },
  {
   "cell_type": "code",
   "execution_count": null,
   "id": "e96dfbc6",
   "metadata": {},
   "outputs": [],
   "source": []
  },
  {
   "cell_type": "code",
   "execution_count": null,
   "id": "4b10d11e",
   "metadata": {},
   "outputs": [],
   "source": []
  },
  {
   "cell_type": "code",
   "execution_count": null,
   "id": "5b7b9b75",
   "metadata": {},
   "outputs": [],
   "source": []
  },
  {
   "cell_type": "code",
   "execution_count": null,
   "id": "de9202f1",
   "metadata": {},
   "outputs": [],
   "source": []
  },
  {
   "cell_type": "code",
   "execution_count": null,
   "id": "dbc3b4f7",
   "metadata": {},
   "outputs": [],
   "source": []
  },
  {
   "cell_type": "code",
   "execution_count": null,
   "id": "bc40cf33",
   "metadata": {},
   "outputs": [],
   "source": []
  },
  {
   "cell_type": "code",
   "execution_count": null,
   "id": "9003be83",
   "metadata": {},
   "outputs": [],
   "source": []
  },
  {
   "cell_type": "code",
   "execution_count": null,
   "id": "fde49d3b",
   "metadata": {},
   "outputs": [],
   "source": []
  },
  {
   "cell_type": "code",
   "execution_count": null,
   "id": "17d70617",
   "metadata": {},
   "outputs": [],
   "source": []
  },
  {
   "cell_type": "code",
   "execution_count": null,
   "id": "c1cc96d4",
   "metadata": {},
   "outputs": [],
   "source": []
  },
  {
   "cell_type": "code",
   "execution_count": null,
   "id": "09b0bdba",
   "metadata": {},
   "outputs": [],
   "source": []
  }
 ],
 "metadata": {
  "kernelspec": {
   "display_name": "Python 3 (ipykernel)",
   "language": "python",
   "name": "python3"
  },
  "language_info": {
   "codemirror_mode": {
    "name": "ipython",
    "version": 3
   },
   "file_extension": ".py",
   "mimetype": "text/x-python",
   "name": "python",
   "nbconvert_exporter": "python",
   "pygments_lexer": "ipython3",
   "version": "3.10.4"
  }
 },
 "nbformat": 4,
 "nbformat_minor": 5
}
