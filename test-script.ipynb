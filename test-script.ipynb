{
 "cells": [
  {
   "cell_type": "code",
   "execution_count": 1,
   "id": "ac511819",
   "metadata": {},
   "outputs": [],
   "source": [
    "import tensorflow as tf\n",
    "from tensorflow import keras"
   ]
  },
  {
   "cell_type": "code",
   "execution_count": 2,
   "id": "dae4791a",
   "metadata": {},
   "outputs": [],
   "source": [
    "modelpath= 'fruit-type-model-save/cnn_fruitstype_model.h5'\n",
    "weightpath= 'fruit-type-model-save/cnn_fruitstype_weight.h5'"
   ]
  },
  {
   "cell_type": "code",
   "execution_count": 3,
   "id": "88a09c8f",
   "metadata": {},
   "outputs": [
    {
     "name": "stderr",
     "output_type": "stream",
     "text": [
      "2022-08-07 13:56:05.979289: E tensorflow/stream_executor/cuda/cuda_driver.cc:271] failed call to cuInit: CUDA_ERROR_COMPAT_NOT_SUPPORTED_ON_DEVICE: forward compatibility was attempted on non supported HW\n",
      "2022-08-07 13:56:05.979457: I tensorflow/stream_executor/cuda/cuda_diagnostics.cc:169] retrieving CUDA diagnostic information for host: ankan\n",
      "2022-08-07 13:56:05.979489: I tensorflow/stream_executor/cuda/cuda_diagnostics.cc:176] hostname: ankan\n",
      "2022-08-07 13:56:05.979762: I tensorflow/stream_executor/cuda/cuda_diagnostics.cc:200] libcuda reported version is: 515.65.1\n",
      "2022-08-07 13:56:05.979875: I tensorflow/stream_executor/cuda/cuda_diagnostics.cc:204] kernel reported version is: 515.48.7\n",
      "2022-08-07 13:56:05.979902: E tensorflow/stream_executor/cuda/cuda_diagnostics.cc:313] kernel version 515.48.7 does not match DSO version 515.65.1 -- cannot find working devices in this configuration\n",
      "2022-08-07 13:56:05.980896: I tensorflow/core/platform/cpu_feature_guard.cc:193] This TensorFlow binary is optimized with oneAPI Deep Neural Network Library (oneDNN) to use the following CPU instructions in performance-critical operations:  AVX2 FMA\n",
      "To enable them in other operations, rebuild TensorFlow with the appropriate compiler flags.\n"
     ]
    }
   ],
   "source": [
    "model = keras.models.load_model(modelpath)"
   ]
  },
  {
   "cell_type": "code",
   "execution_count": 4,
   "id": "ac68cbb6",
   "metadata": {},
   "outputs": [
    {
     "name": "stdout",
     "output_type": "stream",
     "text": [
      "Model: \"sequential\"\n",
      "_________________________________________________________________\n",
      " Layer (type)                Output Shape              Param #   \n",
      "=================================================================\n",
      " conv2d (Conv2D)             (None, 222, 222, 32)      896       \n",
      "                                                                 \n",
      " max_pooling2d (MaxPooling2D  (None, 111, 111, 32)     0         \n",
      " )                                                               \n",
      "                                                                 \n",
      " conv2d_1 (Conv2D)           (None, 109, 109, 64)      18496     \n",
      "                                                                 \n",
      " max_pooling2d_1 (MaxPooling  (None, 54, 54, 64)       0         \n",
      " 2D)                                                             \n",
      "                                                                 \n",
      " flatten (Flatten)           (None, 186624)            0         \n",
      "                                                                 \n",
      " dense (Dense)               (None, 1024)              191104000 \n",
      "                                                                 \n",
      " dense_1 (Dense)             (None, 1)                 1025      \n",
      "                                                                 \n",
      "=================================================================\n",
      "Total params: 191,124,417\n",
      "Trainable params: 191,124,417\n",
      "Non-trainable params: 0\n",
      "_________________________________________________________________\n"
     ]
    }
   ],
   "source": [
    "model.summary()"
   ]
  },
  {
   "cell_type": "code",
   "execution_count": 5,
   "id": "e8ed92c3",
   "metadata": {},
   "outputs": [],
   "source": [
    "model.load_weights(weightpath)"
   ]
  },
  {
   "cell_type": "code",
   "execution_count": 29,
   "id": "8cf67897",
   "metadata": {},
   "outputs": [
    {
     "name": "stdout",
     "output_type": "stream",
     "text": [
      "Model: \"sequential\"\n",
      "_________________________________________________________________\n",
      " Layer (type)                Output Shape              Param #   \n",
      "=================================================================\n",
      " conv2d (Conv2D)             (None, 222, 222, 32)      896       \n",
      "                                                                 \n",
      " max_pooling2d (MaxPooling2D  (None, 111, 111, 32)     0         \n",
      " )                                                               \n",
      "                                                                 \n",
      " conv2d_1 (Conv2D)           (None, 109, 109, 64)      18496     \n",
      "                                                                 \n",
      " max_pooling2d_1 (MaxPooling  (None, 54, 54, 64)       0         \n",
      " 2D)                                                             \n",
      "                                                                 \n",
      " flatten (Flatten)           (None, 186624)            0         \n",
      "                                                                 \n",
      " dense (Dense)               (None, 1024)              191104000 \n",
      "                                                                 \n",
      " dense_1 (Dense)             (None, 1)                 1025      \n",
      "                                                                 \n",
      "=================================================================\n",
      "Total params: 191,124,417\n",
      "Trainable params: 191,124,417\n",
      "Non-trainable params: 0\n",
      "_________________________________________________________________\n"
     ]
    }
   ],
   "source": [
    "model.summary()"
   ]
  },
  {
   "cell_type": "code",
   "execution_count": 6,
   "id": "cca97760",
   "metadata": {},
   "outputs": [],
   "source": [
    "from keras.preprocessing.image import ImageDataGenerator"
   ]
  },
  {
   "cell_type": "code",
   "execution_count": 30,
   "id": "72a29012",
   "metadata": {},
   "outputs": [
    {
     "name": "stdout",
     "output_type": "stream",
     "text": [
      "Found 3691 images belonging to 2 classes.\n"
     ]
    }
   ],
   "source": [
    "parent_dir = 'fruit_data_type_processed'\n",
    "test_data_dir = f'{parent_dir}/Test'\n",
    "w,h = (224, 224)\n",
    "test_generator = ImageDataGenerator()\n",
    "testgen = test_generator.flow_from_directory(test_data_dir,\n",
    "                                             target_size=(w, h),\n",
    "                                             class_mode='binary',\n",
    "#                                              classes=class_subset,\n",
    "                                             batch_size=1,\n",
    "                                             shuffle=False,\n",
    "                                             seed=42)"
   ]
  },
  {
   "cell_type": "code",
   "execution_count": 31,
   "id": "8f981b6d",
   "metadata": {},
   "outputs": [],
   "source": [
    "num_of_test_samples = testgen.n"
   ]
  },
  {
   "cell_type": "code",
   "execution_count": 32,
   "id": "b72328f2",
   "metadata": {},
   "outputs": [],
   "source": [
    "import numpy as np"
   ]
  },
  {
   "cell_type": "code",
   "execution_count": 53,
   "id": "f707617c",
   "metadata": {},
   "outputs": [
    {
     "name": "stderr",
     "output_type": "stream",
     "text": [
      "/tmp/ipykernel_65295/3941794434.py:4: UserWarning: `Model.predict_generator` is deprecated and will be removed in a future version. Please use `Model.predict`, which supports generators.\n",
      "  Y_pred = model.predict_generator(testgen, num_of_test_samples)\n"
     ]
    },
    {
     "name": "stdout",
     "output_type": "stream",
     "text": [
      "3691\n",
      "3691\n",
      "Confusion Matrix\n",
      "[[1235  123]\n",
      " [ 200 2133]]\n",
      "Classification Report\n",
      "              precision    recall  f1-score   support\n",
      "\n",
      "         Bad       0.86      0.91      0.88      1358\n",
      "        Good       0.95      0.91      0.93      2333\n",
      "\n",
      "    accuracy                           0.91      3691\n",
      "   macro avg       0.90      0.91      0.91      3691\n",
      "weighted avg       0.91      0.91      0.91      3691\n",
      "\n"
     ]
    }
   ],
   "source": [
    "from sklearn.metrics import classification_report, confusion_matrix\n",
    "\n",
    "\n",
    "Y_pred = model.predict_generator(testgen, num_of_test_samples)\n",
    "# y_pred = np.argmax(Y_pred, axis=1)\n",
    "y_pred = np.reshape(Y_pred, (1, -1))[0].astype('int32')\n",
    "print(len(y_pred))\n",
    "print(len(testgen.classes))\n",
    "print('Confusion Matrix')\n",
    "print(confusion_matrix(testgen.classes, y_pred))\n",
    "print('Classification Report')\n",
    "target_names = ['Bad', 'Good']\n",
    "print(classification_report(testgen.classes, y_pred, target_names=target_names))\n"
   ]
  },
  {
   "cell_type": "code",
   "execution_count": null,
   "id": "5d2d5f60",
   "metadata": {},
   "outputs": [],
   "source": []
  }
 ],
 "metadata": {
  "kernelspec": {
   "display_name": "Python 3 (ipykernel)",
   "language": "python",
   "name": "python3"
  },
  "language_info": {
   "codemirror_mode": {
    "name": "ipython",
    "version": 3
   },
   "file_extension": ".py",
   "mimetype": "text/x-python",
   "name": "python",
   "nbconvert_exporter": "python",
   "pygments_lexer": "ipython3",
   "version": "3.10.4"
  }
 },
 "nbformat": 4,
 "nbformat_minor": 5
}
